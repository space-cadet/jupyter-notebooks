{
 "cells": [
  {
   "cell_type": "markdown",
   "metadata": {
    "toc": true
   },
   "source": [
    "<h1>Table of Contents<span class=\"tocSkip\"></span></h1>\n",
    "<div class=\"toc\"><ul class=\"toc-item\"><li><span><a href=\"#Reference-for-Mathematical-Expressions-and-Functions\" data-toc-modified-id=\"Reference-for-Mathematical-Expressions-and-Functions-1\"><span class=\"toc-item-num\">1&nbsp;&nbsp;</span>Reference for Mathematical Expressions and Functions</a></span><ul class=\"toc-item\"><li><span><a href=\"#Baker-Campbell-Hausdorff-(BCH)-Identity\" data-toc-modified-id=\"Baker-Campbell-Hausdorff-(BCH)-Identity-1.1\"><span class=\"toc-item-num\">1.1&nbsp;&nbsp;</span>Baker Campbell Hausdorff (BCH) Identity</a></span></li><li><span><a href=\"#Jordan-Wigner-Transformation\" data-toc-modified-id=\"Jordan-Wigner-Transformation-1.2\"><span class=\"toc-item-num\">1.2&nbsp;&nbsp;</span>Jordan-Wigner Transformation</a></span></li><li><span><a href=\"#Schmidt-Decomposition-(Singular-Value-Decomposition)\" data-toc-modified-id=\"Schmidt-Decomposition-(Singular-Value-Decomposition)-1.3\"><span class=\"toc-item-num\">1.3&nbsp;&nbsp;</span>Schmidt Decomposition (Singular Value Decomposition)</a></span></li><li><span><a href=\"#Klein-Gordon-Inner-Product\" data-toc-modified-id=\"Klein-Gordon-Inner-Product-1.4\"><span class=\"toc-item-num\">1.4&nbsp;&nbsp;</span>Klein-Gordon Inner Product</a></span><ul class=\"toc-item\"><li><span><a href=\"#SHO-Equations-of-Motion\" data-toc-modified-id=\"SHO-Equations-of-Motion-1.4.1\"><span class=\"toc-item-num\">1.4.1&nbsp;&nbsp;</span>SHO Equations of Motion</a></span></li><li><span><a href=\"#SHO-Commutation-Relations\" data-toc-modified-id=\"SHO-Commutation-Relations-1.4.2\"><span class=\"toc-item-num\">1.4.2&nbsp;&nbsp;</span>SHO Commutation Relations</a></span></li></ul></li><li><span><a href=\"#Lie-Algebras\" data-toc-modified-id=\"Lie-Algebras-1.5\"><span class=\"toc-item-num\">1.5&nbsp;&nbsp;</span>Lie Algebras</a></span><ul class=\"toc-item\"><li><ul class=\"toc-item\"><li><span><a href=\"#Lorentz-Group-$-SO(3,1)-$\" data-toc-modified-id=\"Lorentz-Group-$-SO(3,1)-$-1.5.0.1\"><span class=\"toc-item-num\">1.5.0.1&nbsp;&nbsp;</span>Lorentz Group $ SO(3,1) $</a></span></li></ul></li></ul></li><li><span><a href=\"#Many-Body-Hamiltonians\" data-toc-modified-id=\"Many-Body-Hamiltonians-1.6\"><span class=\"toc-item-num\">1.6&nbsp;&nbsp;</span>Many-Body Hamiltonians</a></span><ul class=\"toc-item\"><li><span><a href=\"#Hubbard-Model\" data-toc-modified-id=\"Hubbard-Model-1.6.1\"><span class=\"toc-item-num\">1.6.1&nbsp;&nbsp;</span>Hubbard Model</a></span></li><li><span><a href=\"#Ising-Model\" data-toc-modified-id=\"Ising-Model-1.6.2\"><span class=\"toc-item-num\">1.6.2&nbsp;&nbsp;</span>Ising Model</a></span></li><li><span><a href=\"#Spin-Glass\" data-toc-modified-id=\"Spin-Glass-1.6.3\"><span class=\"toc-item-num\">1.6.3&nbsp;&nbsp;</span>Spin-Glass</a></span></li><li><span><a href=\"#Heisenberg-Spin-Chain\" data-toc-modified-id=\"Heisenberg-Spin-Chain-1.6.4\"><span class=\"toc-item-num\">1.6.4&nbsp;&nbsp;</span>Heisenberg Spin-Chain</a></span></li><li><span><a href=\"#Majumdar-Ghosh-Spin-Chain\" data-toc-modified-id=\"Majumdar-Ghosh-Spin-Chain-1.6.5\"><span class=\"toc-item-num\">1.6.5&nbsp;&nbsp;</span>Majumdar-Ghosh Spin Chain</a></span></li><li><span><a href=\"#AKLT-(Affleck-Kennedy-Lieb-Tasaki)-Model\" data-toc-modified-id=\"AKLT-(Affleck-Kennedy-Lieb-Tasaki)-Model-1.6.6\"><span class=\"toc-item-num\">1.6.6&nbsp;&nbsp;</span>AKLT (Affleck-Kennedy-Lieb-Tasaki) Model</a></span></li></ul></li></ul></li></ul></div>"
   ]
  },
  {
   "cell_type": "markdown",
   "metadata": {},
   "source": [
    "# Mathjax custom macros <a class=\"tocSkip\">\n",
    "\n",
    "$ \\newcommand{\\opexpect}[3]{\\langle #1 \\vert #2 \\vert #3 \\rangle} $\n",
    "$ \\newcommand{\\rarrow}{\\rightarrow} $\n",
    "$ \\newcommand{\\bra}{\\langle} $\n",
    "$ \\newcommand{\\ket}{\\rangle} $\n",
    "\n",
    "$ \\newcommand{\\up}{\\uparrow} $\n",
    "$ \\newcommand{\\down}{\\downarrow} $\n",
    "\n",
    "$ \\newcommand{\\mb}[1]{\\mathbf{#1}} $\n",
    "$ \\newcommand{\\mc}[1]{\\mathcal{#1}} $\n",
    "$ \\newcommand{\\mbb}[1]{\\mathbb{#1}} $\n",
    "$ \\newcommand{\\mf}[1]{\\mathfrak{#1}} $\n",
    "\n",
    "$ \\newcommand{\\vect}[1]{\\boldsymbol{\\mathrm{#1}}} $\n",
    "$ \\newcommand{\\expect}[1]{\\langle #1\\rangle} $\n",
    "\n",
    "$ \\newcommand{\\innerp}[2]{\\langle #1 \\vert #2 \\rangle} $\n",
    "$ \\newcommand{\\fullbra}[1]{\\langle #1 \\vert} $\n",
    "$ \\newcommand{\\fullket}[1]{\\vert #1 \\rangle} $\n",
    "$ \\newcommand{\\supersc}[1]{^{\\text{#1}}} $\n",
    "$ \\newcommand{\\subsc}[1]{_{\\text{#1}}} $\n",
    "$ \\newcommand{\\sltwoc}{SL(2,\\mathbb{C})} $\n",
    "$ \\newcommand{\\sltwoz}{SL(2,\\mathbb{Z})} $\n",
    "\n",
    "$ \\newcommand{\\utilde}[1]{\\underset{\\sim}{#1}} $"
   ]
  },
  {
   "cell_type": "markdown",
   "metadata": {},
   "source": [
    "# Reference for Mathematical Expressions and Functions"
   ]
  },
  {
   "cell_type": "markdown",
   "metadata": {},
   "source": [
    "## Baker Campbell Hausdorff (BCH) Identity"
   ]
  },
  {
   "cell_type": "markdown",
   "metadata": {},
   "source": [
    "Given two operators $X, Y$,"
   ]
  },
  {
   "cell_type": "markdown",
   "metadata": {},
   "source": [
    "## Jordan-Wigner Transformation\n",
    "\n",
    "Given a n-qubit system, with Pauli operator $ X_i, Y_i, Z_i $ acting on each qubit, we can define a set of ***fermionic*** operators $ \\{a_j\\} $\n",
    "\n",
    "$$ a_j = -\\left(\\otimes_{i=1}^{j-1} Z_i \\right) \\otimes \\sigma_j $$\n",
    "\n",
    "The function `jordanWignerDestroyI(i,N)` returns the fermionic destruction operator $a_i$ for the $i^\\text{th}$ site of a N-site qubit chain. \n"
   ]
  },
  {
   "cell_type": "markdown",
   "metadata": {},
   "source": [
    "## Schmidt Decomposition (Singular Value Decomposition)\n",
    "\n",
    "We need to be able to perform the following tests:\n",
    "\n",
    "1. Determine whether a given state is entangled or not\n",
    "2. Determine whether a given density matrix represents a pure or a mixed state\n",
    "\n",
    "In order to test of entanglement, we can use the Schmidt decomposition or the Singular Value Decomposition (SVD). Numpy implements the SVD in the module numpy.linalg.svd, which given a matrix $A$ as argument, returns the SVD of $A$, in the form of two unitary matrices $U$, $V$ and a diagonal matrix $S$:\n",
    "\n",
    "$$ A = U \\cdot S \\cdot V $$\n",
    "\n",
    "Since $S$ is diagonal ($S_{ij} \\equiv s_i \\delta_{ij}$), the elements of $A$ can be written as:\n",
    "\n",
    "\\begin{align}\n",
    "A_{ij} & = U_{ik} \\cdot S_{km} \\cdot V_{mj} \\\\\n",
    "       & = U_{ik} \\cdot s_k \\delta_{km} \\cdot V_{mj} \\\\\n",
    "       & = s_k U_{ik} V_{kj}\n",
    "\\end{align}\n",
    "\n",
    "$$  $$\n",
    "\n",
    " Construct entangled state:\n",
    "$$ \\fullket{\\psi} = \\frac{1}{\\sqrt{2}} ( \\fullket{00} + \\fullket{11} ) $$\n",
    "\n",
    "The state $\\fullket{\\psi}$ can be written in the form:\n",
    "$$ \\psi = \\alpha_{ij} u_i \\otimes v_j $$\n",
    "where $u_i, v_i \\in \\{\\fullket{0},\\fullket{1}\\}$ are basis vectors for the two Hilbert spaces $H_1$ and $H_2$. For the given state, the matrix $\\alpha_{ij}$ has the form:\n",
    "\n",
    "$$ \n",
    "\\alpha = \\begin{pmatrix} 0.707 & 0 \\\\\n",
    "                         0     & 0.707 \\end{pmatrix}\n",
    "$$\n",
    "\n",
    "If $\\fullket{\\psi}$ is **not** entangled then in the SVD of the matrix $\\alpha_{ij}$:\n",
    "$$ \\alpha = U \\, S \\, V $$\n",
    "the diagonal matrix $S$ will have only one non-zero element."
   ]
  },
  {
   "cell_type": "markdown",
   "metadata": {},
   "source": [
    "## Klein-Gordon Inner Product\n",
    "\n",
    "Reference: [Jacobson: Intro to QFT in CS and Hawking Effect](https://arxiv.org/abs/gr-qc/0308048v3)"
   ]
  },
  {
   "cell_type": "markdown",
   "metadata": {},
   "source": [
    "### SHO Equations of Motion\n",
    "\n",
    "Given a harmonic oscillator described by a Lagrangian and action:\n",
    "$$ L = \\frac{1}{2} m \\dot x^2 - V(x,t); \\qquad S = \\int dt \\, L $$\n",
    "The operators for position ($\\hat x(t)$) and velocity ($\\hat{\\dot x(t)}$), satisfy the commutation relation:\n",
    "\n",
    "$$ \\left[ \\hat x(t), \\hat{\\dot{x}}(t) \\right] = i\\hbar/m $$\n",
    "\n",
    "They also satisfy the e.o.m:\n",
    "\n",
    "$$ \\ddot x + \\omega^2(t) x = 0 $$\n",
    "\n",
    "where we have omitted hats from the operators. Note that for a general time-dependent potential $V(x,t)$, the mode frequencies $\\omega(t)$ in the above equation are also time-dependent! Therefore solutions of the e.o.m cannot be written down directly but require integration over time.\n",
    "\n",
    "Solutions to this equation can be written in terms of a complex function $f(t)$ and an operator $a$:\n",
    "\n",
    "$$ x(t) = f(t) a + \\bar f(t) a^\\dagger; \\qquad \\dot x(t) = \\dot f(t) a + \\dot {\\bar f}(t) a^\\dagger $$\n",
    "\n",
    "where $f(t)$ satisfies the classical e.o.m:\n",
    "\n",
    "$$ \\ddot f + \\omega^2(t) f = 0 $$"
   ]
  },
  {
   "cell_type": "markdown",
   "metadata": {},
   "source": [
    "### SHO Commutation Relations\n",
    "\n",
    "The commutation relations between the position and velocity operators can then be written in the form:\n",
    "\n",
    "\\begin{align}\n",
    "    \\left[ \\hat x(t), \\hat{\\dot{x}}(t) \\right] & = \\left[ f(t) a + \\bar f(t) a^\\dagger, \\dot f(t) a + \\dot {\\bar f}(t) a^\\dagger \\right] \\\\\n",
    "    & = \\left( f(t)\\dot{\\bar f}(t) - \\bar f(t) \\dot f(t) \\right) [a,a^\\dagger] \\\\\n",
    "    & = i \\hbar/m\n",
    "\\end{align}\n",
    "\n",
    "Multiplying the second line by $-i m/\\hbar $, we can write the commutation relation in the form:\n",
    "\n",
    "\\begin{align}\n",
    "    \\left< f, f \\right> [a, a^\\dagger] = 1\n",
    "\\end{align}\n",
    "\n",
    "where:\n",
    "\n",
    "\\begin{align}\n",
    "    \\left< f, g \\right> = (im/\\hbar) \\left( \\bar f \\partial_t g - (\\partial_t \\bar f)g \\right)\n",
    "\\end{align}\n",
    "\n",
    "is the **Klein-Gordon inner product**."
   ]
  },
  {
   "cell_type": "markdown",
   "metadata": {},
   "source": [
    "## Lie Algebras"
   ]
  },
  {
   "cell_type": "markdown",
   "metadata": {},
   "source": [
    "#### Lorentz Group $ SO(3,1) $\n",
    "\n"
   ]
  },
  {
   "cell_type": "markdown",
   "metadata": {
    "collapsed": true
   },
   "source": [
    "## Many-Body Hamiltonians"
   ]
  },
  {
   "cell_type": "markdown",
   "metadata": {
    "collapsed": true
   },
   "source": [
    "### Hubbard Model\n",
    "\n",
    "$$ H = -J \\sum_{<i,j>\\sigma} c^\\dagger_{i\\sigma} c_{j\\sigma} + U \\sum_i n_{i\\uparrow}n_{j\\downarrow} - \\mu \\sum_i (n_{i\\uparrow} + n_{i\\downarrow}) $$\n",
    "\n",
    "where $<i,j>$ denotes sum over nearest neighbors and $n_{i\\sigma} = c^\\dagger_{i\\sigma} c_{i\\sigma}$ is the number operator at a given site $i$ for a given spin $\\sigma$.\n"
   ]
  },
  {
   "cell_type": "markdown",
   "metadata": {},
   "source": [
    "### Ising Model\n",
    "\n",
    "$$ H = - J \\sum_{<i,j>\\sigma}\\sigma^z_i \\sigma^z_j - \\mu \\sum_i h_i \\sigma^z_i$$\n",
    "where:\n",
    "\\begin{align*}\n",
    "    \\sigma^z_i & & z \\text{ component of the spin-operator } \\vect{\\sigma}_i = (\\sigma_x, \\sigma_y, \\sigma_z) \\text{ acting on the } i{}^{th} \\text{site} \\\\\n",
    "    J & & \\text{Coupling strength between nearest neighbors}\\\\\n",
    "    h_i    & & \\text{external magnetic field at site } i \\\\\n",
    "    \\mu    & & \\text{Coupling strength between external magnetic field and lattice}\n",
    "\\end{align*}\n"
   ]
  },
  {
   "cell_type": "markdown",
   "metadata": {},
   "source": [
    "### Spin-Glass\n",
    "\n",
    "The only difference between the Ising and Spin-Glass model is that in the latter the spin-spin coupling is allowed to be vary over the lattice. All other parameters remain the same as in the Ising model.\n",
    "\n",
    "$$ H = - \\sum_{<i,j>\\sigma} J_{ij} \\sigma^z_i \\sigma^z_j - \\mu \\sum_i h_i \\sigma^z_i$$\n",
    "where:\n",
    "\\begin{align*}\n",
    "    J_{ij} & & \\text{Coupling strength between spins at sites } i,j\n",
    "\\end{align*}\n"
   ]
  },
  {
   "cell_type": "markdown",
   "metadata": {},
   "source": [
    "### Heisenberg Spin-Chain\n",
    "\n",
    "operator corresponding to the Heisenberg 1D spin-chain on N sites.\n",
    "$$ H = - J \\sum_{i=1}^N \\vect{S}_n \\cdot \\vect{S}_{n+1} $$\n",
    "where $ \\vect{S}_n = (S_x, S_y, S_z) $ is the spin-operator acting on the n${}^{th}$ site.\n",
    "\n",
    "for the n${}^{th}$ term in the sum, we have:\n",
    "\n",
    "$$ H_n = -J ( S_n^x S_{n+1}^x + S_n^y S_{n+1}^y + S_n^z S_{n+1}^z ) $$\n",
    "\n",
    "$S^x, S^y$ can be expressed in terms of the spin-flip operators $S^+, S^-$, as in:\n",
    "\n",
    "$$ S^x = \\frac{1}{2}(S^+ + S^-); \\qquad S^y = \\frac{1}{2i}(S^+ - S^-) $$\n",
    "\n",
    "Consequently the terms involving $S^x, S^y$ in $H_n$ take the form:\n",
    "\n",
    "\\begin{align}\n",
    "    S_n^x S_{n+1}^x + S_n^y S_{n+1}^y & = \\frac{1}{4}(S_n^+ + S_n^-) (S_{n+1}^+ + S_{n+1}^-) - \\frac{1}{4}(S_n^+ - S_n^-) (S_{n+1}^+ - S_{n+1}^-) \\\\\n",
    "            & = \\frac{1}{2} (S_n^+ S_{n+1}^- + S_n^- S_{n+1}^+)\n",
    "\\end{align}\n",
    "\n",
    "So that, the total Hamiltonian becomes:\n",
    "\n",
    "$$ H = -J \\sum_{i=1}^N \\left[ \\frac{1}{2} (S_n^+ S_{n+1}^- + S_n^- S_{n+1}^+) + S_n^z S_{n+1}^z \\right] $$"
   ]
  },
  {
   "cell_type": "markdown",
   "metadata": {},
   "source": [
    "### Majumdar-Ghosh Spin Chain\n",
    "\n",
    "Reference: [Majumdar–Ghosh model](https://en.wikipedia.org/wiki/Majumdar%E2%80%93Ghosh_model)\n",
    "\n",
    "The Hamiltonian of the Majumdar-Ghosh Model is identical to that of the Heisenberg model, with an addition next-nearest neighbor interaction:\n",
    "\n",
    "$$ H = J \\sum_{i=1}^N \\vect{S}_n \\cdot \\vect{S}_{n+1} + \\frac{J}{2}\\sum_{i=1}^N \\vect{S}_n \\cdot \\vect{S}_{n+2} $$\n",
    "\n",
    "In the limit of infinite system size ($N\\rightarrow \\infty$), the MG Model has two ground states related to each other by a single translation along the lattice. Each state can be written as a product of entangled spin-singlets of pairs of neighboring spins:\n",
    "\n",
    "$$ \\fullket{\\psi} = \\frac{1}{\\sqrt{2}} \\left( \\fullket{\\up\\down} - \\fullket{\\down\\up} \\right) $$"
   ]
  },
  {
   "cell_type": "markdown",
   "metadata": {},
   "source": [
    "### AKLT (Affleck-Kennedy-Lieb-Tasaki) Model\n",
    "\n",
    "$$ H = J \\sum_{i=1}^N \\left[ \\vect{S}_n \\cdot \\vect{S}_{n+1} + \\frac{1}{3} \\left( \\vect{S}_n \\cdot \\vect{S}_{n+1}\\right)^2 \\right]  $$"
   ]
  },
  {
   "cell_type": "markdown",
   "metadata": {},
   "source": [
    "### Toric Code\n",
    "\n"
   ]
  },
  {
   "cell_type": "code",
   "execution_count": null,
   "metadata": {
    "collapsed": true
   },
   "outputs": [],
   "source": []
  }
 ],
 "metadata": {
  "kernelspec": {
   "display_name": "Python 3",
   "language": "python",
   "name": "python3"
  },
  "language_info": {
   "codemirror_mode": {
    "name": "ipython",
    "version": 3
   },
   "file_extension": ".py",
   "mimetype": "text/x-python",
   "name": "python",
   "nbconvert_exporter": "python",
   "pygments_lexer": "ipython3",
   "version": "3.6.6"
  },
  "latex_envs": {
   "LaTeX_envs_menu_present": true,
   "autoclose": true,
   "autocomplete": true,
   "bibliofile": "biblio.bib",
   "cite_by": "apalike",
   "current_citInitial": 1,
   "eqLabelWithNumbers": true,
   "eqNumInitial": 0,
   "hotkeys": {
    "equation": "Ctrl-E",
    "itemize": "Ctrl-I"
   },
   "labels_anchors": false,
   "latex_user_defs": false,
   "report_style_numbering": true,
   "user_envs_cfg": false
  },
  "toc": {
   "base_numbering": 1,
   "nav_menu": {},
   "number_sections": true,
   "sideBar": false,
   "skip_h1_title": false,
   "title_cell": "Table of Contents",
   "title_sidebar": "Contents",
   "toc_cell": true,
   "toc_position": {
    "height": "336px",
    "left": "856.367px",
    "right": "19.6333px",
    "top": "120px",
    "width": "400px"
   },
   "toc_section_display": false,
   "toc_window_display": true
  },
  "varInspector": {
   "cols": {
    "lenName": 16,
    "lenType": 16,
    "lenVar": 40
   },
   "kernels_config": {
    "python": {
     "delete_cmd_postfix": "",
     "delete_cmd_prefix": "del ",
     "library": "var_list.py",
     "varRefreshCmd": "print(var_dic_list())"
    },
    "r": {
     "delete_cmd_postfix": ") ",
     "delete_cmd_prefix": "rm(",
     "library": "var_list.r",
     "varRefreshCmd": "cat(var_dic_list()) "
    }
   },
   "types_to_exclude": [
    "module",
    "function",
    "builtin_function_or_method",
    "instance",
    "_Feature"
   ],
   "window_display": false
  }
 },
 "nbformat": 4,
 "nbformat_minor": 1
}
