{
 "cells": [
  {
   "cell_type": "markdown",
   "metadata": {},
   "source": [
    "### Number Partitioning Problem"
   ]
  },
  {
   "cell_type": "markdown",
   "metadata": {},
   "source": [
    "As shown in DeRaedt2001Number [arXiv:quant-ph/0010018](http://arxiv.org/abs/quant-ph/0010018), the problem of solving the so-called \"m\"-degeneracy in the Black Hole Entropy calculation in LQG, can be mapped to the problem of finding the ground states of the following Hamiltonian for a 1D spin-chain:\n",
    "$$ H = \\Delta - \\sum_{j=1}^n a_j \\sigma_j^z $$\n",
    "where $ \\{a_j\\} $ are a set of $n$ positive integers, which we wish to partition into two disjoint sets $A_1$ and $A_2$, such that:\n",
    "$$ \\vert \\sum_{a_j \\in A_1} a_j - \\sum_{a_j \\in A_2} a_j \\vert \\le \\Delta $$\n",
    "\n",
    "In order to find the ground states of $H$, we will use the Python based library [QuTip](http://qutip.org)"
   ]
  },
  {
   "cell_type": "code",
   "execution_count": 2,
   "metadata": {
    "collapsed": true
   },
   "outputs": [],
   "source": [
    "%matplotlib inline\n",
    "import sys\n",
    "import matplotlib.pyplot as plt\n",
    "import numpy as np\n",
    "from qutip import *"
   ]
  },
  {
   "cell_type": "code",
   "execution_count": 3,
   "metadata": {},
   "outputs": [],
   "source": [
    "def setupHamiltonian(N, a_list, delta=0):\n",
    "    '''Function takes three arguments, N the number of spins, a_list a list of N non-negative\n",
    "    integers, and the parameter delta (which defaults to 0) and returns a 2**N dimensional\n",
    "    matrix object representing the Hamiltonian of the system.'''\n",
    "    if (not isinstance(N, (int, np.integer))) or N < 1:\n",
    "        raise ValueError(\"N must be positive integer N >= 1\")\n",
    "    \n",
    "    if (not isinstance(a_list, (list,np.ndarray))):\n",
    "        raise ValueError(\"a_list must be a list\")\n",
    "        \n",
    "    if (not len(a_list)==N):\n",
    "        raise ValueError(\"a_list must be list of length N\")\n",
    "        \n",
    "    for n in range(N):\n",
    "        if (not isinstance(a_list[n], (int, np.integer))) or a_list[n] <= 0:\n",
    "            raise ValueError(\"All elements of a_list must be positive, non-zero integers\")\n",
    "    \n",
    "    si = qeye(2)\n",
    "    sz = sigmaz()\n",
    "    \n",
    "    # setup identity operator\n",
    "    id_op = tensor([si for n in range(N)])\n",
    "    sz_list = []\n",
    "    \n",
    "    for n in range(N):\n",
    "        op_list = []\n",
    "        \n",
    "        # Create list of identity operators for all N sites\n",
    "        for m in range(N):\n",
    "            op_list.append(si)\n",
    "\n",
    "        # Set the n^th item of the operator list to sigmaz  \n",
    "        op_list[n] = a_list[n]*sz\n",
    "        \n",
    "        # take the tensor product of all the operators in the operator list and append\n",
    "        # to the sigmax operator list\n",
    "        sz_list.append(tensor(op_list))\n",
    "    \n",
    "    H = 0\n",
    "        \n",
    "    H += delta * id_op\n",
    "    \n",
    "    H += tensor(op_list)\n",
    "    \n",
    "#    print H\n",
    "    \n",
    "    return H"
   ]
  },
  {
   "cell_type": "code",
   "execution_count": 89,
   "metadata": {},
   "outputs": [
    {
     "data": {
      "text/plain": [
       "array([ 1.,  1.,  1.,  1.,  1.,  1.,  1.,  1.,  1.,  1.])"
      ]
     },
     "execution_count": 89,
     "metadata": {},
     "output_type": "execute_result"
    }
   ],
   "source": [
    "np.ones(10)"
   ]
  },
  {
   "cell_type": "code",
   "execution_count": 90,
   "metadata": {
    "collapsed": true
   },
   "outputs": [],
   "source": [
    "np.ndarray?"
   ]
  },
  {
   "cell_type": "code",
   "execution_count": 4,
   "metadata": {},
   "outputs": [],
   "source": [
    "H = setupHamiltonian(10,np.ones(10,dtype=np.integer),delta=2)"
   ]
  },
  {
   "cell_type": "code",
   "execution_count": 7,
   "metadata": {},
   "outputs": [
    {
     "data": {
      "text/plain": [
       "array([ 1.,  1.,  1., ...,  3.,  3.,  3.])"
      ]
     },
     "execution_count": 7,
     "metadata": {},
     "output_type": "execute_result"
    }
   ],
   "source": [
    "H.eigenenergies()"
   ]
  },
  {
   "cell_type": "code",
   "execution_count": 8,
   "metadata": {
    "collapsed": true
   },
   "outputs": [],
   "source": [
    "evect1 = H.eigenstates(eigvals=1)"
   ]
  },
  {
   "cell_type": "code",
   "execution_count": 9,
   "metadata": {},
   "outputs": [],
   "source": [
    "evectarr = evect1[1][0].full()"
   ]
  },
  {
   "cell_type": "code",
   "execution_count": 10,
   "metadata": {},
   "outputs": [
    {
     "data": {
      "text/plain": [
       "array([[ 0.+0.j],\n",
       "       [ 0.+0.j],\n",
       "       [ 0.+0.j],\n",
       "       ..., \n",
       "       [ 0.+0.j],\n",
       "       [ 0.+0.j],\n",
       "       [ 1.+0.j]])"
      ]
     },
     "execution_count": 10,
     "metadata": {},
     "output_type": "execute_result"
    }
   ],
   "source": [
    "evectarr"
   ]
  },
  {
   "cell_type": "code",
   "execution_count": 126,
   "metadata": {},
   "outputs": [],
   "source": [
    "H.eigenstates?"
   ]
  },
  {
   "cell_type": "code",
   "execution_count": 99,
   "metadata": {
    "collapsed": true
   },
   "outputs": [],
   "source": [
    "from IPython.display import Latex"
   ]
  },
  {
   "cell_type": "code",
   "execution_count": 103,
   "metadata": {},
   "outputs": [
    {
     "data": {
      "text/latex": [
       "$\\uparrow$"
      ],
      "text/plain": [
       "<IPython.core.display.Latex object>"
      ]
     },
     "execution_count": 103,
     "metadata": {},
     "output_type": "execute_result"
    }
   ],
   "source": [
    "Latex(r'$\\uparrow$')"
   ]
  },
  {
   "cell_type": "code",
   "execution_count": 139,
   "metadata": {},
   "outputs": [
    {
     "data": {
      "text/plain": [
       "array([ 0.,  1.,  1.,  0.,  1.,  0.,  0.,  1.,  0.,  1.])"
      ]
     },
     "execution_count": 139,
     "metadata": {},
     "output_type": "execute_result"
    }
   ],
   "source": [
    "vals = np.zeros(10)\n",
    "for n in range(10):\n",
    "    if np.random.random() > 0.5:\n",
    "        vals[n] = 1\n",
    "    else:\n",
    "        vals[n] = 0\n",
    "vals"
   ]
  },
  {
   "cell_type": "code",
   "execution_count": 167,
   "metadata": {},
   "outputs": [
    {
     "name": "stdout",
     "output_type": "stream",
     "text": [
      "$\\uparrow\\downarrow\\downarrow\\uparrow\\downarrow\\uparrow\\uparrow\\downarrow\\uparrow\\downarrow$\n"
     ]
    }
   ],
   "source": [
    "latex_vals = r'$'\n",
    "for n in range(10):\n",
    "    if vals[n] == 0:\n",
    "        latex_vals += r'\\uparrow'\n",
    "    else:\n",
    "        latex_vals += r'\\downarrow'\n",
    "latex_vals += r'$'\n",
    "\n",
    "print latex_vals"
   ]
  },
  {
   "cell_type": "code",
   "execution_count": 168,
   "metadata": {},
   "outputs": [
    {
     "data": {
      "text/latex": [
       "$\\uparrow\\downarrow\\downarrow\\uparrow\\downarrow\\uparrow\\uparrow\\downarrow\\uparrow\\downarrow$"
      ],
      "text/plain": [
       "<IPython.core.display.Latex object>"
      ]
     },
     "execution_count": 168,
     "metadata": {},
     "output_type": "execute_result"
    }
   ],
   "source": [
    "Latex(latex_vals)"
   ]
  },
  {
   "cell_type": "code",
   "execution_count": 6,
   "metadata": {},
   "outputs": [
    {
     "data": {
      "text/plain": [
       "(<matplotlib.figure.Figure at 0x107f4cac8>,\n",
       " <matplotlib.axes._subplots.AxesSubplot at 0x107f68eb8>)"
      ]
     },
     "execution_count": 6,
     "metadata": {},
     "output_type": "execute_result"
    },
    {
     "data": {
      "image/png": "[encoded data removed]",
      "text/plain": [
       "<matplotlib.figure.Figure at 0x107f4cac8>"
      ]
     },
     "metadata": {},
     "output_type": "display_data"
    }
   ],
   "source": [
    "plot_energy_levels([H], show_ylabels=True)"
   ]
  },
  {
   "cell_type": "code",
   "execution_count": 44,
   "metadata": {},
   "outputs": [
    {
     "name": "stdout",
     "output_type": "stream",
     "text": [
      "[Quantum object: dims = [[2, 2, 2], [2, 2, 2]], shape = [8, 8], type = oper, isherm = True\n",
      "Qobj data =\n",
      "[[ 1.  0.  0.  0.  0.  0.  0.  0.]\n",
      " [ 0.  1.  0.  0.  0.  0.  0.  0.]\n",
      " [ 0.  0.  1.  0.  0.  0.  0.  0.]\n",
      " [ 0.  0.  0.  1.  0.  0.  0.  0.]\n",
      " [ 0.  0.  0.  0. -1.  0.  0.  0.]\n",
      " [ 0.  0.  0.  0.  0. -1.  0.  0.]\n",
      " [ 0.  0.  0.  0.  0.  0. -1.  0.]\n",
      " [ 0.  0.  0.  0.  0.  0.  0. -1.]], Quantum object: dims = [[2, 2, 2], [2, 2, 2]], shape = [8, 8], type = oper, isherm = True\n",
      "Qobj data =\n",
      "[[ 1.  0.  0.  0.  0.  0.  0.  0.]\n",
      " [ 0.  1.  0.  0.  0.  0.  0.  0.]\n",
      " [ 0.  0. -1.  0.  0.  0.  0.  0.]\n",
      " [ 0.  0.  0. -1.  0.  0.  0.  0.]\n",
      " [ 0.  0.  0.  0.  1.  0.  0.  0.]\n",
      " [ 0.  0.  0.  0.  0.  1.  0.  0.]\n",
      " [ 0.  0.  0.  0.  0.  0. -1.  0.]\n",
      " [ 0.  0.  0.  0.  0.  0.  0. -1.]], Quantum object: dims = [[2, 2, 2], [2, 2, 2]], shape = [8, 8], type = oper, isherm = True\n",
      "Qobj data =\n",
      "[[ 1.  0.  0.  0.  0.  0.  0.  0.]\n",
      " [ 0. -1.  0.  0.  0.  0.  0.  0.]\n",
      " [ 0.  0.  1.  0.  0.  0.  0.  0.]\n",
      " [ 0.  0.  0. -1.  0.  0.  0.  0.]\n",
      " [ 0.  0.  0.  0.  1.  0.  0.  0.]\n",
      " [ 0.  0.  0.  0.  0. -1.  0.  0.]\n",
      " [ 0.  0.  0.  0.  0.  0.  1.  0.]\n",
      " [ 0.  0.  0.  0.  0.  0.  0. -1.]]]\n"
     ]
    }
   ],
   "source": [
    "# testing area\n",
    "\n",
    "N = 3\n",
    "si = qeye(2)\n",
    "sz = sigmaz()\n",
    "\n",
    "sz_list = []\n",
    "\n",
    "# Create list of identity operators for all N sites\n",
    "for n in range(N):\n",
    "    op_list = []\n",
    "    for m in range(N):\n",
    "        op_list.append(si)\n",
    "\n",
    "    # Set the n^th item of the operator list to sigmaz  \n",
    "    op_list[n] = sz\n",
    "    \n",
    "    sz_list.append(tensor(op_list))\n",
    "\n",
    "print sz_list"
   ]
  }
 ],
 "metadata": {
  "kernelspec": {
   "display_name": "Python 3",
   "language": "python",
   "name": "python3"
  },
  "language_info": {
   "codemirror_mode": {
    "name": "ipython",
    "version": 3
   },
   "file_extension": ".py",
   "mimetype": "text/x-python",
   "name": "python",
   "nbconvert_exporter": "python",
   "pygments_lexer": "ipython3",
   "version": "3.6.2"
  },
  "latex_envs": {
   "bibliofile": "biblio.bib",
   "cite_by": "apalike",
   "current_citInitial": 1,
   "eqLabelWithNumbers": true,
   "eqNumInitial": 0
  }
 },
 "nbformat": 4,
 "nbformat_minor": 1
}
