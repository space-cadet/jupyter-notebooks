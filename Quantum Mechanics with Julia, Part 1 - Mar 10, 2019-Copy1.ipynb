{
 "cells": [
  {
   "cell_type": "markdown",
   "metadata": {},
   "source": [
    "# 2D WavePacket Scattering From Gaussian Potential\n",
    "\n",
    "Reference: https://qojulia.org/documentation/examples/wavepacket2D.html"
   ]
  },
  {
   "cell_type": "code",
   "execution_count": 2,
   "metadata": {},
   "outputs": [
    {
     "name": "stderr",
     "output_type": "stream",
     "text": [
      "┌ Info: Precompiling PyPlot [d330b81b-6aea-500a-939a-2ce795aea3ee]\n",
      "└ @ Base loading.jl:1186\n",
      "┌ Info: Installing matplotlib via the Conda matplotlib package...\n",
      "└ @ PyCall /Users/deepak/.julia/packages/PyCall/RQjD7/src/PyCall.jl:698\n",
      "┌ Info: Running `conda install -y matplotlib` in root environment\n",
      "└ @ Conda /Users/deepak/.julia/packages/Conda/CpuvI/src/Conda.jl:112\n"
     ]
    },
    {
     "name": "stdout",
     "output_type": "stream",
     "text": [
      "Collecting package metadata: ...working... done\n",
      "Solving environment: ...working... done\n",
      "\n",
      "## Package Plan ##\n",
      "\n",
      "  environment location: /Users/deepak/.julia/conda/3\n",
      "\n",
      "  added / updated specs:\n",
      "    - matplotlib\n",
      "\n",
      "\n",
      "The following packages will be downloaded:\n",
      "\n",
      "    package                    |            build\n",
      "    ---------------------------|-----------------\n",
      "    cycler-0.10.0              |           py37_0          14 KB\n",
      "    freetype-2.9.1             |       hb4e5f40_0         864 KB\n",
      "    kiwisolver-1.0.1           |   py37h0a44026_0          56 KB\n",
      "    libpng-1.6.36              |       ha441bb4_0         296 KB\n",
      "    matplotlib-3.0.2           |   py37h54f8f79_0         6.5 MB\n",
      "    pyparsing-2.3.1            |           py37_0         105 KB\n",
      "    python-dateutil-2.8.0      |           py37_0         281 KB\n",
      "    pytz-2018.9                |           py37_0         268 KB\n",
      "    tornado-5.1.1              |   py37h1de35cc_0         661 KB\n",
      "    ------------------------------------------------------------\n",
      "                                           Total:         9.0 MB\n",
      "\n",
      "The following NEW packages will be INSTALLED:\n",
      "\n",
      "  cycler             pkgs/main/osx-64::cycler-0.10.0-py37_0\n",
      "  freetype           pkgs/main/osx-64::freetype-2.9.1-hb4e5f40_0\n",
      "  kiwisolver         pkgs/main/osx-64::kiwisolver-1.0.1-py37h0a44026_0\n",
      "  libpng             pkgs/main/osx-64::libpng-1.6.36-ha441bb4_0\n",
      "  matplotlib         pkgs/main/osx-64::matplotlib-3.0.2-py37h54f8f79_0\n",
      "  pyparsing          pkgs/main/osx-64::pyparsing-2.3.1-py37_0\n",
      "  python-dateutil    pkgs/main/osx-64::python-dateutil-2.8.0-py37_0\n",
      "  pytz               pkgs/main/osx-64::pytz-2018.9-py37_0\n",
      "  tornado            pkgs/main/osx-64::tornado-5.1.1-py37h1de35cc_0\n",
      "\n",
      "\n",
      "\n",
      "Downloading and Extracting Packages\n",
      "pyparsing-2.3.1      | 105 KB    | ########## | 100% \n",
      "pytz-2018.9          | 268 KB    | ########## | 100% \n",
      "cycler-0.10.0        | 14 KB     | ########## | 100% \n",
      "tornado-5.1.1        | 661 KB    | ########## | 100% \n",
      "matplotlib-3.0.2     | 6.5 MB    | ########## | 100% \n",
      "freetype-2.9.1       | 864 KB    | ########## | 100% \n",
      "python-dateutil-2.8. | 281 KB    | ########## | 100% \n",
      "kiwisolver-1.0.1     | 56 KB     | ########## | 100% \n",
      "libpng-1.6.36        | 296 KB    | ########## | 100% \n",
      "Preparing transaction: ...working... done\n",
      "Verifying transaction: ...working... done\n",
      "Executing transaction: ...working... done\n"
     ]
    }
   ],
   "source": [
    "using QuantumOptics, PyPlot"
   ]
  },
  {
   "cell_type": "markdown",
   "metadata": {},
   "source": [
    "## Define Grid Size"
   ]
  },
  {
   "cell_type": "code",
   "execution_count": 3,
   "metadata": {},
   "outputs": [
    {
     "data": {
      "text/plain": [
       "20"
      ]
     },
     "execution_count": 3,
     "metadata": {},
     "output_type": "execute_result"
    }
   ],
   "source": [
    "Npointsx = 100\n",
    "Npointsy = 100\n",
    "\n",
    "xmin = -30\n",
    "xmax = 50\n",
    "\n",
    "ymin = -20\n",
    "ymax = 20"
   ]
  },
  {
   "cell_type": "markdown",
   "metadata": {},
   "source": [
    "## Define Position and Momentum Basis States"
   ]
  },
  {
   "cell_type": "code",
   "execution_count": 4,
   "metadata": {},
   "outputs": [
    {
     "data": {
      "text/plain": [
       "Position(xmin=-30.0, xmax=50.0, N=100)"
      ]
     },
     "execution_count": 4,
     "metadata": {},
     "output_type": "execute_result"
    }
   ],
   "source": [
    "b_positionx = PositionBasis(xmin, xmax, Npointsx)"
   ]
  },
  {
   "cell_type": "code",
   "execution_count": 10,
   "metadata": {},
   "outputs": [
    {
     "data": {
      "text/plain": [
       "Position(xmin=-20.0, xmax=20.0, N=100)"
      ]
     },
     "execution_count": 10,
     "metadata": {},
     "output_type": "execute_result"
    }
   ],
   "source": [
    "b_positiony = PositionBasis(ymin, ymax, Npointsy)"
   ]
  },
  {
   "cell_type": "code",
   "execution_count": 11,
   "metadata": {},
   "outputs": [
    {
     "data": {
      "text/plain": [
       "Momentum(pmin=-7.853981633974483, pmax=7.853981633974483, N=100)"
      ]
     },
     "execution_count": 11,
     "metadata": {},
     "output_type": "execute_result"
    }
   ],
   "source": [
    "b_momentumx = MomentumBasis(b_positionx)\n",
    "b_momentumy = MomentumBasis(b_positiony)"
   ]
  },
  {
   "cell_type": "code",
   "execution_count": 12,
   "metadata": {},
   "outputs": [
    {
     "data": {
      "text/plain": [
       "[Momentum(pmin=-3.9269908169872414, pmax=3.9269908169872414, N=100) ⊗ Momentum(pmin=-7.853981633974483, pmax=7.853981633974483, N=100)]"
      ]
     },
     "execution_count": 12,
     "metadata": {},
     "output_type": "execute_result"
    }
   ],
   "source": [
    "b_composite_pos = b_positionx ⊗ b_positiony\n",
    "b_composite_mom = b_momentumx ⊗ b_momentumy"
   ]
  },
  {
   "cell_type": "code",
   "execution_count": 42,
   "metadata": {},
   "outputs": [
    {
     "name": "stdout",
     "output_type": "stream",
     "text": [
      "search: \u001b[0m\u001b[1mL\u001b[22m\u001b[0m\u001b[1ma\u001b[22m\u001b[0m\u001b[1mz\u001b[22m\u001b[0m\u001b[1my\u001b[22m\u001b[0m\u001b[1mT\u001b[22m\u001b[0m\u001b[1me\u001b[22m\u001b[0m\u001b[1mn\u001b[22m\u001b[0m\u001b[1ms\u001b[22m\u001b[0m\u001b[1mo\u001b[22m\u001b[0m\u001b[1mr\u001b[22m operators_\u001b[0m\u001b[1ml\u001b[22m\u001b[0m\u001b[1ma\u001b[22m\u001b[0m\u001b[1mz\u001b[22m\u001b[0m\u001b[1my\u001b[22m\u001b[0m\u001b[1mt\u001b[22m\u001b[0m\u001b[1me\u001b[22m\u001b[0m\u001b[1mn\u001b[22m\u001b[0m\u001b[1ms\u001b[22m\u001b[0m\u001b[1mo\u001b[22m\u001b[0m\u001b[1mr\u001b[22m\n",
      "\n"
     ]
    },
    {
     "data": {
      "text/latex": [
       "\\begin{verbatim}\n",
       "LazyTensor(b1[, b2], indices, operators[, factor=1])\n",
       "\\end{verbatim}\n",
       "Lazy implementation of a tensor product of operators.\n",
       "\n",
       "The suboperators are stored in the \\texttt{operators} field. The \\texttt{indices} field specifies in which subsystem the corresponding operator lives. Additionally, a complex factor is stored in the \\texttt{factor} field which allows for fast multiplication with numbers.\n",
       "\n"
      ],
      "text/markdown": [
       "```\n",
       "LazyTensor(b1[, b2], indices, operators[, factor=1])\n",
       "```\n",
       "\n",
       "Lazy implementation of a tensor product of operators.\n",
       "\n",
       "The suboperators are stored in the `operators` field. The `indices` field specifies in which subsystem the corresponding operator lives. Additionally, a complex factor is stored in the `factor` field which allows for fast multiplication with numbers.\n"
      ],
      "text/plain": [
       "\u001b[36m  LazyTensor(b1[, b2], indices, operators[, factor=1])\u001b[39m\n",
       "\n",
       "  Lazy implementation of a tensor product of operators.\n",
       "\n",
       "  The suboperators are stored in the \u001b[36moperators\u001b[39m field. The \u001b[36mindices\u001b[39m field\n",
       "  specifies in which subsystem the corresponding operator lives. Additionally,\n",
       "  a complex factor is stored in the \u001b[36mfactor\u001b[39m field which allows for fast\n",
       "  multiplication with numbers."
      ]
     },
     "execution_count": 42,
     "metadata": {},
     "output_type": "execute_result"
    }
   ],
   "source": [
    "?LazyTensor"
   ]
  },
  {
   "cell_type": "code",
   "execution_count": null,
   "metadata": {},
   "outputs": [],
   "source": []
  },
  {
   "cell_type": "markdown",
   "metadata": {
    "heading_collapsed": true
   },
   "source": [
    "# Rough Work"
   ]
  },
  {
   "cell_type": "code",
   "execution_count": 3,
   "metadata": {
    "hidden": true
   },
   "outputs": [
    {
     "ename": "LoadError",
     "evalue": "syntax: space required before \"?\" operator",
     "output_type": "error",
     "traceback": [
      "syntax: space required before \"?\" operator",
      ""
     ]
    }
   ],
   "source": [
    "FockBasis??"
   ]
  },
  {
   "cell_type": "code",
   "execution_count": 4,
   "metadata": {
    "hidden": true
   },
   "outputs": [
    {
     "data": {
      "text/latex": [
       "\\begin{verbatim}\n",
       "The analogue of `%load filename` in IPython is `IJulia.load(\"filename\")`\n",
       "in IJulia (to load code from `filename` into the current frontend)\n",
       "\n",
       "The analogue of `%load url` is `IJulia.load(download(\"url\"))`.\n",
       "\\end{verbatim}\n"
      ],
      "text/markdown": [
       "```\n",
       "The analogue of `%load filename` in IPython is `IJulia.load(\"filename\")`\n",
       "in IJulia (to load code from `filename` into the current frontend)\n",
       "\n",
       "The analogue of `%load url` is `IJulia.load(download(\"url\"))`.\n",
       "```\n"
      ],
      "text/plain": [
       "\u001b[36m  The analogue of `%load filename` in IPython is `IJulia.load(\"filename\")`\u001b[39m\n",
       "\u001b[36m  in IJulia (to load code from `filename` into the current frontend)\u001b[39m\n",
       "\u001b[36m  \u001b[39m\n",
       "\u001b[36m  The analogue of `%load url` is `IJulia.load(download(\"url\"))`.\u001b[39m"
      ]
     },
     "metadata": {},
     "output_type": "display_data"
    }
   ],
   "source": [
    "%load"
   ]
  },
  {
   "cell_type": "code",
   "execution_count": 5,
   "metadata": {
    "hidden": true
   },
   "outputs": [
    {
     "ename": "LoadError",
     "evalue": "syntax: space required before \"?\" operator",
     "output_type": "error",
     "traceback": [
      "syntax: space required before \"?\" operator",
      ""
     ]
    }
   ],
   "source": [
    "FockBasis??"
   ]
  },
  {
   "cell_type": "code",
   "execution_count": 6,
   "metadata": {
    "hidden": true
   },
   "outputs": [
    {
     "data": {
      "text/plain": [
       "Fock(cutoff=20)"
      ]
     },
     "execution_count": 6,
     "metadata": {},
     "output_type": "execute_result"
    }
   ],
   "source": [
    "b = FockBasis(20)\n",
    "b"
   ]
  },
  {
   "cell_type": "markdown",
   "metadata": {
    "heading_collapsed": true,
    "hidden": true
   },
   "source": [
    "## Function Help\n",
    "\n",
    "Instead of writing:\n",
    "\n",
    "> `FunctionName?`\n",
    "\n",
    "as you would in Python to get help on the given function, in IJulia one puts the question mark *before* the method name:\n",
    "\n",
    "> `?FunctionName`\n",
    "\n",
    "Unfortunately, unlike Python the `??` operator for showing the code for a given method is not present in IJulia."
   ]
  },
  {
   "cell_type": "code",
   "execution_count": 8,
   "metadata": {
    "hidden": true
   },
   "outputs": [
    {
     "name": "stdout",
     "output_type": "stream",
     "text": [
      "search: \u001b[0m\u001b[1mF\u001b[22m\u001b[0m\u001b[1mo\u001b[22m\u001b[0m\u001b[1mc\u001b[22m\u001b[0m\u001b[1mk\u001b[22m\u001b[0m\u001b[1mB\u001b[22m\u001b[0m\u001b[1ma\u001b[22m\u001b[0m\u001b[1ms\u001b[22m\u001b[0m\u001b[1mi\u001b[22m\u001b[0m\u001b[1ms\u001b[22m\n",
      "\n"
     ]
    },
    {
     "data": {
      "text/latex": [
       "\\begin{verbatim}\n",
       "FockBasis(N)\n",
       "\\end{verbatim}\n",
       "Basis for a Fock space where \\texttt{N} specifies a cutoff, i.e. what the highest included fock state is. Note that the dimension of this basis then is N+1.\n",
       "\n"
      ],
      "text/markdown": [
       "```\n",
       "FockBasis(N)\n",
       "```\n",
       "\n",
       "Basis for a Fock space where `N` specifies a cutoff, i.e. what the highest included fock state is. Note that the dimension of this basis then is N+1.\n"
      ],
      "text/plain": [
       "\u001b[36m  FockBasis(N)\u001b[39m\n",
       "\n",
       "  Basis for a Fock space where \u001b[36mN\u001b[39m specifies a cutoff, i.e. what the highest\n",
       "  included fock state is. Note that the dimension of this basis then is N+1."
      ]
     },
     "execution_count": 8,
     "metadata": {},
     "output_type": "execute_result"
    }
   ],
   "source": [
    "?FockBasis"
   ]
  },
  {
   "cell_type": "code",
   "execution_count": 9,
   "metadata": {
    "hidden": true
   },
   "outputs": [
    {
     "ename": "LoadError",
     "evalue": "Invalid @var syntax `invalid identifier name \"?\"`.",
     "output_type": "error",
     "traceback": [
      "Invalid @var syntax `invalid identifier name \"?\"`.",
      "",
      "Stacktrace:",
      " [1] error(::String) at ./error.jl:33",
      " [2] splitexpr(::Any) at ./docs/bindings.jl:28",
      " [3] bindingexpr(::Any) at ./docs/bindings.jl:17",
      " [4] lookup_doc(::Expr) at /Users/osx/buildbot/slave/package_osx64/build/usr/share/julia/stdlib/v1.1/REPL/src/docview.jl:137",
      " [5] docm(::LineNumberNode, ::Module, ::Any) at ./docs/Docs.jl:501",
      " [6] @doc(::LineNumberNode, ::Module, ::Expr, ::Vararg{Expr,N} where N) at ./boot.jl:459",
      " [7] eval at ./boot.jl:328 [inlined]",
      " [8] execute_request(::ZMQ.Socket, ::IJulia.Msg) at /Users/deepak/.julia/packages/IJulia/4UizY/src/execute_request.jl:64",
      " [9] #invokelatest#1 at ./essentials.jl:742 [inlined]",
      " [10] invokelatest at ./essentials.jl:741 [inlined]",
      " [11] eventloop(::ZMQ.Socket) at /Users/deepak/.julia/packages/IJulia/4UizY/src/eventloop.jl:8",
      " [12] (::getfield(IJulia, Symbol(\"##15#18\")))() at ./task.jl:259"
     ]
    }
   ],
   "source": [
    "??FockBasis"
   ]
  },
  {
   "cell_type": "markdown",
   "metadata": {
    "heading_collapsed": true,
    "hidden": true
   },
   "source": [
    "## Entering Math Symbols\n",
    "\n",
    "IJulia has a really nice way of entering math symbols on the command line. Julia has inbuilt support for LaTeX math symbols which can be used a variable or function names. To enter a symbol on the command line, type the latex name followed by the `TAB` key:\n",
    "\n",
    "> `\\latexname TAB`\n",
    "\n",
    ", *without* a space between the symbol name and the `TAB`, e.g.\n",
    "\n",
    "> `\\omega TAB`\n",
    "\n",
    "gives\n",
    "\n",
    "$\\omega$"
   ]
  },
  {
   "cell_type": "code",
   "execution_count": 21,
   "metadata": {
    "hidden": true
   },
   "outputs": [
    {
     "data": {
      "text/plain": [
       "4"
      ]
     },
     "execution_count": 21,
     "metadata": {},
     "output_type": "execute_result"
    }
   ],
   "source": [
    "ω = 4"
   ]
  },
  {
   "cell_type": "code",
   "execution_count": 22,
   "metadata": {
    "hidden": true
   },
   "outputs": [
    {
     "data": {
      "text/plain": [
       "8"
      ]
     },
     "execution_count": 22,
     "metadata": {},
     "output_type": "execute_result"
    }
   ],
   "source": [
    "2ω "
   ]
  },
  {
   "cell_type": "code",
   "execution_count": 24,
   "metadata": {
    "hidden": true
   },
   "outputs": [
    {
     "data": {
      "text/plain": [
       "8"
      ]
     },
     "execution_count": 24,
     "metadata": {},
     "output_type": "execute_result"
    }
   ],
   "source": [
    "ans"
   ]
  },
  {
   "cell_type": "code",
   "execution_count": 25,
   "metadata": {
    "hidden": true
   },
   "outputs": [
    {
     "name": "stdout",
     "output_type": "stream",
     "text": [
      "search: \u001b[0m\u001b[1mm\u001b[22m\u001b[0m\u001b[1mo\u001b[22m\u001b[0m\u001b[1md\u001b[22m\u001b[0m\u001b[1m2\u001b[22m\u001b[0m\u001b[1mp\u001b[22m\u001b[0m\u001b[1mi\u001b[22m\n",
      "\n"
     ]
    },
    {
     "data": {
      "text/latex": [
       "\\begin{verbatim}\n",
       "mod2pi(x)\n",
       "\\end{verbatim}\n",
       "Modulus after division by \\texttt{2π}, returning in the range $[0,2π)$.\n",
       "\n",
       "This function computes a floating point representation of the modulus after division by numerically exact \\texttt{2π}, and is therefore not exactly the same as \\texttt{mod(x,2π)}, which would compute the modulus of \\texttt{x} relative to division by the floating-point number \\texttt{2π}.\n",
       "\n",
       "\\section{Examples}\n",
       "\\begin{verbatim}\n",
       "julia> mod2pi(9*pi/4)\n",
       "0.7853981633974481\n",
       "\\end{verbatim}\n"
      ],
      "text/markdown": [
       "```\n",
       "mod2pi(x)\n",
       "```\n",
       "\n",
       "Modulus after division by `2π`, returning in the range $[0,2π)$.\n",
       "\n",
       "This function computes a floating point representation of the modulus after division by numerically exact `2π`, and is therefore not exactly the same as `mod(x,2π)`, which would compute the modulus of `x` relative to division by the floating-point number `2π`.\n",
       "\n",
       "# Examples\n",
       "\n",
       "```jldoctest\n",
       "julia> mod2pi(9*pi/4)\n",
       "0.7853981633974481\n",
       "```\n"
      ],
      "text/plain": [
       "\u001b[36m  mod2pi(x)\u001b[39m\n",
       "\n",
       "  Modulus after division by \u001b[36m2π\u001b[39m, returning in the range \u001b[35m[0,2π)\u001b[39m.\n",
       "\n",
       "  This function computes a floating point representation of the modulus after\n",
       "  division by numerically exact \u001b[36m2π\u001b[39m, and is therefore not exactly the same as\n",
       "  \u001b[36mmod(x,2π)\u001b[39m, which would compute the modulus of \u001b[36mx\u001b[39m relative to division by the\n",
       "  floating-point number \u001b[36m2π\u001b[39m.\n",
       "\n",
       "\u001b[1m  Examples\u001b[22m\n",
       "\u001b[1m  ≡≡≡≡≡≡≡≡≡≡\u001b[22m\n",
       "\n",
       "\u001b[36m  julia> mod2pi(9*pi/4)\u001b[39m\n",
       "\u001b[36m  0.7853981633974481\u001b[39m"
      ]
     },
     "execution_count": 25,
     "metadata": {},
     "output_type": "execute_result"
    }
   ],
   "source": [
    "?mod2pi"
   ]
  },
  {
   "cell_type": "code",
   "execution_count": 26,
   "metadata": {
    "hidden": true
   },
   "outputs": [
    {
     "name": "stdout",
     "output_type": "stream",
     "text": [
      "search: \u001b[0m\u001b[1mi\u001b[22m\u001b[0m\u001b[1ms\u001b[22m\u001b[0m\u001b[1ma\u001b[22m\u001b[0m\u001b[1mp\u001b[22m\u001b[0m\u001b[1mp\u001b[22m\u001b[0m\u001b[1mr\u001b[22m\u001b[0m\u001b[1mo\u001b[22m\u001b[0m\u001b[1mx\u001b[22m\n",
      "\n"
     ]
    },
    {
     "data": {
      "text/latex": [
       "\\begin{verbatim}\n",
       "isapprox(x, y; rtol::Real=atol>0 ? 0 : √eps, atol::Real=0, nans::Bool=false, norm::Function)\n",
       "\\end{verbatim}\n",
       "Inexact equality comparison: \\texttt{true} if \\texttt{norm(x-y) <= max(atol, rtol*max(norm(x), norm(y)))}. The default \\texttt{atol} is zero and the default \\texttt{rtol} depends on the types of \\texttt{x} and \\texttt{y}. The keyword argument \\texttt{nans} determines whether or not NaN values are considered equal (defaults to false).\n",
       "\n",
       "For real or complex floating-point values, if an \\texttt{atol > 0} is not specified, \\texttt{rtol} defaults to the square root of \\href{@ref}{\\texttt{eps}} of the type of \\texttt{x} or \\texttt{y}, whichever is bigger (least precise). This corresponds to requiring equality of about half of the significand digits. Otherwise, e.g. for integer arguments or if an \\texttt{atol > 0} is supplied, \\texttt{rtol} defaults to zero.\n",
       "\n",
       "\\texttt{x} and \\texttt{y} may also be arrays of numbers, in which case \\texttt{norm} defaults to \\texttt{vecnorm} but may be changed by passing a \\texttt{norm::Function} keyword argument. (For numbers, \\texttt{norm} is the same thing as \\texttt{abs}.) When \\texttt{x} and \\texttt{y} are arrays, if \\texttt{norm(x-y)} is not finite (i.e. \\texttt{±Inf} or \\texttt{NaN}), the comparison falls back to checking whether all elements of \\texttt{x} and \\texttt{y} are approximately equal component-wise.\n",
       "\n",
       "The binary operator \\texttt{≈} is equivalent to \\texttt{isapprox} with the default arguments, and \\texttt{x ≉ y} is equivalent to \\texttt{!isapprox(x,y)}.\n",
       "\n",
       "Note that \\texttt{x ≈ 0} (i.e., comparing to zero with the default tolerances) is equivalent to \\texttt{x == 0} since the default \\texttt{atol} is \\texttt{0}.  In such cases, you should either supply an appropriate \\texttt{atol} (or use \\texttt{norm(x) ≤ atol}) or rearrange your code (e.g. use \\texttt{x ≈ y} rather than \\texttt{x - y ≈ 0}).   It is not possible to pick a nonzero \\texttt{atol} automatically because it depends on the overall scaling (the \"units\") of your problem: for example, in \\texttt{x - y ≈ 0}, \\texttt{atol=1e-9} is an absurdly small tolerance if \\texttt{x} is the \\href{https://en.wikipedia.org/wiki/Earth_radius}{radius of the Earth} in meters, but an absurdly large tolerance if \\texttt{x} is the \\href{https://en.wikipedia.org/wiki/Bohr_radius}{radius of a Hydrogen atom} in meters.\n",
       "\n",
       "\\section{Examples}\n",
       "\\begin{verbatim}\n",
       "julia> 0.1 ≈ (0.1 - 1e-10)\n",
       "true\n",
       "\n",
       "julia> isapprox(10, 11; atol = 2)\n",
       "true\n",
       "\n",
       "julia> isapprox([10.0^9, 1.0], [10.0^9, 2.0])\n",
       "true\n",
       "\n",
       "julia> 1e-10 ≈ 0\n",
       "false\n",
       "\n",
       "julia> isapprox(1e-10, 0, atol=1e-8)\n",
       "true\n",
       "\\end{verbatim}\n"
      ],
      "text/markdown": [
       "```\n",
       "isapprox(x, y; rtol::Real=atol>0 ? 0 : √eps, atol::Real=0, nans::Bool=false, norm::Function)\n",
       "```\n",
       "\n",
       "Inexact equality comparison: `true` if `norm(x-y) <= max(atol, rtol*max(norm(x), norm(y)))`. The default `atol` is zero and the default `rtol` depends on the types of `x` and `y`. The keyword argument `nans` determines whether or not NaN values are considered equal (defaults to false).\n",
       "\n",
       "For real or complex floating-point values, if an `atol > 0` is not specified, `rtol` defaults to the square root of [`eps`](@ref) of the type of `x` or `y`, whichever is bigger (least precise). This corresponds to requiring equality of about half of the significand digits. Otherwise, e.g. for integer arguments or if an `atol > 0` is supplied, `rtol` defaults to zero.\n",
       "\n",
       "`x` and `y` may also be arrays of numbers, in which case `norm` defaults to `vecnorm` but may be changed by passing a `norm::Function` keyword argument. (For numbers, `norm` is the same thing as `abs`.) When `x` and `y` are arrays, if `norm(x-y)` is not finite (i.e. `±Inf` or `NaN`), the comparison falls back to checking whether all elements of `x` and `y` are approximately equal component-wise.\n",
       "\n",
       "The binary operator `≈` is equivalent to `isapprox` with the default arguments, and `x ≉ y` is equivalent to `!isapprox(x,y)`.\n",
       "\n",
       "Note that `x ≈ 0` (i.e., comparing to zero with the default tolerances) is equivalent to `x == 0` since the default `atol` is `0`.  In such cases, you should either supply an appropriate `atol` (or use `norm(x) ≤ atol`) or rearrange your code (e.g. use `x ≈ y` rather than `x - y ≈ 0`).   It is not possible to pick a nonzero `atol` automatically because it depends on the overall scaling (the \"units\") of your problem: for example, in `x - y ≈ 0`, `atol=1e-9` is an absurdly small tolerance if `x` is the [radius of the Earth](https://en.wikipedia.org/wiki/Earth_radius) in meters, but an absurdly large tolerance if `x` is the [radius of a Hydrogen atom](https://en.wikipedia.org/wiki/Bohr_radius) in meters.\n",
       "\n",
       "# Examples\n",
       "\n",
       "```jldoctest\n",
       "julia> 0.1 ≈ (0.1 - 1e-10)\n",
       "true\n",
       "\n",
       "julia> isapprox(10, 11; atol = 2)\n",
       "true\n",
       "\n",
       "julia> isapprox([10.0^9, 1.0], [10.0^9, 2.0])\n",
       "true\n",
       "\n",
       "julia> 1e-10 ≈ 0\n",
       "false\n",
       "\n",
       "julia> isapprox(1e-10, 0, atol=1e-8)\n",
       "true\n",
       "```\n"
      ],
      "text/plain": [
       "\u001b[36m  isapprox(x, y; rtol::Real=atol>0 ? 0 : √eps, atol::Real=0, nans::Bool=false, norm::Function)\u001b[39m\n",
       "\n",
       "  Inexact equality comparison: \u001b[36mtrue\u001b[39m if \u001b[36mnorm(x-y) <= max(atol,\n",
       "  rtol*max(norm(x), norm(y)))\u001b[39m. The default \u001b[36matol\u001b[39m is zero and the default \u001b[36mrtol\u001b[39m\n",
       "  depends on the types of \u001b[36mx\u001b[39m and \u001b[36my\u001b[39m. The keyword argument \u001b[36mnans\u001b[39m determines\n",
       "  whether or not NaN values are considered equal (defaults to false).\n",
       "\n",
       "  For real or complex floating-point values, if an \u001b[36matol > 0\u001b[39m is not specified,\n",
       "  \u001b[36mrtol\u001b[39m defaults to the square root of \u001b[36meps\u001b[39m of the type of \u001b[36mx\u001b[39m or \u001b[36my\u001b[39m, whichever is\n",
       "  bigger (least precise). This corresponds to requiring equality of about half\n",
       "  of the significand digits. Otherwise, e.g. for integer arguments or if an\n",
       "  \u001b[36matol > 0\u001b[39m is supplied, \u001b[36mrtol\u001b[39m defaults to zero.\n",
       "\n",
       "  \u001b[36mx\u001b[39m and \u001b[36my\u001b[39m may also be arrays of numbers, in which case \u001b[36mnorm\u001b[39m defaults to\n",
       "  \u001b[36mvecnorm\u001b[39m but may be changed by passing a \u001b[36mnorm::Function\u001b[39m keyword argument.\n",
       "  (For numbers, \u001b[36mnorm\u001b[39m is the same thing as \u001b[36mabs\u001b[39m.) When \u001b[36mx\u001b[39m and \u001b[36my\u001b[39m are arrays, if\n",
       "  \u001b[36mnorm(x-y)\u001b[39m is not finite (i.e. \u001b[36m±Inf\u001b[39m or \u001b[36mNaN\u001b[39m), the comparison falls back to\n",
       "  checking whether all elements of \u001b[36mx\u001b[39m and \u001b[36my\u001b[39m are approximately equal\n",
       "  component-wise.\n",
       "\n",
       "  The binary operator \u001b[36m≈\u001b[39m is equivalent to \u001b[36misapprox\u001b[39m with the default arguments,\n",
       "  and \u001b[36mx ≉ y\u001b[39m is equivalent to \u001b[36m!isapprox(x,y)\u001b[39m.\n",
       "\n",
       "  Note that \u001b[36mx ≈ 0\u001b[39m (i.e., comparing to zero with the default tolerances) is\n",
       "  equivalent to \u001b[36mx == 0\u001b[39m since the default \u001b[36matol\u001b[39m is \u001b[36m0\u001b[39m. In such cases, you should\n",
       "  either supply an appropriate \u001b[36matol\u001b[39m (or use \u001b[36mnorm(x) ≤ atol\u001b[39m) or rearrange your\n",
       "  code (e.g. use \u001b[36mx ≈ y\u001b[39m rather than \u001b[36mx - y ≈ 0\u001b[39m). It is not possible to pick a\n",
       "  nonzero \u001b[36matol\u001b[39m automatically because it depends on the overall scaling (the\n",
       "  \"units\") of your problem: for example, in \u001b[36mx - y ≈ 0\u001b[39m, \u001b[36matol=1e-9\u001b[39m is an\n",
       "  absurdly small tolerance if \u001b[36mx\u001b[39m is the radius of the Earth\n",
       "  (https://en.wikipedia.org/wiki/Earth_radius) in meters, but an absurdly\n",
       "  large tolerance if \u001b[36mx\u001b[39m is the radius of a Hydrogen atom\n",
       "  (https://en.wikipedia.org/wiki/Bohr_radius) in meters.\n",
       "\n",
       "\u001b[1m  Examples\u001b[22m\n",
       "\u001b[1m  ≡≡≡≡≡≡≡≡≡≡\u001b[22m\n",
       "\n",
       "\u001b[36m  julia> 0.1 ≈ (0.1 - 1e-10)\u001b[39m\n",
       "\u001b[36m  true\u001b[39m\n",
       "\u001b[36m  \u001b[39m\n",
       "\u001b[36m  julia> isapprox(10, 11; atol = 2)\u001b[39m\n",
       "\u001b[36m  true\u001b[39m\n",
       "\u001b[36m  \u001b[39m\n",
       "\u001b[36m  julia> isapprox([10.0^9, 1.0], [10.0^9, 2.0])\u001b[39m\n",
       "\u001b[36m  true\u001b[39m\n",
       "\u001b[36m  \u001b[39m\n",
       "\u001b[36m  julia> 1e-10 ≈ 0\u001b[39m\n",
       "\u001b[36m  false\u001b[39m\n",
       "\u001b[36m  \u001b[39m\n",
       "\u001b[36m  julia> isapprox(1e-10, 0, atol=1e-8)\u001b[39m\n",
       "\u001b[36m  true\u001b[39m"
      ]
     },
     "execution_count": 26,
     "metadata": {},
     "output_type": "execute_result"
    }
   ],
   "source": [
    "?isapprox"
   ]
  },
  {
   "cell_type": "code",
   "execution_count": 23,
   "metadata": {
    "hidden": true
   },
   "outputs": [
    {
     "data": {
      "text/html": [
       "10-element Array{Method,1}:<ul><li> gaussianstate(b::<b>MomentumBasis</b>, x0::<b>Real</b>, p0::<b>Real</b>, sigma::<b>Real</b>) in QuantumOptics.particle at <a href=\"file:///Users/deepak/.julia/packages/QuantumOptics/fwWGR/src/particle.jl\" target=\"_blank\">/Users/deepak/.julia/packages/QuantumOptics/fwWGR/src/particle.jl:127</a><li> momentum(b::<b>MomentumBasis</b>) in QuantumOptics.particle at <a href=\"file:///Users/deepak/.julia/packages/QuantumOptics/fwWGR/src/particle.jl\" target=\"_blank\">/Users/deepak/.julia/packages/QuantumOptics/fwWGR/src/particle.jl:188</a><li> position(b::<b>MomentumBasis</b>) in QuantumOptics.particle at <a href=\"file:///Users/deepak/.julia/packages/QuantumOptics/fwWGR/src/particle.jl\" target=\"_blank\">/Users/deepak/.julia/packages/QuantumOptics/fwWGR/src/particle.jl:179</a><li> potentialoperator(b::<b>MomentumBasis</b>, V::<b>Function</b>) in QuantumOptics.particle at <a href=\"file:///Users/deepak/.julia/packages/QuantumOptics/fwWGR/src/particle.jl\" target=\"_blank\">/Users/deepak/.julia/packages/QuantumOptics/fwWGR/src/particle.jl:216</a><li> samplepoints(b::<b>MomentumBasis</b>) in QuantumOptics.particle at <a href=\"file:///Users/deepak/.julia/packages/QuantumOptics/fwWGR/src/particle.jl\" target=\"_blank\">/Users/deepak/.julia/packages/QuantumOptics/fwWGR/src/particle.jl:163</a><li> spacing(b::<b>MomentumBasis</b>) in QuantumOptics.particle at <a href=\"file:///Users/deepak/.julia/packages/QuantumOptics/fwWGR/src/particle.jl\" target=\"_blank\">/Users/deepak/.julia/packages/QuantumOptics/fwWGR/src/particle.jl:150</a><li> transform(basis_l::<b>MomentumBasis</b>, basis_r::<b>PositionBasis</b>) in QuantumOptics.particle at <a href=\"file:///Users/deepak/.julia/packages/QuantumOptics/fwWGR/src/particle.jl\" target=\"_blank\">/Users/deepak/.julia/packages/QuantumOptics/fwWGR/src/particle.jl:340</a><li> transform(basis_l::<b>PositionBasis</b>, basis_r::<b>MomentumBasis</b>) in QuantumOptics.particle at <a href=\"file:///Users/deepak/.julia/packages/QuantumOptics/fwWGR/src/particle.jl\" target=\"_blank\">/Users/deepak/.julia/packages/QuantumOptics/fwWGR/src/particle.jl:365</a><li> ==(b1::<b>MomentumBasis</b>, b2::<b>MomentumBasis</b>) in QuantumOptics.particle at <a href=\"file:///Users/deepak/.julia/packages/QuantumOptics/fwWGR/src/particle.jl\" target=\"_blank\">/Users/deepak/.julia/packages/QuantumOptics/fwWGR/src/particle.jl:72</a><li> show(stream::<b>IO</b>, x::<b>MomentumBasis</b>) in QuantumOptics.printing at <a href=\"file:///Users/deepak/.julia/packages/QuantumOptics/fwWGR/src/printing.jl\" target=\"_blank\">/Users/deepak/.julia/packages/QuantumOptics/fwWGR/src/printing.jl:76</a></ul>"
      ],
      "text/plain": [
       "[1] gaussianstate(b::MomentumBasis, x0::Real, p0::Real, sigma::Real) in QuantumOptics.particle at /Users/deepak/.julia/packages/QuantumOptics/fwWGR/src/particle.jl:127\n",
       "[2] momentum(b::MomentumBasis) in QuantumOptics.particle at /Users/deepak/.julia/packages/QuantumOptics/fwWGR/src/particle.jl:188\n",
       "[3] position(b::MomentumBasis) in QuantumOptics.particle at /Users/deepak/.julia/packages/QuantumOptics/fwWGR/src/particle.jl:179\n",
       "[4] potentialoperator(b::MomentumBasis, V::Function) in QuantumOptics.particle at /Users/deepak/.julia/packages/QuantumOptics/fwWGR/src/particle.jl:216\n",
       "[5] samplepoints(b::MomentumBasis) in QuantumOptics.particle at /Users/deepak/.julia/packages/QuantumOptics/fwWGR/src/particle.jl:163\n",
       "[6] spacing(b::MomentumBasis) in QuantumOptics.particle at /Users/deepak/.julia/packages/QuantumOptics/fwWGR/src/particle.jl:150\n",
       "[7] transform(basis_l::MomentumBasis, basis_r::PositionBasis) in QuantumOptics.particle at /Users/deepak/.julia/packages/QuantumOptics/fwWGR/src/particle.jl:340\n",
       "[8] transform(basis_l::PositionBasis, basis_r::MomentumBasis) in QuantumOptics.particle at /Users/deepak/.julia/packages/QuantumOptics/fwWGR/src/particle.jl:365\n",
       "[9] ==(b1::MomentumBasis, b2::MomentumBasis) in QuantumOptics.particle at /Users/deepak/.julia/packages/QuantumOptics/fwWGR/src/particle.jl:72\n",
       "[10] show(stream::IO, x::MomentumBasis) in QuantumOptics.printing at /Users/deepak/.julia/packages/QuantumOptics/fwWGR/src/printing.jl:76"
      ]
     },
     "execution_count": 23,
     "metadata": {},
     "output_type": "execute_result"
    }
   ],
   "source": [
    "methodswith(MomentumBasis)"
   ]
  },
  {
   "cell_type": "code",
   "execution_count": 25,
   "metadata": {
    "hidden": true
   },
   "outputs": [
    {
     "ename": "ErrorException",
     "evalue": "function has multiple methods; please specify a type signature",
     "output_type": "error",
     "traceback": [
      "function has multiple methods; please specify a type signature",
      "",
      "Stacktrace:",
      " [1] error(::String) at ./error.jl:33",
      " [2] functionloc(::Any) at ./reflection.jl:1059",
      " [3] less(::Function) at /Users/osx/buildbot/slave/package_osx64/build/usr/share/julia/stdlib/v1.1/InteractiveUtils/src/editless.jl:135",
      " [4] top-level scope at In[25]:1"
     ]
    }
   ],
   "source": [
    "less(transform)"
   ]
  },
  {
   "cell_type": "code",
   "execution_count": 28,
   "metadata": {
    "hidden": true
   },
   "outputs": [
    {
     "ename": "LoadError",
     "evalue": "MethodError: no method matching @less(::LineNumberNode, ::Module)\nClosest candidates are:\n  @less(::LineNumberNode, ::Module, !Matched::Any) at /Users/osx/buildbot/slave/package_osx64/build/usr/share/julia/stdlib/v1.1/InteractiveUtils/src/macros.jl:122",
     "output_type": "error",
     "traceback": [
      "MethodError: no method matching @less(::LineNumberNode, ::Module)\nClosest candidates are:\n  @less(::LineNumberNode, ::Module, !Matched::Any) at /Users/osx/buildbot/slave/package_osx64/build/usr/share/julia/stdlib/v1.1/InteractiveUtils/src/macros.jl:122",
      ""
     ]
    }
   ],
   "source": [
    "@less"
   ]
  },
  {
   "cell_type": "code",
   "execution_count": 30,
   "metadata": {
    "hidden": true
   },
   "outputs": [],
   "source": [
    "using InteractiveUtils"
   ]
  },
  {
   "cell_type": "code",
   "execution_count": 33,
   "metadata": {
    "hidden": true
   },
   "outputs": [
    {
     "name": "stdout",
     "output_type": "stream",
     "text": [
      "module fock\n",
      "\n",
      "export FockBasis, number, destroy, create, displace, fockstate, coherentstate\n",
      "\n",
      "import Base: ==\n",
      "\n",
      "using ..bases, ..states, ..operators, ..operators_dense, ..operators_sparse\n",
      "using SparseArrays\n",
      "\n",
      "\n",
      "\"\"\"\n",
      "    FockBasis(N)\n",
      "\n",
      "Basis for a Fock space where `N` specifies a cutoff, i.e. what the highest\n",
      "included fock state is. Note that the dimension of this basis then is N+1.\n",
      "\"\"\"\n",
      "mutable struct FockBasis <: Basis\n",
      "    shape::Vector{Int}\n",
      "    N::Int\n",
      "    function FockBasis(N::Int)\n",
      "        if N < 0\n",
      "            throw(DimensionMismatch())\n",
      "        end\n",
      "        new([N+1], N)\n",
      "    end\n",
      "end\n",
      "\n",
      "\n",
      "==(b1::FockBasis, b2::FockBasis) = b1.N==b2.N\n",
      "\n",
      "\"\"\"\n",
      "    number(b::FockBasis)\n",
      "\n",
      "Number operator for the specified Fock space.\n",
      "\"\"\"\n",
      "function number(b::FockBasis)\n",
      "    diag = complex.(0.:b.N)\n",
      "    data = spdiagm(0 => diag)\n",
      "    SparseOperator(b, data)\n",
      "end\n",
      "\n",
      "\"\"\"\n",
      "    destroy(b::FockBasis)\n",
      "\n",
      "Annihilation operator for the specified Fock space.\n",
      "\"\"\"\n",
      "function destroy(b::FockBasis)\n",
      "    diag = complex.(sqrt.(1.:b.N))\n",
      "    data = spdiagm(1 => diag)\n",
      "    SparseOperator(b, data)\n",
      "end\n",
      "\n",
      "\"\"\"\n",
      "    create(b::FockBasis)\n",
      "\n",
      "Creation operator for the specified Fock space.\n",
      "\"\"\"\n",
      "function create(b::FockBasis)\n",
      "    diag = complex.(sqrt.(1.:b.N))\n",
      "    data = spdiagm(-1 => diag)\n",
      "    SparseOperator(b, data)\n",
      "end\n",
      "\n",
      "\"\"\"\n",
      "    displace(b::FockBasis, alpha)\n",
      "\n",
      "Displacement operator ``D(α)`` for the specified Fock space.\n",
      "\"\"\"\n",
      "displace(b::FockBasis, alpha::Number) = exp(dense(alpha*create(b) - conj(alpha)*destroy(b)))\n",
      "\n",
      "\"\"\"\n",
      "    fockstate(b::FockBasis, n)\n",
      "\n",
      "Fock state ``|n⟩`` for the specified Fock space.\n",
      "\"\"\"\n",
      "function fockstate(b::FockBasis, n::Int)\n",
      "    @assert n <= b.N\n",
      "    basisstate(b, n+1)\n",
      "end\n",
      "\n",
      "\"\"\"\n",
      "    coherentstate(b::FockBasis, alpha)\n",
      "\n",
      "Coherent state ``|α⟩`` for the specified Fock space.\n",
      "\"\"\"\n",
      "function coherentstate(b::FockBasis, alpha::Number, result=Ket(b, Vector{ComplexF64}(undef, length(b))))\n",
      "    alpha = complex(alpha)\n",
      "    data = result.data\n",
      "    data[1] = exp(-abs2(alpha)/2)\n",
      "    @inbounds for n=1:b.N\n",
      "        data[n+1] = data[n]*alpha/sqrt(n)\n",
      "    end\n",
      "    return result\n",
      "end\n",
      "\n",
      "end # module\n"
     ]
    }
   ],
   "source": [
    "less(FockBasis)"
   ]
  },
  {
   "cell_type": "code",
   "execution_count": 27,
   "metadata": {
    "hidden": true
   },
   "outputs": [],
   "source": [
    "using Pkg"
   ]
  },
  {
   "cell_type": "code",
   "execution_count": 28,
   "metadata": {
    "hidden": true
   },
   "outputs": [
    {
     "name": "stderr",
     "output_type": "stream",
     "text": [
      "┌ Info: Precompiling Plots [91a5bcdd-55d7-5caf-9e0b-520d859cae80]\n",
      "└ @ Base loading.jl:1186\n"
     ]
    }
   ],
   "source": [
    "using Plots"
   ]
  },
  {
   "cell_type": "code",
   "execution_count": 29,
   "metadata": {
    "hidden": true
   },
   "outputs": [
    {
     "data": {
      "text/plain": [
       "Plots.GRBackend()"
      ]
     },
     "execution_count": 29,
     "metadata": {},
     "output_type": "execute_result"
    }
   ],
   "source": [
    "gr()"
   ]
  },
  {
   "cell_type": "code",
   "execution_count": 30,
   "metadata": {
    "hidden": true
   },
   "outputs": [
    {
     "data": {
      "image/svg+xml": [
       "<?xml version=\"1.0\" encoding=\"utf-8\"?>\n",
       "<svg xmlns=\"http://www.w3.org/2000/svg\" xmlns:xlink=\"http://www.w3.org/1999/xlink\" width=\"600\" height=\"400\" viewBox=\"0 0 2400 1600\">\n",
       "<defs>\n",
       "  <clipPath id=\"clip2700\">\n",
       "    <rect x=\"0\" y=\"0\" width=\"2000\" height=\"2000\"/>\n",
       "  </clipPath>\n",
       "</defs>\n",
       "<defs>\n",
       "  <clipPath id=\"clip2701\">\n",
       "    <rect x=\"0\" y=\"0\" width=\"2400\" height=\"1600\"/>\n",
       "  </clipPath>\n",
       "</defs>\n",
       "<polygon clip-path=\"url(#clip2701)\" points=\"\n",
       "0,1600 2400,1600 2400,0 0,0 \n",
       "  \" fill=\"#ffffff\" fill-rule=\"evenodd\" fill-opacity=\"1\"/>\n",
       "<defs>\n",
       "  <clipPath id=\"clip2702\">\n",
       "    <rect x=\"480\" y=\"0\" width=\"1681\" height=\"1600\"/>\n",
       "  </clipPath>\n",
       "</defs>\n",
       "<polygon clip-path=\"url(#clip2701)\" points=\"\n",
       "174.775,1503.47 2321.26,1503.47 2321.26,47.2441 174.775,47.2441 \n",
       "  \" fill=\"#ffffff\" fill-rule=\"evenodd\" fill-opacity=\"1\"/>\n",
       "<defs>\n",
       "  <clipPath id=\"clip2703\">\n",
       "    <rect x=\"174\" y=\"47\" width=\"2147\" height=\"1457\"/>\n",
       "  </clipPath>\n",
       "</defs>\n",
       "<polyline clip-path=\"url(#clip2703)\" style=\"stroke:#000000; stroke-width:2; stroke-opacity:0.1; fill:none\" points=\"\n",
       "  432.618,1503.47 432.618,47.2441 \n",
       "  \"/>\n",
       "<polyline clip-path=\"url(#clip2703)\" style=\"stroke:#000000; stroke-width:2; stroke-opacity:0.1; fill:none\" points=\"\n",
       "  898.561,1503.47 898.561,47.2441 \n",
       "  \"/>\n",
       "<polyline clip-path=\"url(#clip2703)\" style=\"stroke:#000000; stroke-width:2; stroke-opacity:0.1; fill:none\" points=\"\n",
       "  1364.5,1503.47 1364.5,47.2441 \n",
       "  \"/>\n",
       "<polyline clip-path=\"url(#clip2703)\" style=\"stroke:#000000; stroke-width:2; stroke-opacity:0.1; fill:none\" points=\"\n",
       "  1830.45,1503.47 1830.45,47.2441 \n",
       "  \"/>\n",
       "<polyline clip-path=\"url(#clip2703)\" style=\"stroke:#000000; stroke-width:2; stroke-opacity:0.1; fill:none\" points=\"\n",
       "  2296.39,1503.47 2296.39,47.2441 \n",
       "  \"/>\n",
       "<polyline clip-path=\"url(#clip2703)\" style=\"stroke:#000000; stroke-width:2; stroke-opacity:0.1; fill:none\" points=\"\n",
       "  174.775,1462.26 2321.26,1462.26 \n",
       "  \"/>\n",
       "<polyline clip-path=\"url(#clip2703)\" style=\"stroke:#000000; stroke-width:2; stroke-opacity:0.1; fill:none\" points=\"\n",
       "  174.775,1116.21 2321.26,1116.21 \n",
       "  \"/>\n",
       "<polyline clip-path=\"url(#clip2703)\" style=\"stroke:#000000; stroke-width:2; stroke-opacity:0.1; fill:none\" points=\"\n",
       "  174.775,770.169 2321.26,770.169 \n",
       "  \"/>\n",
       "<polyline clip-path=\"url(#clip2703)\" style=\"stroke:#000000; stroke-width:2; stroke-opacity:0.1; fill:none\" points=\"\n",
       "  174.775,424.123 2321.26,424.123 \n",
       "  \"/>\n",
       "<polyline clip-path=\"url(#clip2703)\" style=\"stroke:#000000; stroke-width:2; stroke-opacity:0.1; fill:none\" points=\"\n",
       "  174.775,78.0768 2321.26,78.0768 \n",
       "  \"/>\n",
       "<polyline clip-path=\"url(#clip2701)\" style=\"stroke:#000000; stroke-width:4; stroke-opacity:1; fill:none\" points=\"\n",
       "  174.775,1503.47 2321.26,1503.47 \n",
       "  \"/>\n",
       "<polyline clip-path=\"url(#clip2701)\" style=\"stroke:#000000; stroke-width:4; stroke-opacity:1; fill:none\" points=\"\n",
       "  174.775,1503.47 174.775,47.2441 \n",
       "  \"/>\n",
       "<polyline clip-path=\"url(#clip2701)\" style=\"stroke:#000000; stroke-width:4; stroke-opacity:1; fill:none\" points=\"\n",
       "  432.618,1503.47 432.618,1481.63 \n",
       "  \"/>\n",
       "<polyline clip-path=\"url(#clip2701)\" style=\"stroke:#000000; stroke-width:4; stroke-opacity:1; fill:none\" points=\"\n",
       "  898.561,1503.47 898.561,1481.63 \n",
       "  \"/>\n",
       "<polyline clip-path=\"url(#clip2701)\" style=\"stroke:#000000; stroke-width:4; stroke-opacity:1; fill:none\" points=\"\n",
       "  1364.5,1503.47 1364.5,1481.63 \n",
       "  \"/>\n",
       "<polyline clip-path=\"url(#clip2701)\" style=\"stroke:#000000; stroke-width:4; stroke-opacity:1; fill:none\" points=\"\n",
       "  1830.45,1503.47 1830.45,1481.63 \n",
       "  \"/>\n",
       "<polyline clip-path=\"url(#clip2701)\" style=\"stroke:#000000; stroke-width:4; stroke-opacity:1; fill:none\" points=\"\n",
       "  2296.39,1503.47 2296.39,1481.63 \n",
       "  \"/>\n",
       "<polyline clip-path=\"url(#clip2701)\" style=\"stroke:#000000; stroke-width:4; stroke-opacity:1; fill:none\" points=\"\n",
       "  174.775,1462.26 206.972,1462.26 \n",
       "  \"/>\n",
       "<polyline clip-path=\"url(#clip2701)\" style=\"stroke:#000000; stroke-width:4; stroke-opacity:1; fill:none\" points=\"\n",
       "  174.775,1116.21 206.972,1116.21 \n",
       "  \"/>\n",
       "<polyline clip-path=\"url(#clip2701)\" style=\"stroke:#000000; stroke-width:4; stroke-opacity:1; fill:none\" points=\"\n",
       "  174.775,770.169 206.972,770.169 \n",
       "  \"/>\n",
       "<polyline clip-path=\"url(#clip2701)\" style=\"stroke:#000000; stroke-width:4; stroke-opacity:1; fill:none\" points=\"\n",
       "  174.775,424.123 206.972,424.123 \n",
       "  \"/>\n",
       "<polyline clip-path=\"url(#clip2701)\" style=\"stroke:#000000; stroke-width:4; stroke-opacity:1; fill:none\" points=\"\n",
       "  174.775,78.0768 206.972,78.0768 \n",
       "  \"/>\n",
       "<g clip-path=\"url(#clip2701)\">\n",
       "<text style=\"fill:#000000; fill-opacity:1; font-family:Arial,Helvetica Neue,Helvetica,sans-serif; font-size:48px; text-anchor:middle;\" transform=\"rotate(0, 432.618, 1557.47)\" x=\"432.618\" y=\"1557.47\">-4</text>\n",
       "</g>\n",
       "<g clip-path=\"url(#clip2701)\">\n",
       "<text style=\"fill:#000000; fill-opacity:1; font-family:Arial,Helvetica Neue,Helvetica,sans-serif; font-size:48px; text-anchor:middle;\" transform=\"rotate(0, 898.561, 1557.47)\" x=\"898.561\" y=\"1557.47\">-2</text>\n",
       "</g>\n",
       "<g clip-path=\"url(#clip2701)\">\n",
       "<text style=\"fill:#000000; fill-opacity:1; font-family:Arial,Helvetica Neue,Helvetica,sans-serif; font-size:48px; text-anchor:middle;\" transform=\"rotate(0, 1364.5, 1557.47)\" x=\"1364.5\" y=\"1557.47\">0</text>\n",
       "</g>\n",
       "<g clip-path=\"url(#clip2701)\">\n",
       "<text style=\"fill:#000000; fill-opacity:1; font-family:Arial,Helvetica Neue,Helvetica,sans-serif; font-size:48px; text-anchor:middle;\" transform=\"rotate(0, 1830.45, 1557.47)\" x=\"1830.45\" y=\"1557.47\">2</text>\n",
       "</g>\n",
       "<g clip-path=\"url(#clip2701)\">\n",
       "<text style=\"fill:#000000; fill-opacity:1; font-family:Arial,Helvetica Neue,Helvetica,sans-serif; font-size:48px; text-anchor:middle;\" transform=\"rotate(0, 2296.39, 1557.47)\" x=\"2296.39\" y=\"1557.47\">4</text>\n",
       "</g>\n",
       "<g clip-path=\"url(#clip2701)\">\n",
       "<text style=\"fill:#000000; fill-opacity:1; font-family:Arial,Helvetica Neue,Helvetica,sans-serif; font-size:48px; text-anchor:end;\" transform=\"rotate(0, 150.775, 1479.76)\" x=\"150.775\" y=\"1479.76\">0</text>\n",
       "</g>\n",
       "<g clip-path=\"url(#clip2701)\">\n",
       "<text style=\"fill:#000000; fill-opacity:1; font-family:Arial,Helvetica Neue,Helvetica,sans-serif; font-size:48px; text-anchor:end;\" transform=\"rotate(0, 150.775, 1133.71)\" x=\"150.775\" y=\"1133.71\">200</text>\n",
       "</g>\n",
       "<g clip-path=\"url(#clip2701)\">\n",
       "<text style=\"fill:#000000; fill-opacity:1; font-family:Arial,Helvetica Neue,Helvetica,sans-serif; font-size:48px; text-anchor:end;\" transform=\"rotate(0, 150.775, 787.669)\" x=\"150.775\" y=\"787.669\">400</text>\n",
       "</g>\n",
       "<g clip-path=\"url(#clip2701)\">\n",
       "<text style=\"fill:#000000; fill-opacity:1; font-family:Arial,Helvetica Neue,Helvetica,sans-serif; font-size:48px; text-anchor:end;\" transform=\"rotate(0, 150.775, 441.623)\" x=\"150.775\" y=\"441.623\">600</text>\n",
       "</g>\n",
       "<g clip-path=\"url(#clip2701)\">\n",
       "<text style=\"fill:#000000; fill-opacity:1; font-family:Arial,Helvetica Neue,Helvetica,sans-serif; font-size:48px; text-anchor:end;\" transform=\"rotate(0, 150.775, 95.5768)\" x=\"150.775\" y=\"95.5768\">800</text>\n",
       "</g>\n",
       "<polygon clip-path=\"url(#clip2703)\" points=\"\n",
       "292.836,1460.53 292.836,1462.26 339.43,1462.26 339.43,1460.53 292.836,1460.53 292.836,1460.53 \n",
       "  \" fill=\"#009af9\" fill-rule=\"evenodd\" fill-opacity=\"1\"/>\n",
       "<polyline clip-path=\"url(#clip2703)\" style=\"stroke:#000000; stroke-width:4; stroke-opacity:1; fill:none\" points=\"\n",
       "  292.836,1460.53 292.836,1462.26 339.43,1462.26 339.43,1460.53 292.836,1460.53 \n",
       "  \"/>\n",
       "<polygon clip-path=\"url(#clip2703)\" points=\"\n",
       "339.43,1462.26 339.43,1462.26 386.024,1462.26 386.024,1462.26 339.43,1462.26 339.43,1462.26 \n",
       "  \" fill=\"#009af9\" fill-rule=\"evenodd\" fill-opacity=\"1\"/>\n",
       "<polyline clip-path=\"url(#clip2703)\" style=\"stroke:#000000; stroke-width:4; stroke-opacity:1; fill:none\" points=\"\n",
       "  339.43,1462.26 339.43,1462.26 386.024,1462.26 339.43,1462.26 \n",
       "  \"/>\n",
       "<polygon clip-path=\"url(#clip2703)\" points=\"\n",
       "386.024,1462.26 386.024,1462.26 432.618,1462.26 432.618,1462.26 386.024,1462.26 386.024,1462.26 \n",
       "  \" fill=\"#009af9\" fill-rule=\"evenodd\" fill-opacity=\"1\"/>\n",
       "<polyline clip-path=\"url(#clip2703)\" style=\"stroke:#000000; stroke-width:4; stroke-opacity:1; fill:none\" points=\"\n",
       "  386.024,1462.26 386.024,1462.26 432.618,1462.26 386.024,1462.26 \n",
       "  \"/>\n",
       "<polygon clip-path=\"url(#clip2703)\" points=\"\n",
       "432.618,1462.26 432.618,1462.26 479.213,1462.26 479.213,1462.26 432.618,1462.26 432.618,1462.26 \n",
       "  \" fill=\"#009af9\" fill-rule=\"evenodd\" fill-opacity=\"1\"/>\n",
       "<polyline clip-path=\"url(#clip2703)\" style=\"stroke:#000000; stroke-width:4; stroke-opacity:1; fill:none\" points=\"\n",
       "  432.618,1462.26 432.618,1462.26 479.213,1462.26 432.618,1462.26 \n",
       "  \"/>\n",
       "<polygon clip-path=\"url(#clip2703)\" points=\"\n",
       "479.213,1462.26 479.213,1462.26 525.807,1462.26 525.807,1462.26 479.213,1462.26 479.213,1462.26 \n",
       "  \" fill=\"#009af9\" fill-rule=\"evenodd\" fill-opacity=\"1\"/>\n",
       "<polyline clip-path=\"url(#clip2703)\" style=\"stroke:#000000; stroke-width:4; stroke-opacity:1; fill:none\" points=\"\n",
       "  479.213,1462.26 479.213,1462.26 525.807,1462.26 479.213,1462.26 \n",
       "  \"/>\n",
       "<polygon clip-path=\"url(#clip2703)\" points=\"\n",
       "525.807,1460.53 525.807,1462.26 572.401,1462.26 572.401,1460.53 525.807,1460.53 525.807,1460.53 \n",
       "  \" fill=\"#009af9\" fill-rule=\"evenodd\" fill-opacity=\"1\"/>\n",
       "<polyline clip-path=\"url(#clip2703)\" style=\"stroke:#000000; stroke-width:4; stroke-opacity:1; fill:none\" points=\"\n",
       "  525.807,1460.53 525.807,1462.26 572.401,1462.26 572.401,1460.53 525.807,1460.53 \n",
       "  \"/>\n",
       "<polygon clip-path=\"url(#clip2703)\" points=\"\n",
       "572.401,1457.07 572.401,1462.26 618.995,1462.26 618.995,1457.07 572.401,1457.07 572.401,1457.07 \n",
       "  \" fill=\"#009af9\" fill-rule=\"evenodd\" fill-opacity=\"1\"/>\n",
       "<polyline clip-path=\"url(#clip2703)\" style=\"stroke:#000000; stroke-width:4; stroke-opacity:1; fill:none\" points=\"\n",
       "  572.401,1457.07 572.401,1462.26 618.995,1462.26 618.995,1457.07 572.401,1457.07 \n",
       "  \"/>\n",
       "<polygon clip-path=\"url(#clip2703)\" points=\"\n",
       "618.995,1448.42 618.995,1462.26 665.59,1462.26 665.59,1448.42 618.995,1448.42 618.995,1448.42 \n",
       "  \" fill=\"#009af9\" fill-rule=\"evenodd\" fill-opacity=\"1\"/>\n",
       "<polyline clip-path=\"url(#clip2703)\" style=\"stroke:#000000; stroke-width:4; stroke-opacity:1; fill:none\" points=\"\n",
       "  618.995,1448.42 618.995,1462.26 665.59,1462.26 665.59,1448.42 618.995,1448.42 \n",
       "  \"/>\n",
       "<polygon clip-path=\"url(#clip2703)\" points=\"\n",
       "665.59,1422.47 665.59,1462.26 712.184,1462.26 712.184,1422.47 665.59,1422.47 665.59,1422.47 \n",
       "  \" fill=\"#009af9\" fill-rule=\"evenodd\" fill-opacity=\"1\"/>\n",
       "<polyline clip-path=\"url(#clip2703)\" style=\"stroke:#000000; stroke-width:4; stroke-opacity:1; fill:none\" points=\"\n",
       "  665.59,1422.47 665.59,1462.26 712.184,1462.26 712.184,1422.47 665.59,1422.47 \n",
       "  \"/>\n",
       "<polygon clip-path=\"url(#clip2703)\" points=\"\n",
       "712.184,1429.39 712.184,1462.26 758.778,1462.26 758.778,1429.39 712.184,1429.39 712.184,1429.39 \n",
       "  \" fill=\"#009af9\" fill-rule=\"evenodd\" fill-opacity=\"1\"/>\n",
       "<polyline clip-path=\"url(#clip2703)\" style=\"stroke:#000000; stroke-width:4; stroke-opacity:1; fill:none\" points=\"\n",
       "  712.184,1429.39 712.184,1462.26 758.778,1462.26 758.778,1429.39 712.184,1429.39 \n",
       "  \"/>\n",
       "<polygon clip-path=\"url(#clip2703)\" points=\"\n",
       "758.778,1394.78 758.778,1462.26 805.372,1462.26 805.372,1394.78 758.778,1394.78 758.778,1394.78 \n",
       "  \" fill=\"#009af9\" fill-rule=\"evenodd\" fill-opacity=\"1\"/>\n",
       "<polyline clip-path=\"url(#clip2703)\" style=\"stroke:#000000; stroke-width:4; stroke-opacity:1; fill:none\" points=\"\n",
       "  758.778,1394.78 758.778,1462.26 805.372,1462.26 805.372,1394.78 758.778,1394.78 \n",
       "  \"/>\n",
       "<polygon clip-path=\"url(#clip2703)\" points=\"\n",
       "805.372,1370.56 805.372,1462.26 851.967,1462.26 851.967,1370.56 805.372,1370.56 805.372,1370.56 \n",
       "  \" fill=\"#009af9\" fill-rule=\"evenodd\" fill-opacity=\"1\"/>\n",
       "<polyline clip-path=\"url(#clip2703)\" style=\"stroke:#000000; stroke-width:4; stroke-opacity:1; fill:none\" points=\"\n",
       "  805.372,1370.56 805.372,1462.26 851.967,1462.26 851.967,1370.56 805.372,1370.56 \n",
       "  \"/>\n",
       "<polygon clip-path=\"url(#clip2703)\" points=\"\n",
       "851.967,1289.24 851.967,1462.26 898.561,1462.26 898.561,1289.24 851.967,1289.24 851.967,1289.24 \n",
       "  \" fill=\"#009af9\" fill-rule=\"evenodd\" fill-opacity=\"1\"/>\n",
       "<polyline clip-path=\"url(#clip2703)\" style=\"stroke:#000000; stroke-width:4; stroke-opacity:1; fill:none\" points=\"\n",
       "  851.967,1289.24 851.967,1462.26 898.561,1462.26 898.561,1289.24 851.967,1289.24 \n",
       "  \"/>\n",
       "<polygon clip-path=\"url(#clip2703)\" points=\"\n",
       "898.561,1216.57 898.561,1462.26 945.155,1462.26 945.155,1216.57 898.561,1216.57 898.561,1216.57 \n",
       "  \" fill=\"#009af9\" fill-rule=\"evenodd\" fill-opacity=\"1\"/>\n",
       "<polyline clip-path=\"url(#clip2703)\" style=\"stroke:#000000; stroke-width:4; stroke-opacity:1; fill:none\" points=\"\n",
       "  898.561,1216.57 898.561,1462.26 945.155,1462.26 945.155,1216.57 898.561,1216.57 \n",
       "  \"/>\n",
       "<polygon clip-path=\"url(#clip2703)\" points=\"\n",
       "945.155,1150.82 945.155,1462.26 991.749,1462.26 991.749,1150.82 945.155,1150.82 945.155,1150.82 \n",
       "  \" fill=\"#009af9\" fill-rule=\"evenodd\" fill-opacity=\"1\"/>\n",
       "<polyline clip-path=\"url(#clip2703)\" style=\"stroke:#000000; stroke-width:4; stroke-opacity:1; fill:none\" points=\"\n",
       "  945.155,1150.82 945.155,1462.26 991.749,1462.26 991.749,1150.82 945.155,1150.82 \n",
       "  \"/>\n",
       "<polygon clip-path=\"url(#clip2703)\" points=\"\n",
       "991.749,1038.35 991.749,1462.26 1038.34,1462.26 1038.34,1038.35 991.749,1038.35 991.749,1038.35 \n",
       "  \" fill=\"#009af9\" fill-rule=\"evenodd\" fill-opacity=\"1\"/>\n",
       "<polyline clip-path=\"url(#clip2703)\" style=\"stroke:#000000; stroke-width:4; stroke-opacity:1; fill:none\" points=\"\n",
       "  991.749,1038.35 991.749,1462.26 1038.34,1462.26 1038.34,1038.35 991.749,1038.35 \n",
       "  \"/>\n",
       "<polygon clip-path=\"url(#clip2703)\" points=\"\n",
       "1038.34,860.141 1038.34,1462.26 1084.94,1462.26 1084.94,860.141 1038.34,860.141 1038.34,860.141 \n",
       "  \" fill=\"#009af9\" fill-rule=\"evenodd\" fill-opacity=\"1\"/>\n",
       "<polyline clip-path=\"url(#clip2703)\" style=\"stroke:#000000; stroke-width:4; stroke-opacity:1; fill:none\" points=\"\n",
       "  1038.34,860.141 1038.34,1462.26 1084.94,1462.26 1084.94,860.141 1038.34,860.141 \n",
       "  \"/>\n",
       "<polygon clip-path=\"url(#clip2703)\" points=\"\n",
       "1084.94,745.946 1084.94,1462.26 1131.53,1462.26 1131.53,745.946 1084.94,745.946 1084.94,745.946 \n",
       "  \" fill=\"#009af9\" fill-rule=\"evenodd\" fill-opacity=\"1\"/>\n",
       "<polyline clip-path=\"url(#clip2703)\" style=\"stroke:#000000; stroke-width:4; stroke-opacity:1; fill:none\" points=\"\n",
       "  1084.94,745.946 1084.94,1462.26 1131.53,1462.26 1131.53,745.946 1084.94,745.946 \n",
       "  \"/>\n",
       "<polygon clip-path=\"url(#clip2703)\" points=\"\n",
       "1131.53,543.509 1131.53,1462.26 1178.13,1462.26 1178.13,543.509 1131.53,543.509 1131.53,543.509 \n",
       "  \" fill=\"#009af9\" fill-rule=\"evenodd\" fill-opacity=\"1\"/>\n",
       "<polyline clip-path=\"url(#clip2703)\" style=\"stroke:#000000; stroke-width:4; stroke-opacity:1; fill:none\" points=\"\n",
       "  1131.53,543.509 1131.53,1462.26 1178.13,1462.26 1178.13,543.509 1131.53,543.509 \n",
       "  \"/>\n",
       "<polygon clip-path=\"url(#clip2703)\" points=\"\n",
       "1178.13,368.755 1178.13,1462.26 1224.72,1462.26 1224.72,368.755 1178.13,368.755 1178.13,368.755 \n",
       "  \" fill=\"#009af9\" fill-rule=\"evenodd\" fill-opacity=\"1\"/>\n",
       "<polyline clip-path=\"url(#clip2703)\" style=\"stroke:#000000; stroke-width:4; stroke-opacity:1; fill:none\" points=\"\n",
       "  1178.13,368.755 1178.13,1462.26 1224.72,1462.26 1224.72,368.755 1178.13,368.755 \n",
       "  \"/>\n",
       "<polygon clip-path=\"url(#clip2703)\" points=\"\n",
       "1224.72,245.909 1224.72,1462.26 1271.31,1462.26 1271.31,245.909 1224.72,245.909 1224.72,245.909 \n",
       "  \" fill=\"#009af9\" fill-rule=\"evenodd\" fill-opacity=\"1\"/>\n",
       "<polyline clip-path=\"url(#clip2703)\" style=\"stroke:#000000; stroke-width:4; stroke-opacity:1; fill:none\" points=\"\n",
       "  1224.72,245.909 1224.72,1462.26 1271.31,1462.26 1271.31,245.909 1224.72,245.909 \n",
       "  \"/>\n",
       "<polygon clip-path=\"url(#clip2703)\" points=\"\n",
       "1271.31,88.4582 1271.31,1462.26 1317.91,1462.26 1317.91,88.4582 1271.31,88.4582 1271.31,88.4582 \n",
       "  \" fill=\"#009af9\" fill-rule=\"evenodd\" fill-opacity=\"1\"/>\n",
       "<polyline clip-path=\"url(#clip2703)\" style=\"stroke:#000000; stroke-width:4; stroke-opacity:1; fill:none\" points=\"\n",
       "  1271.31,88.4582 1271.31,1462.26 1317.91,1462.26 1317.91,88.4582 1271.31,88.4582 \n",
       "  \"/>\n",
       "<polygon clip-path=\"url(#clip2703)\" points=\"\n",
       "1317.91,145.556 1317.91,1462.26 1364.5,1462.26 1364.5,145.556 1317.91,145.556 1317.91,145.556 \n",
       "  \" fill=\"#009af9\" fill-rule=\"evenodd\" fill-opacity=\"1\"/>\n",
       "<polyline clip-path=\"url(#clip2703)\" style=\"stroke:#000000; stroke-width:4; stroke-opacity:1; fill:none\" points=\"\n",
       "  1317.91,145.556 1317.91,1462.26 1364.5,1462.26 1364.5,145.556 1317.91,145.556 \n",
       "  \"/>\n",
       "<polygon clip-path=\"url(#clip2703)\" points=\"\n",
       "1364.5,97.1093 1364.5,1462.26 1411.1,1462.26 1411.1,97.1093 1364.5,97.1093 1364.5,97.1093 \n",
       "  \" fill=\"#009af9\" fill-rule=\"evenodd\" fill-opacity=\"1\"/>\n",
       "<polyline clip-path=\"url(#clip2703)\" style=\"stroke:#000000; stroke-width:4; stroke-opacity:1; fill:none\" points=\"\n",
       "  1364.5,97.1093 1364.5,1462.26 1411.1,1462.26 1411.1,97.1093 1364.5,97.1093 \n",
       "  \"/>\n",
       "<polygon clip-path=\"url(#clip2703)\" points=\"\n",
       "1411.1,185.351 1411.1,1462.26 1457.69,1462.26 1457.69,185.351 1411.1,185.351 1411.1,185.351 \n",
       "  \" fill=\"#009af9\" fill-rule=\"evenodd\" fill-opacity=\"1\"/>\n",
       "<polyline clip-path=\"url(#clip2703)\" style=\"stroke:#000000; stroke-width:4; stroke-opacity:1; fill:none\" points=\"\n",
       "  1411.1,185.351 1411.1,1462.26 1457.69,1462.26 1457.69,185.351 1411.1,185.351 \n",
       "  \"/>\n",
       "<polygon clip-path=\"url(#clip2703)\" points=\"\n",
       "1457.69,216.495 1457.69,1462.26 1504.29,1462.26 1504.29,216.495 1457.69,216.495 1457.69,216.495 \n",
       "  \" fill=\"#009af9\" fill-rule=\"evenodd\" fill-opacity=\"1\"/>\n",
       "<polyline clip-path=\"url(#clip2703)\" style=\"stroke:#000000; stroke-width:4; stroke-opacity:1; fill:none\" points=\"\n",
       "  1457.69,216.495 1457.69,1462.26 1504.29,1462.26 1504.29,216.495 1457.69,216.495 \n",
       "  \"/>\n",
       "<polygon clip-path=\"url(#clip2703)\" points=\"\n",
       "1504.29,353.183 1504.29,1462.26 1550.88,1462.26 1550.88,353.183 1504.29,353.183 1504.29,353.183 \n",
       "  \" fill=\"#009af9\" fill-rule=\"evenodd\" fill-opacity=\"1\"/>\n",
       "<polyline clip-path=\"url(#clip2703)\" style=\"stroke:#000000; stroke-width:4; stroke-opacity:1; fill:none\" points=\"\n",
       "  1504.29,353.183 1504.29,1462.26 1550.88,1462.26 1550.88,353.183 1504.29,353.183 \n",
       "  \"/>\n",
       "<polygon clip-path=\"url(#clip2703)\" points=\"\n",
       "1550.88,514.095 1550.88,1462.26 1597.47,1462.26 1597.47,514.095 1550.88,514.095 1550.88,514.095 \n",
       "  \" fill=\"#009af9\" fill-rule=\"evenodd\" fill-opacity=\"1\"/>\n",
       "<polyline clip-path=\"url(#clip2703)\" style=\"stroke:#000000; stroke-width:4; stroke-opacity:1; fill:none\" points=\"\n",
       "  1550.88,514.095 1550.88,1462.26 1597.47,1462.26 1597.47,514.095 1550.88,514.095 \n",
       "  \"/>\n",
       "<polygon clip-path=\"url(#clip2703)\" points=\"\n",
       "1597.47,690.578 1597.47,1462.26 1644.07,1462.26 1644.07,690.578 1597.47,690.578 1597.47,690.578 \n",
       "  \" fill=\"#009af9\" fill-rule=\"evenodd\" fill-opacity=\"1\"/>\n",
       "<polyline clip-path=\"url(#clip2703)\" style=\"stroke:#000000; stroke-width:4; stroke-opacity:1; fill:none\" points=\"\n",
       "  1597.47,690.578 1597.47,1462.26 1644.07,1462.26 1644.07,690.578 1597.47,690.578 \n",
       "  \"/>\n",
       "<polygon clip-path=\"url(#clip2703)\" points=\"\n",
       "1644.07,887.824 1644.07,1462.26 1690.66,1462.26 1690.66,887.824 1644.07,887.824 1644.07,887.824 \n",
       "  \" fill=\"#009af9\" fill-rule=\"evenodd\" fill-opacity=\"1\"/>\n",
       "<polyline clip-path=\"url(#clip2703)\" style=\"stroke:#000000; stroke-width:4; stroke-opacity:1; fill:none\" points=\"\n",
       "  1644.07,887.824 1644.07,1462.26 1690.66,1462.26 1690.66,887.824 1644.07,887.824 \n",
       "  \"/>\n",
       "<polygon clip-path=\"url(#clip2703)\" points=\"\n",
       "1690.66,1033.16 1690.66,1462.26 1737.26,1462.26 1737.26,1033.16 1690.66,1033.16 1690.66,1033.16 \n",
       "  \" fill=\"#009af9\" fill-rule=\"evenodd\" fill-opacity=\"1\"/>\n",
       "<polyline clip-path=\"url(#clip2703)\" style=\"stroke:#000000; stroke-width:4; stroke-opacity:1; fill:none\" points=\"\n",
       "  1690.66,1033.16 1690.66,1462.26 1737.26,1462.26 1737.26,1033.16 1690.66,1033.16 \n",
       "  \"/>\n",
       "<polygon clip-path=\"url(#clip2703)\" points=\"\n",
       "1737.26,1136.98 1737.26,1462.26 1783.85,1462.26 1783.85,1136.98 1737.26,1136.98 1737.26,1136.98 \n",
       "  \" fill=\"#009af9\" fill-rule=\"evenodd\" fill-opacity=\"1\"/>\n",
       "<polyline clip-path=\"url(#clip2703)\" style=\"stroke:#000000; stroke-width:4; stroke-opacity:1; fill:none\" points=\"\n",
       "  1737.26,1136.98 1737.26,1462.26 1783.85,1462.26 1783.85,1136.98 1737.26,1136.98 \n",
       "  \"/>\n",
       "<polygon clip-path=\"url(#clip2703)\" points=\"\n",
       "1783.85,1233.87 1783.85,1462.26 1830.45,1462.26 1830.45,1233.87 1783.85,1233.87 1783.85,1233.87 \n",
       "  \" fill=\"#009af9\" fill-rule=\"evenodd\" fill-opacity=\"1\"/>\n",
       "<polyline clip-path=\"url(#clip2703)\" style=\"stroke:#000000; stroke-width:4; stroke-opacity:1; fill:none\" points=\"\n",
       "  1783.85,1233.87 1783.85,1462.26 1830.45,1462.26 1830.45,1233.87 1783.85,1233.87 \n",
       "  \"/>\n",
       "<polygon clip-path=\"url(#clip2703)\" points=\"\n",
       "1830.45,1310 1830.45,1462.26 1877.04,1462.26 1877.04,1310 1830.45,1310 1830.45,1310 \n",
       "  \" fill=\"#009af9\" fill-rule=\"evenodd\" fill-opacity=\"1\"/>\n",
       "<polyline clip-path=\"url(#clip2703)\" style=\"stroke:#000000; stroke-width:4; stroke-opacity:1; fill:none\" points=\"\n",
       "  1830.45,1310 1830.45,1462.26 1877.04,1462.26 1877.04,1310 1830.45,1310 \n",
       "  \"/>\n",
       "<polygon clip-path=\"url(#clip2703)\" points=\"\n",
       "1877.04,1370.56 1877.04,1462.26 1923.63,1462.26 1923.63,1370.56 1877.04,1370.56 1877.04,1370.56 \n",
       "  \" fill=\"#009af9\" fill-rule=\"evenodd\" fill-opacity=\"1\"/>\n",
       "<polyline clip-path=\"url(#clip2703)\" style=\"stroke:#000000; stroke-width:4; stroke-opacity:1; fill:none\" points=\"\n",
       "  1877.04,1370.56 1877.04,1462.26 1923.63,1462.26 1923.63,1370.56 1877.04,1370.56 \n",
       "  \"/>\n",
       "<polygon clip-path=\"url(#clip2703)\" points=\"\n",
       "1923.63,1403.43 1923.63,1462.26 1970.23,1462.26 1970.23,1403.43 1923.63,1403.43 1923.63,1403.43 \n",
       "  \" fill=\"#009af9\" fill-rule=\"evenodd\" fill-opacity=\"1\"/>\n",
       "<polyline clip-path=\"url(#clip2703)\" style=\"stroke:#000000; stroke-width:4; stroke-opacity:1; fill:none\" points=\"\n",
       "  1923.63,1403.43 1923.63,1462.26 1970.23,1462.26 1970.23,1403.43 1923.63,1403.43 \n",
       "  \"/>\n",
       "<polygon clip-path=\"url(#clip2703)\" points=\"\n",
       "1970.23,1420.74 1970.23,1462.26 2016.82,1462.26 2016.82,1420.74 1970.23,1420.74 1970.23,1420.74 \n",
       "  \" fill=\"#009af9\" fill-rule=\"evenodd\" fill-opacity=\"1\"/>\n",
       "<polyline clip-path=\"url(#clip2703)\" style=\"stroke:#000000; stroke-width:4; stroke-opacity:1; fill:none\" points=\"\n",
       "  1970.23,1420.74 1970.23,1462.26 2016.82,1462.26 2016.82,1420.74 1970.23,1420.74 \n",
       "  \"/>\n",
       "<polygon clip-path=\"url(#clip2703)\" points=\"\n",
       "2016.82,1443.23 2016.82,1462.26 2063.42,1462.26 2063.42,1443.23 2016.82,1443.23 2016.82,1443.23 \n",
       "  \" fill=\"#009af9\" fill-rule=\"evenodd\" fill-opacity=\"1\"/>\n",
       "<polyline clip-path=\"url(#clip2703)\" style=\"stroke:#000000; stroke-width:4; stroke-opacity:1; fill:none\" points=\"\n",
       "  2016.82,1443.23 2016.82,1462.26 2063.42,1462.26 2063.42,1443.23 2016.82,1443.23 \n",
       "  \"/>\n",
       "<polygon clip-path=\"url(#clip2703)\" points=\"\n",
       "2063.42,1448.42 2063.42,1462.26 2110.01,1462.26 2110.01,1448.42 2063.42,1448.42 2063.42,1448.42 \n",
       "  \" fill=\"#009af9\" fill-rule=\"evenodd\" fill-opacity=\"1\"/>\n",
       "<polyline clip-path=\"url(#clip2703)\" style=\"stroke:#000000; stroke-width:4; stroke-opacity:1; fill:none\" points=\"\n",
       "  2063.42,1448.42 2063.42,1462.26 2110.01,1462.26 2110.01,1448.42 2063.42,1448.42 \n",
       "  \"/>\n",
       "<polygon clip-path=\"url(#clip2703)\" points=\"\n",
       "2110.01,1458.8 2110.01,1462.26 2156.61,1462.26 2156.61,1458.8 2110.01,1458.8 2110.01,1458.8 \n",
       "  \" fill=\"#009af9\" fill-rule=\"evenodd\" fill-opacity=\"1\"/>\n",
       "<polyline clip-path=\"url(#clip2703)\" style=\"stroke:#000000; stroke-width:4; stroke-opacity:1; fill:none\" points=\"\n",
       "  2110.01,1458.8 2110.01,1462.26 2156.61,1462.26 2156.61,1458.8 2110.01,1458.8 \n",
       "  \"/>\n",
       "<polygon clip-path=\"url(#clip2703)\" points=\"\n",
       "2156.61,1460.53 2156.61,1462.26 2203.2,1462.26 2203.2,1460.53 2156.61,1460.53 2156.61,1460.53 \n",
       "  \" fill=\"#009af9\" fill-rule=\"evenodd\" fill-opacity=\"1\"/>\n",
       "<polyline clip-path=\"url(#clip2703)\" style=\"stroke:#000000; stroke-width:4; stroke-opacity:1; fill:none\" points=\"\n",
       "  2156.61,1460.53 2156.61,1462.26 2203.2,1462.26 2203.2,1460.53 2156.61,1460.53 \n",
       "  \"/>\n",
       "<polygon clip-path=\"url(#clip2701)\" points=\"\n",
       "1958.43,251.724 2249.26,251.724 2249.26,130.764 1958.43,130.764 \n",
       "  \" fill=\"#ffffff\" fill-rule=\"evenodd\" fill-opacity=\"1\"/>\n",
       "<polyline clip-path=\"url(#clip2701)\" style=\"stroke:#000000; stroke-width:4; stroke-opacity:1; fill:none\" points=\"\n",
       "  1958.43,251.724 2249.26,251.724 2249.26,130.764 1958.43,130.764 1958.43,251.724 \n",
       "  \"/>\n",
       "<polygon clip-path=\"url(#clip2701)\" points=\"\n",
       "1982.43,215.436 2126.43,215.436 2126.43,167.052 1982.43,167.052 1982.43,215.436 \n",
       "  \" fill=\"#009af9\" fill-rule=\"evenodd\" fill-opacity=\"1\"/>\n",
       "<polyline clip-path=\"url(#clip2701)\" style=\"stroke:#000000; stroke-width:4; stroke-opacity:1; fill:none\" points=\"\n",
       "  1982.43,215.436 2126.43,215.436 2126.43,167.052 1982.43,167.052 1982.43,215.436 \n",
       "  \"/>\n",
       "<g clip-path=\"url(#clip2701)\">\n",
       "<text style=\"fill:#000000; fill-opacity:1; font-family:Arial,Helvetica Neue,Helvetica,sans-serif; font-size:48px; text-anchor:start;\" transform=\"rotate(0, 2150.43, 208.744)\" x=\"2150.43\" y=\"208.744\">y1</text>\n",
       "</g>\n",
       "</svg>\n"
      ]
     },
     "execution_count": 30,
     "metadata": {},
     "output_type": "execute_result"
    }
   ],
   "source": [
    "histogram(randn(10000))"
   ]
  },
  {
   "cell_type": "code",
   "execution_count": 31,
   "metadata": {
    "hidden": true
   },
   "outputs": [
    {
     "data": {
      "image/svg+xml": [
       "<?xml version=\"1.0\" encoding=\"utf-8\"?>\n",
       "<svg xmlns=\"http://www.w3.org/2000/svg\" xmlns:xlink=\"http://www.w3.org/1999/xlink\" width=\"600\" height=\"400\" viewBox=\"0 0 2400 1600\">\n",
       "<defs>\n",
       "  <clipPath id=\"clip2900\">\n",
       "    <rect x=\"0\" y=\"0\" width=\"2000\" height=\"2000\"/>\n",
       "  </clipPath>\n",
       "</defs>\n",
       "<defs>\n",
       "  <clipPath id=\"clip2901\">\n",
       "    <rect x=\"0\" y=\"0\" width=\"2400\" height=\"1600\"/>\n",
       "  </clipPath>\n",
       "</defs>\n",
       "<polygon clip-path=\"url(#clip2901)\" points=\"\n",
       "0,1600 2400,1600 2400,0 0,0 \n",
       "  \" fill=\"#ffffff\" fill-rule=\"evenodd\" fill-opacity=\"1\"/>\n",
       "<defs>\n",
       "  <clipPath id=\"clip2902\">\n",
       "    <rect x=\"480\" y=\"0\" width=\"1681\" height=\"1600\"/>\n",
       "  </clipPath>\n",
       "</defs>\n",
       "<polygon clip-path=\"url(#clip2901)\" points=\"\n",
       "174.775,1503.47 2321.26,1503.47 2321.26,47.2441 174.775,47.2441 \n",
       "  \" fill=\"#ffffff\" fill-rule=\"evenodd\" fill-opacity=\"1\"/>\n",
       "<defs>\n",
       "  <clipPath id=\"clip2903\">\n",
       "    <rect x=\"174\" y=\"47\" width=\"2147\" height=\"1457\"/>\n",
       "  </clipPath>\n",
       "</defs>\n",
       "<polyline clip-path=\"url(#clip2903)\" style=\"stroke:#000000; stroke-width:2; stroke-opacity:0.1; fill:none\" points=\"\n",
       "  338.321,1503.47 338.321,47.2441 \n",
       "  \"/>\n",
       "<polyline clip-path=\"url(#clip2903)\" style=\"stroke:#000000; stroke-width:2; stroke-opacity:0.1; fill:none\" points=\"\n",
       "  793.169,1503.47 793.169,47.2441 \n",
       "  \"/>\n",
       "<polyline clip-path=\"url(#clip2903)\" style=\"stroke:#000000; stroke-width:2; stroke-opacity:0.1; fill:none\" points=\"\n",
       "  1248.02,1503.47 1248.02,47.2441 \n",
       "  \"/>\n",
       "<polyline clip-path=\"url(#clip2903)\" style=\"stroke:#000000; stroke-width:2; stroke-opacity:0.1; fill:none\" points=\"\n",
       "  1702.87,1503.47 1702.87,47.2441 \n",
       "  \"/>\n",
       "<polyline clip-path=\"url(#clip2903)\" style=\"stroke:#000000; stroke-width:2; stroke-opacity:0.1; fill:none\" points=\"\n",
       "  2157.71,1503.47 2157.71,47.2441 \n",
       "  \"/>\n",
       "<polyline clip-path=\"url(#clip2903)\" style=\"stroke:#000000; stroke-width:2; stroke-opacity:0.1; fill:none\" points=\"\n",
       "  174.775,1462.26 2321.26,1462.26 \n",
       "  \"/>\n",
       "<polyline clip-path=\"url(#clip2903)\" style=\"stroke:#000000; stroke-width:2; stroke-opacity:0.1; fill:none\" points=\"\n",
       "  174.775,1144.99 2321.26,1144.99 \n",
       "  \"/>\n",
       "<polyline clip-path=\"url(#clip2903)\" style=\"stroke:#000000; stroke-width:2; stroke-opacity:0.1; fill:none\" points=\"\n",
       "  174.775,827.71 2321.26,827.71 \n",
       "  \"/>\n",
       "<polyline clip-path=\"url(#clip2903)\" style=\"stroke:#000000; stroke-width:2; stroke-opacity:0.1; fill:none\" points=\"\n",
       "  174.775,510.434 2321.26,510.434 \n",
       "  \"/>\n",
       "<polyline clip-path=\"url(#clip2903)\" style=\"stroke:#000000; stroke-width:2; stroke-opacity:0.1; fill:none\" points=\"\n",
       "  174.775,193.159 2321.26,193.159 \n",
       "  \"/>\n",
       "<polyline clip-path=\"url(#clip2901)\" style=\"stroke:#000000; stroke-width:4; stroke-opacity:1; fill:none\" points=\"\n",
       "  174.775,1503.47 2321.26,1503.47 \n",
       "  \"/>\n",
       "<polyline clip-path=\"url(#clip2901)\" style=\"stroke:#000000; stroke-width:4; stroke-opacity:1; fill:none\" points=\"\n",
       "  174.775,1503.47 174.775,47.2441 \n",
       "  \"/>\n",
       "<polyline clip-path=\"url(#clip2901)\" style=\"stroke:#000000; stroke-width:4; stroke-opacity:1; fill:none\" points=\"\n",
       "  338.321,1503.47 338.321,1481.63 \n",
       "  \"/>\n",
       "<polyline clip-path=\"url(#clip2901)\" style=\"stroke:#000000; stroke-width:4; stroke-opacity:1; fill:none\" points=\"\n",
       "  793.169,1503.47 793.169,1481.63 \n",
       "  \"/>\n",
       "<polyline clip-path=\"url(#clip2901)\" style=\"stroke:#000000; stroke-width:4; stroke-opacity:1; fill:none\" points=\"\n",
       "  1248.02,1503.47 1248.02,1481.63 \n",
       "  \"/>\n",
       "<polyline clip-path=\"url(#clip2901)\" style=\"stroke:#000000; stroke-width:4; stroke-opacity:1; fill:none\" points=\"\n",
       "  1702.87,1503.47 1702.87,1481.63 \n",
       "  \"/>\n",
       "<polyline clip-path=\"url(#clip2901)\" style=\"stroke:#000000; stroke-width:4; stroke-opacity:1; fill:none\" points=\"\n",
       "  2157.71,1503.47 2157.71,1481.63 \n",
       "  \"/>\n",
       "<polyline clip-path=\"url(#clip2901)\" style=\"stroke:#000000; stroke-width:4; stroke-opacity:1; fill:none\" points=\"\n",
       "  174.775,1462.26 206.972,1462.26 \n",
       "  \"/>\n",
       "<polyline clip-path=\"url(#clip2901)\" style=\"stroke:#000000; stroke-width:4; stroke-opacity:1; fill:none\" points=\"\n",
       "  174.775,1144.99 206.972,1144.99 \n",
       "  \"/>\n",
       "<polyline clip-path=\"url(#clip2901)\" style=\"stroke:#000000; stroke-width:4; stroke-opacity:1; fill:none\" points=\"\n",
       "  174.775,827.71 206.972,827.71 \n",
       "  \"/>\n",
       "<polyline clip-path=\"url(#clip2901)\" style=\"stroke:#000000; stroke-width:4; stroke-opacity:1; fill:none\" points=\"\n",
       "  174.775,510.434 206.972,510.434 \n",
       "  \"/>\n",
       "<polyline clip-path=\"url(#clip2901)\" style=\"stroke:#000000; stroke-width:4; stroke-opacity:1; fill:none\" points=\"\n",
       "  174.775,193.159 206.972,193.159 \n",
       "  \"/>\n",
       "<g clip-path=\"url(#clip2901)\">\n",
       "<text style=\"fill:#000000; fill-opacity:1; font-family:Arial,Helvetica Neue,Helvetica,sans-serif; font-size:48px; text-anchor:middle;\" transform=\"rotate(0, 338.321, 1557.47)\" x=\"338.321\" y=\"1557.47\">-4</text>\n",
       "</g>\n",
       "<g clip-path=\"url(#clip2901)\">\n",
       "<text style=\"fill:#000000; fill-opacity:1; font-family:Arial,Helvetica Neue,Helvetica,sans-serif; font-size:48px; text-anchor:middle;\" transform=\"rotate(0, 793.169, 1557.47)\" x=\"793.169\" y=\"1557.47\">-2</text>\n",
       "</g>\n",
       "<g clip-path=\"url(#clip2901)\">\n",
       "<text style=\"fill:#000000; fill-opacity:1; font-family:Arial,Helvetica Neue,Helvetica,sans-serif; font-size:48px; text-anchor:middle;\" transform=\"rotate(0, 1248.02, 1557.47)\" x=\"1248.02\" y=\"1557.47\">0</text>\n",
       "</g>\n",
       "<g clip-path=\"url(#clip2901)\">\n",
       "<text style=\"fill:#000000; fill-opacity:1; font-family:Arial,Helvetica Neue,Helvetica,sans-serif; font-size:48px; text-anchor:middle;\" transform=\"rotate(0, 1702.87, 1557.47)\" x=\"1702.87\" y=\"1557.47\">2</text>\n",
       "</g>\n",
       "<g clip-path=\"url(#clip2901)\">\n",
       "<text style=\"fill:#000000; fill-opacity:1; font-family:Arial,Helvetica Neue,Helvetica,sans-serif; font-size:48px; text-anchor:middle;\" transform=\"rotate(0, 2157.71, 1557.47)\" x=\"2157.71\" y=\"1557.47\">4</text>\n",
       "</g>\n",
       "<g clip-path=\"url(#clip2901)\">\n",
       "<text style=\"fill:#000000; fill-opacity:1; font-family:Arial,Helvetica Neue,Helvetica,sans-serif; font-size:48px; text-anchor:end;\" transform=\"rotate(0, 150.775, 1479.76)\" x=\"150.775\" y=\"1479.76\">0</text>\n",
       "</g>\n",
       "<g clip-path=\"url(#clip2901)\">\n",
       "<text style=\"fill:#000000; fill-opacity:1; font-family:Arial,Helvetica Neue,Helvetica,sans-serif; font-size:48px; text-anchor:end;\" transform=\"rotate(0, 150.775, 1162.49)\" x=\"150.775\" y=\"1162.49\">100</text>\n",
       "</g>\n",
       "<g clip-path=\"url(#clip2901)\">\n",
       "<text style=\"fill:#000000; fill-opacity:1; font-family:Arial,Helvetica Neue,Helvetica,sans-serif; font-size:48px; text-anchor:end;\" transform=\"rotate(0, 150.775, 845.21)\" x=\"150.775\" y=\"845.21\">200</text>\n",
       "</g>\n",
       "<g clip-path=\"url(#clip2901)\">\n",
       "<text style=\"fill:#000000; fill-opacity:1; font-family:Arial,Helvetica Neue,Helvetica,sans-serif; font-size:48px; text-anchor:end;\" transform=\"rotate(0, 150.775, 527.934)\" x=\"150.775\" y=\"527.934\">300</text>\n",
       "</g>\n",
       "<g clip-path=\"url(#clip2901)\">\n",
       "<text style=\"fill:#000000; fill-opacity:1; font-family:Arial,Helvetica Neue,Helvetica,sans-serif; font-size:48px; text-anchor:end;\" transform=\"rotate(0, 150.775, 210.659)\" x=\"150.775\" y=\"210.659\">400</text>\n",
       "</g>\n",
       "<polygon clip-path=\"url(#clip2903)\" points=\"\n",
       "292.836,1455.92 292.836,1462.26 315.578,1462.26 315.578,1455.92 292.836,1455.92 292.836,1455.92 \n",
       "  \" fill=\"#009af9\" fill-rule=\"evenodd\" fill-opacity=\"1\"/>\n",
       "<polyline clip-path=\"url(#clip2903)\" style=\"stroke:#000000; stroke-width:4; stroke-opacity:1; fill:none\" points=\"\n",
       "  292.836,1455.92 292.836,1462.26 315.578,1462.26 315.578,1455.92 292.836,1455.92 \n",
       "  \"/>\n",
       "<polygon clip-path=\"url(#clip2903)\" points=\"\n",
       "315.578,1462.26 315.578,1462.26 338.321,1462.26 338.321,1462.26 315.578,1462.26 315.578,1462.26 \n",
       "  \" fill=\"#009af9\" fill-rule=\"evenodd\" fill-opacity=\"1\"/>\n",
       "<polyline clip-path=\"url(#clip2903)\" style=\"stroke:#000000; stroke-width:4; stroke-opacity:1; fill:none\" points=\"\n",
       "  315.578,1462.26 315.578,1462.26 338.321,1462.26 315.578,1462.26 \n",
       "  \"/>\n",
       "<polygon clip-path=\"url(#clip2903)\" points=\"\n",
       "338.321,1462.26 338.321,1462.26 361.063,1462.26 361.063,1462.26 338.321,1462.26 338.321,1462.26 \n",
       "  \" fill=\"#009af9\" fill-rule=\"evenodd\" fill-opacity=\"1\"/>\n",
       "<polyline clip-path=\"url(#clip2903)\" style=\"stroke:#000000; stroke-width:4; stroke-opacity:1; fill:none\" points=\"\n",
       "  338.321,1462.26 338.321,1462.26 361.063,1462.26 338.321,1462.26 \n",
       "  \"/>\n",
       "<polygon clip-path=\"url(#clip2903)\" points=\"\n",
       "361.063,1462.26 361.063,1462.26 383.805,1462.26 383.805,1462.26 361.063,1462.26 361.063,1462.26 \n",
       "  \" fill=\"#009af9\" fill-rule=\"evenodd\" fill-opacity=\"1\"/>\n",
       "<polyline clip-path=\"url(#clip2903)\" style=\"stroke:#000000; stroke-width:4; stroke-opacity:1; fill:none\" points=\"\n",
       "  361.063,1462.26 361.063,1462.26 383.805,1462.26 361.063,1462.26 \n",
       "  \"/>\n",
       "<polygon clip-path=\"url(#clip2903)\" points=\"\n",
       "383.805,1459.09 383.805,1462.26 406.548,1462.26 406.548,1459.09 383.805,1459.09 383.805,1459.09 \n",
       "  \" fill=\"#009af9\" fill-rule=\"evenodd\" fill-opacity=\"1\"/>\n",
       "<polyline clip-path=\"url(#clip2903)\" style=\"stroke:#000000; stroke-width:4; stroke-opacity:1; fill:none\" points=\"\n",
       "  383.805,1459.09 383.805,1462.26 406.548,1462.26 406.548,1459.09 383.805,1459.09 \n",
       "  \"/>\n",
       "<polygon clip-path=\"url(#clip2903)\" points=\"\n",
       "406.548,1459.09 406.548,1462.26 429.29,1462.26 429.29,1459.09 406.548,1459.09 406.548,1459.09 \n",
       "  \" fill=\"#009af9\" fill-rule=\"evenodd\" fill-opacity=\"1\"/>\n",
       "<polyline clip-path=\"url(#clip2903)\" style=\"stroke:#000000; stroke-width:4; stroke-opacity:1; fill:none\" points=\"\n",
       "  406.548,1459.09 406.548,1462.26 429.29,1462.26 429.29,1459.09 406.548,1459.09 \n",
       "  \"/>\n",
       "<polygon clip-path=\"url(#clip2903)\" points=\"\n",
       "429.29,1455.92 429.29,1462.26 452.033,1462.26 452.033,1455.92 429.29,1455.92 429.29,1455.92 \n",
       "  \" fill=\"#009af9\" fill-rule=\"evenodd\" fill-opacity=\"1\"/>\n",
       "<polyline clip-path=\"url(#clip2903)\" style=\"stroke:#000000; stroke-width:4; stroke-opacity:1; fill:none\" points=\"\n",
       "  429.29,1455.92 429.29,1462.26 452.033,1462.26 452.033,1455.92 429.29,1455.92 \n",
       "  \"/>\n",
       "<polygon clip-path=\"url(#clip2903)\" points=\"\n",
       "452.033,1459.09 452.033,1462.26 474.775,1462.26 474.775,1459.09 452.033,1459.09 452.033,1459.09 \n",
       "  \" fill=\"#009af9\" fill-rule=\"evenodd\" fill-opacity=\"1\"/>\n",
       "<polyline clip-path=\"url(#clip2903)\" style=\"stroke:#000000; stroke-width:4; stroke-opacity:1; fill:none\" points=\"\n",
       "  452.033,1459.09 452.033,1462.26 474.775,1462.26 474.775,1459.09 452.033,1459.09 \n",
       "  \"/>\n",
       "<polygon clip-path=\"url(#clip2903)\" points=\"\n",
       "474.775,1459.09 474.775,1462.26 497.518,1462.26 497.518,1459.09 474.775,1459.09 474.775,1459.09 \n",
       "  \" fill=\"#009af9\" fill-rule=\"evenodd\" fill-opacity=\"1\"/>\n",
       "<polyline clip-path=\"url(#clip2903)\" style=\"stroke:#000000; stroke-width:4; stroke-opacity:1; fill:none\" points=\"\n",
       "  474.775,1459.09 474.775,1462.26 497.518,1462.26 497.518,1459.09 474.775,1459.09 \n",
       "  \"/>\n",
       "<polygon clip-path=\"url(#clip2903)\" points=\"\n",
       "497.518,1452.74 497.518,1462.26 520.26,1462.26 520.26,1452.74 497.518,1452.74 497.518,1452.74 \n",
       "  \" fill=\"#009af9\" fill-rule=\"evenodd\" fill-opacity=\"1\"/>\n",
       "<polyline clip-path=\"url(#clip2903)\" style=\"stroke:#000000; stroke-width:4; stroke-opacity:1; fill:none\" points=\"\n",
       "  497.518,1452.74 497.518,1462.26 520.26,1462.26 520.26,1452.74 497.518,1452.74 \n",
       "  \"/>\n",
       "<polygon clip-path=\"url(#clip2903)\" points=\"\n",
       "520.26,1446.4 520.26,1462.26 543.002,1462.26 543.002,1446.4 520.26,1446.4 520.26,1446.4 \n",
       "  \" fill=\"#009af9\" fill-rule=\"evenodd\" fill-opacity=\"1\"/>\n",
       "<polyline clip-path=\"url(#clip2903)\" style=\"stroke:#000000; stroke-width:4; stroke-opacity:1; fill:none\" points=\"\n",
       "  520.26,1446.4 520.26,1462.26 543.002,1462.26 543.002,1446.4 520.26,1446.4 \n",
       "  \"/>\n",
       "<polygon clip-path=\"url(#clip2903)\" points=\"\n",
       "543.002,1452.74 543.002,1462.26 565.745,1462.26 565.745,1452.74 543.002,1452.74 543.002,1452.74 \n",
       "  \" fill=\"#009af9\" fill-rule=\"evenodd\" fill-opacity=\"1\"/>\n",
       "<polyline clip-path=\"url(#clip2903)\" style=\"stroke:#000000; stroke-width:4; stroke-opacity:1; fill:none\" points=\"\n",
       "  543.002,1452.74 543.002,1462.26 565.745,1462.26 565.745,1452.74 543.002,1452.74 \n",
       "  \"/>\n",
       "<polygon clip-path=\"url(#clip2903)\" points=\"\n",
       "565.745,1436.88 565.745,1462.26 588.487,1462.26 588.487,1436.88 565.745,1436.88 565.745,1436.88 \n",
       "  \" fill=\"#009af9\" fill-rule=\"evenodd\" fill-opacity=\"1\"/>\n",
       "<polyline clip-path=\"url(#clip2903)\" style=\"stroke:#000000; stroke-width:4; stroke-opacity:1; fill:none\" points=\"\n",
       "  565.745,1436.88 565.745,1462.26 588.487,1462.26 588.487,1436.88 565.745,1436.88 \n",
       "  \"/>\n",
       "<polygon clip-path=\"url(#clip2903)\" points=\"\n",
       "588.487,1443.22 588.487,1462.26 611.23,1462.26 611.23,1443.22 588.487,1443.22 588.487,1443.22 \n",
       "  \" fill=\"#009af9\" fill-rule=\"evenodd\" fill-opacity=\"1\"/>\n",
       "<polyline clip-path=\"url(#clip2903)\" style=\"stroke:#000000; stroke-width:4; stroke-opacity:1; fill:none\" points=\"\n",
       "  588.487,1443.22 588.487,1462.26 611.23,1462.26 611.23,1443.22 588.487,1443.22 \n",
       "  \"/>\n",
       "<polygon clip-path=\"url(#clip2903)\" points=\"\n",
       "611.23,1440.05 611.23,1462.26 633.972,1462.26 633.972,1440.05 611.23,1440.05 611.23,1440.05 \n",
       "  \" fill=\"#009af9\" fill-rule=\"evenodd\" fill-opacity=\"1\"/>\n",
       "<polyline clip-path=\"url(#clip2903)\" style=\"stroke:#000000; stroke-width:4; stroke-opacity:1; fill:none\" points=\"\n",
       "  611.23,1440.05 611.23,1462.26 633.972,1462.26 633.972,1440.05 611.23,1440.05 \n",
       "  \"/>\n",
       "<polygon clip-path=\"url(#clip2903)\" points=\"\n",
       "633.972,1430.53 633.972,1462.26 656.714,1462.26 656.714,1430.53 633.972,1430.53 633.972,1430.53 \n",
       "  \" fill=\"#009af9\" fill-rule=\"evenodd\" fill-opacity=\"1\"/>\n",
       "<polyline clip-path=\"url(#clip2903)\" style=\"stroke:#000000; stroke-width:4; stroke-opacity:1; fill:none\" points=\"\n",
       "  633.972,1430.53 633.972,1462.26 656.714,1462.26 656.714,1430.53 633.972,1430.53 \n",
       "  \"/>\n",
       "<polygon clip-path=\"url(#clip2903)\" points=\"\n",
       "656.714,1395.63 656.714,1462.26 679.457,1462.26 679.457,1395.63 656.714,1395.63 656.714,1395.63 \n",
       "  \" fill=\"#009af9\" fill-rule=\"evenodd\" fill-opacity=\"1\"/>\n",
       "<polyline clip-path=\"url(#clip2903)\" style=\"stroke:#000000; stroke-width:4; stroke-opacity:1; fill:none\" points=\"\n",
       "  656.714,1395.63 656.714,1462.26 679.457,1462.26 679.457,1395.63 656.714,1395.63 \n",
       "  \"/>\n",
       "<polygon clip-path=\"url(#clip2903)\" points=\"\n",
       "679.457,1411.5 679.457,1462.26 702.199,1462.26 702.199,1411.5 679.457,1411.5 679.457,1411.5 \n",
       "  \" fill=\"#009af9\" fill-rule=\"evenodd\" fill-opacity=\"1\"/>\n",
       "<polyline clip-path=\"url(#clip2903)\" style=\"stroke:#000000; stroke-width:4; stroke-opacity:1; fill:none\" points=\"\n",
       "  679.457,1411.5 679.457,1462.26 702.199,1462.26 702.199,1411.5 679.457,1411.5 \n",
       "  \"/>\n",
       "<polygon clip-path=\"url(#clip2903)\" points=\"\n",
       "702.199,1386.11 702.199,1462.26 724.942,1462.26 724.942,1386.11 702.199,1386.11 702.199,1386.11 \n",
       "  \" fill=\"#009af9\" fill-rule=\"evenodd\" fill-opacity=\"1\"/>\n",
       "<polyline clip-path=\"url(#clip2903)\" style=\"stroke:#000000; stroke-width:4; stroke-opacity:1; fill:none\" points=\"\n",
       "  702.199,1386.11 702.199,1462.26 724.942,1462.26 724.942,1386.11 702.199,1386.11 \n",
       "  \"/>\n",
       "<polygon clip-path=\"url(#clip2903)\" points=\"\n",
       "724.942,1386.11 724.942,1462.26 747.684,1462.26 747.684,1386.11 724.942,1386.11 724.942,1386.11 \n",
       "  \" fill=\"#009af9\" fill-rule=\"evenodd\" fill-opacity=\"1\"/>\n",
       "<polyline clip-path=\"url(#clip2903)\" style=\"stroke:#000000; stroke-width:4; stroke-opacity:1; fill:none\" points=\"\n",
       "  724.942,1386.11 724.942,1462.26 747.684,1462.26 747.684,1386.11 724.942,1386.11 \n",
       "  \"/>\n",
       "<polygon clip-path=\"url(#clip2903)\" points=\"\n",
       "747.684,1348.04 747.684,1462.26 770.427,1462.26 770.427,1348.04 747.684,1348.04 747.684,1348.04 \n",
       "  \" fill=\"#009af9\" fill-rule=\"evenodd\" fill-opacity=\"1\"/>\n",
       "<polyline clip-path=\"url(#clip2903)\" style=\"stroke:#000000; stroke-width:4; stroke-opacity:1; fill:none\" points=\"\n",
       "  747.684,1348.04 747.684,1462.26 770.427,1462.26 770.427,1348.04 747.684,1348.04 \n",
       "  \"/>\n",
       "<polygon clip-path=\"url(#clip2903)\" points=\"\n",
       "770.427,1290.93 770.427,1462.26 793.169,1462.26 793.169,1290.93 770.427,1290.93 770.427,1290.93 \n",
       "  \" fill=\"#009af9\" fill-rule=\"evenodd\" fill-opacity=\"1\"/>\n",
       "<polyline clip-path=\"url(#clip2903)\" style=\"stroke:#000000; stroke-width:4; stroke-opacity:1; fill:none\" points=\"\n",
       "  770.427,1290.93 770.427,1462.26 793.169,1462.26 793.169,1290.93 770.427,1290.93 \n",
       "  \"/>\n",
       "<polygon clip-path=\"url(#clip2903)\" points=\"\n",
       "793.169,1281.41 793.169,1462.26 815.911,1462.26 815.911,1281.41 793.169,1281.41 793.169,1281.41 \n",
       "  \" fill=\"#009af9\" fill-rule=\"evenodd\" fill-opacity=\"1\"/>\n",
       "<polyline clip-path=\"url(#clip2903)\" style=\"stroke:#000000; stroke-width:4; stroke-opacity:1; fill:none\" points=\"\n",
       "  793.169,1281.41 793.169,1462.26 815.911,1462.26 815.911,1281.41 793.169,1281.41 \n",
       "  \"/>\n",
       "<polygon clip-path=\"url(#clip2903)\" points=\"\n",
       "815.911,1221.13 815.911,1462.26 838.654,1462.26 838.654,1221.13 815.911,1221.13 815.911,1221.13 \n",
       "  \" fill=\"#009af9\" fill-rule=\"evenodd\" fill-opacity=\"1\"/>\n",
       "<polyline clip-path=\"url(#clip2903)\" style=\"stroke:#000000; stroke-width:4; stroke-opacity:1; fill:none\" points=\"\n",
       "  815.911,1221.13 815.911,1462.26 838.654,1462.26 838.654,1221.13 815.911,1221.13 \n",
       "  \"/>\n",
       "<polygon clip-path=\"url(#clip2903)\" points=\"\n",
       "838.654,1141.81 838.654,1462.26 861.396,1462.26 861.396,1141.81 838.654,1141.81 838.654,1141.81 \n",
       "  \" fill=\"#009af9\" fill-rule=\"evenodd\" fill-opacity=\"1\"/>\n",
       "<polyline clip-path=\"url(#clip2903)\" style=\"stroke:#000000; stroke-width:4; stroke-opacity:1; fill:none\" points=\"\n",
       "  838.654,1141.81 838.654,1462.26 861.396,1462.26 861.396,1141.81 838.654,1141.81 \n",
       "  \"/>\n",
       "<polygon clip-path=\"url(#clip2903)\" points=\"\n",
       "861.396,1119.6 861.396,1462.26 884.139,1462.26 884.139,1119.6 861.396,1119.6 861.396,1119.6 \n",
       "  \" fill=\"#009af9\" fill-rule=\"evenodd\" fill-opacity=\"1\"/>\n",
       "<polyline clip-path=\"url(#clip2903)\" style=\"stroke:#000000; stroke-width:4; stroke-opacity:1; fill:none\" points=\"\n",
       "  861.396,1119.6 861.396,1462.26 884.139,1462.26 884.139,1119.6 861.396,1119.6 \n",
       "  \"/>\n",
       "<polygon clip-path=\"url(#clip2903)\" points=\"\n",
       "884.139,1094.22 884.139,1462.26 906.881,1462.26 906.881,1094.22 884.139,1094.22 884.139,1094.22 \n",
       "  \" fill=\"#009af9\" fill-rule=\"evenodd\" fill-opacity=\"1\"/>\n",
       "<polyline clip-path=\"url(#clip2903)\" style=\"stroke:#000000; stroke-width:4; stroke-opacity:1; fill:none\" points=\"\n",
       "  884.139,1094.22 884.139,1462.26 906.881,1462.26 906.881,1094.22 884.139,1094.22 \n",
       "  \"/>\n",
       "<polygon clip-path=\"url(#clip2903)\" points=\"\n",
       "906.881,1094.22 906.881,1462.26 929.624,1462.26 929.624,1094.22 906.881,1094.22 906.881,1094.22 \n",
       "  \" fill=\"#009af9\" fill-rule=\"evenodd\" fill-opacity=\"1\"/>\n",
       "<polyline clip-path=\"url(#clip2903)\" style=\"stroke:#000000; stroke-width:4; stroke-opacity:1; fill:none\" points=\"\n",
       "  906.881,1094.22 906.881,1462.26 929.624,1462.26 929.624,1094.22 906.881,1094.22 \n",
       "  \"/>\n",
       "<polygon clip-path=\"url(#clip2903)\" points=\"\n",
       "929.624,986.348 929.624,1462.26 952.366,1462.26 952.366,986.348 929.624,986.348 929.624,986.348 \n",
       "  \" fill=\"#009af9\" fill-rule=\"evenodd\" fill-opacity=\"1\"/>\n",
       "<polyline clip-path=\"url(#clip2903)\" style=\"stroke:#000000; stroke-width:4; stroke-opacity:1; fill:none\" points=\"\n",
       "  929.624,986.348 929.624,1462.26 952.366,1462.26 952.366,986.348 929.624,986.348 \n",
       "  \"/>\n",
       "<polygon clip-path=\"url(#clip2903)\" points=\"\n",
       "952.366,865.783 952.366,1462.26 975.108,1462.26 975.108,865.783 952.366,865.783 952.366,865.783 \n",
       "  \" fill=\"#009af9\" fill-rule=\"evenodd\" fill-opacity=\"1\"/>\n",
       "<polyline clip-path=\"url(#clip2903)\" style=\"stroke:#000000; stroke-width:4; stroke-opacity:1; fill:none\" points=\"\n",
       "  952.366,865.783 952.366,1462.26 975.108,1462.26 975.108,865.783 952.366,865.783 \n",
       "  \"/>\n",
       "<polygon clip-path=\"url(#clip2903)\" points=\"\n",
       "975.108,824.537 975.108,1462.26 997.851,1462.26 997.851,824.537 975.108,824.537 975.108,824.537 \n",
       "  \" fill=\"#009af9\" fill-rule=\"evenodd\" fill-opacity=\"1\"/>\n",
       "<polyline clip-path=\"url(#clip2903)\" style=\"stroke:#000000; stroke-width:4; stroke-opacity:1; fill:none\" points=\"\n",
       "  975.108,824.537 975.108,1462.26 997.851,1462.26 997.851,824.537 975.108,824.537 \n",
       "  \"/>\n",
       "<polygon clip-path=\"url(#clip2903)\" points=\"\n",
       "997.851,735.7 997.851,1462.26 1020.59,1462.26 1020.59,735.7 997.851,735.7 997.851,735.7 \n",
       "  \" fill=\"#009af9\" fill-rule=\"evenodd\" fill-opacity=\"1\"/>\n",
       "<polyline clip-path=\"url(#clip2903)\" style=\"stroke:#000000; stroke-width:4; stroke-opacity:1; fill:none\" points=\"\n",
       "  997.851,735.7 997.851,1462.26 1020.59,1462.26 1020.59,735.7 997.851,735.7 \n",
       "  \"/>\n",
       "<polygon clip-path=\"url(#clip2903)\" points=\"\n",
       "1020.59,751.564 1020.59,1462.26 1043.34,1462.26 1043.34,751.564 1020.59,751.564 1020.59,751.564 \n",
       "  \" fill=\"#009af9\" fill-rule=\"evenodd\" fill-opacity=\"1\"/>\n",
       "<polyline clip-path=\"url(#clip2903)\" style=\"stroke:#000000; stroke-width:4; stroke-opacity:1; fill:none\" points=\"\n",
       "  1020.59,751.564 1020.59,1462.26 1043.34,1462.26 1043.34,751.564 1020.59,751.564 \n",
       "  \"/>\n",
       "<polygon clip-path=\"url(#clip2903)\" points=\"\n",
       "1043.34,618.308 1043.34,1462.26 1066.08,1462.26 1066.08,618.308 1043.34,618.308 1043.34,618.308 \n",
       "  \" fill=\"#009af9\" fill-rule=\"evenodd\" fill-opacity=\"1\"/>\n",
       "<polyline clip-path=\"url(#clip2903)\" style=\"stroke:#000000; stroke-width:4; stroke-opacity:1; fill:none\" points=\"\n",
       "  1043.34,618.308 1043.34,1462.26 1066.08,1462.26 1066.08,618.308 1043.34,618.308 \n",
       "  \"/>\n",
       "<polygon clip-path=\"url(#clip2903)\" points=\"\n",
       "1066.08,519.953 1066.08,1462.26 1088.82,1462.26 1088.82,519.953 1066.08,519.953 1066.08,519.953 \n",
       "  \" fill=\"#009af9\" fill-rule=\"evenodd\" fill-opacity=\"1\"/>\n",
       "<polyline clip-path=\"url(#clip2903)\" style=\"stroke:#000000; stroke-width:4; stroke-opacity:1; fill:none\" points=\"\n",
       "  1066.08,519.953 1066.08,1462.26 1088.82,1462.26 1088.82,519.953 1066.08,519.953 \n",
       "  \"/>\n",
       "<polygon clip-path=\"url(#clip2903)\" points=\"\n",
       "1088.82,351.797 1088.82,1462.26 1111.56,1462.26 1111.56,351.797 1088.82,351.797 1088.82,351.797 \n",
       "  \" fill=\"#009af9\" fill-rule=\"evenodd\" fill-opacity=\"1\"/>\n",
       "<polyline clip-path=\"url(#clip2903)\" style=\"stroke:#000000; stroke-width:4; stroke-opacity:1; fill:none\" points=\"\n",
       "  1088.82,351.797 1088.82,1462.26 1111.56,1462.26 1111.56,351.797 1088.82,351.797 \n",
       "  \"/>\n",
       "<polygon clip-path=\"url(#clip2903)\" points=\"\n",
       "1111.56,459.67 1111.56,1462.26 1134.31,1462.26 1134.31,459.67 1111.56,459.67 1111.56,459.67 \n",
       "  \" fill=\"#009af9\" fill-rule=\"evenodd\" fill-opacity=\"1\"/>\n",
       "<polyline clip-path=\"url(#clip2903)\" style=\"stroke:#000000; stroke-width:4; stroke-opacity:1; fill:none\" points=\"\n",
       "  1111.56,459.67 1111.56,1462.26 1134.31,1462.26 1134.31,459.67 1111.56,459.67 \n",
       "  \"/>\n",
       "<polygon clip-path=\"url(#clip2903)\" points=\"\n",
       "1134.31,354.97 1134.31,1462.26 1157.05,1462.26 1157.05,354.97 1134.31,354.97 1134.31,354.97 \n",
       "  \" fill=\"#009af9\" fill-rule=\"evenodd\" fill-opacity=\"1\"/>\n",
       "<polyline clip-path=\"url(#clip2903)\" style=\"stroke:#000000; stroke-width:4; stroke-opacity:1; fill:none\" points=\"\n",
       "  1134.31,354.97 1134.31,1462.26 1157.05,1462.26 1157.05,354.97 1134.31,354.97 \n",
       "  \"/>\n",
       "<polygon clip-path=\"url(#clip2903)\" points=\"\n",
       "1157.05,218.541 1157.05,1462.26 1179.79,1462.26 1179.79,218.541 1157.05,218.541 1157.05,218.541 \n",
       "  \" fill=\"#009af9\" fill-rule=\"evenodd\" fill-opacity=\"1\"/>\n",
       "<polyline clip-path=\"url(#clip2903)\" style=\"stroke:#000000; stroke-width:4; stroke-opacity:1; fill:none\" points=\"\n",
       "  1157.05,218.541 1157.05,1462.26 1179.79,1462.26 1179.79,218.541 1157.05,218.541 \n",
       "  \"/>\n",
       "<polygon clip-path=\"url(#clip2903)\" points=\"\n",
       "1179.79,224.887 1179.79,1462.26 1202.53,1462.26 1202.53,224.887 1179.79,224.887 1179.79,224.887 \n",
       "  \" fill=\"#009af9\" fill-rule=\"evenodd\" fill-opacity=\"1\"/>\n",
       "<polyline clip-path=\"url(#clip2903)\" style=\"stroke:#000000; stroke-width:4; stroke-opacity:1; fill:none\" points=\"\n",
       "  1179.79,224.887 1179.79,1462.26 1202.53,1462.26 1202.53,224.887 1179.79,224.887 \n",
       "  \"/>\n",
       "<polygon clip-path=\"url(#clip2903)\" points=\"\n",
       "1202.53,88.4582 1202.53,1462.26 1225.28,1462.26 1225.28,88.4582 1202.53,88.4582 1202.53,88.4582 \n",
       "  \" fill=\"#009af9\" fill-rule=\"evenodd\" fill-opacity=\"1\"/>\n",
       "<polyline clip-path=\"url(#clip2903)\" style=\"stroke:#000000; stroke-width:4; stroke-opacity:1; fill:none\" points=\"\n",
       "  1202.53,88.4582 1202.53,1462.26 1225.28,1462.26 1225.28,88.4582 1202.53,88.4582 \n",
       "  \"/>\n",
       "<polygon clip-path=\"url(#clip2903)\" points=\"\n",
       "1225.28,262.96 1225.28,1462.26 1248.02,1462.26 1248.02,262.96 1225.28,262.96 1225.28,262.96 \n",
       "  \" fill=\"#009af9\" fill-rule=\"evenodd\" fill-opacity=\"1\"/>\n",
       "<polyline clip-path=\"url(#clip2903)\" style=\"stroke:#000000; stroke-width:4; stroke-opacity:1; fill:none\" points=\"\n",
       "  1225.28,262.96 1225.28,1462.26 1248.02,1462.26 1248.02,262.96 1225.28,262.96 \n",
       "  \"/>\n",
       "<polygon clip-path=\"url(#clip2903)\" points=\"\n",
       "1248.02,145.568 1248.02,1462.26 1270.76,1462.26 1270.76,145.568 1248.02,145.568 1248.02,145.568 \n",
       "  \" fill=\"#009af9\" fill-rule=\"evenodd\" fill-opacity=\"1\"/>\n",
       "<polyline clip-path=\"url(#clip2903)\" style=\"stroke:#000000; stroke-width:4; stroke-opacity:1; fill:none\" points=\"\n",
       "  1248.02,145.568 1248.02,1462.26 1270.76,1462.26 1270.76,145.568 1248.02,145.568 \n",
       "  \"/>\n",
       "<polygon clip-path=\"url(#clip2903)\" points=\"\n",
       "1270.76,266.132 1270.76,1462.26 1293.5,1462.26 1293.5,266.132 1270.76,266.132 1270.76,266.132 \n",
       "  \" fill=\"#009af9\" fill-rule=\"evenodd\" fill-opacity=\"1\"/>\n",
       "<polyline clip-path=\"url(#clip2903)\" style=\"stroke:#000000; stroke-width:4; stroke-opacity:1; fill:none\" points=\"\n",
       "  1270.76,266.132 1270.76,1462.26 1293.5,1462.26 1293.5,266.132 1270.76,266.132 \n",
       "  \"/>\n",
       "<polygon clip-path=\"url(#clip2903)\" points=\"\n",
       "1293.5,275.651 1293.5,1462.26 1316.24,1462.26 1316.24,275.651 1293.5,275.651 1293.5,275.651 \n",
       "  \" fill=\"#009af9\" fill-rule=\"evenodd\" fill-opacity=\"1\"/>\n",
       "<polyline clip-path=\"url(#clip2903)\" style=\"stroke:#000000; stroke-width:4; stroke-opacity:1; fill:none\" points=\"\n",
       "  1293.5,275.651 1293.5,1462.26 1316.24,1462.26 1316.24,275.651 1293.5,275.651 \n",
       "  \"/>\n",
       "<polygon clip-path=\"url(#clip2903)\" points=\"\n",
       "1316.24,234.405 1316.24,1462.26 1338.99,1462.26 1338.99,234.405 1316.24,234.405 1316.24,234.405 \n",
       "  \" fill=\"#009af9\" fill-rule=\"evenodd\" fill-opacity=\"1\"/>\n",
       "<polyline clip-path=\"url(#clip2903)\" style=\"stroke:#000000; stroke-width:4; stroke-opacity:1; fill:none\" points=\"\n",
       "  1316.24,234.405 1316.24,1462.26 1338.99,1462.26 1338.99,234.405 1316.24,234.405 \n",
       "  \"/>\n",
       "<polygon clip-path=\"url(#clip2903)\" points=\"\n",
       "1338.99,297.86 1338.99,1462.26 1361.73,1462.26 1361.73,297.86 1338.99,297.86 1338.99,297.86 \n",
       "  \" fill=\"#009af9\" fill-rule=\"evenodd\" fill-opacity=\"1\"/>\n",
       "<polyline clip-path=\"url(#clip2903)\" style=\"stroke:#000000; stroke-width:4; stroke-opacity:1; fill:none\" points=\"\n",
       "  1338.99,297.86 1338.99,1462.26 1361.73,1462.26 1361.73,297.86 1338.99,297.86 \n",
       "  \"/>\n",
       "<polygon clip-path=\"url(#clip2903)\" points=\"\n",
       "1361.73,339.106 1361.73,1462.26 1384.47,1462.26 1384.47,339.106 1361.73,339.106 1361.73,339.106 \n",
       "  \" fill=\"#009af9\" fill-rule=\"evenodd\" fill-opacity=\"1\"/>\n",
       "<polyline clip-path=\"url(#clip2903)\" style=\"stroke:#000000; stroke-width:4; stroke-opacity:1; fill:none\" points=\"\n",
       "  1361.73,339.106 1361.73,1462.26 1384.47,1462.26 1384.47,339.106 1361.73,339.106 \n",
       "  \"/>\n",
       "<polygon clip-path=\"url(#clip2903)\" points=\"\n",
       "1384.47,412.079 1384.47,1462.26 1407.21,1462.26 1407.21,412.079 1384.47,412.079 1384.47,412.079 \n",
       "  \" fill=\"#009af9\" fill-rule=\"evenodd\" fill-opacity=\"1\"/>\n",
       "<polyline clip-path=\"url(#clip2903)\" style=\"stroke:#000000; stroke-width:4; stroke-opacity:1; fill:none\" points=\"\n",
       "  1384.47,412.079 1384.47,1462.26 1407.21,1462.26 1407.21,412.079 1384.47,412.079 \n",
       "  \"/>\n",
       "<polygon clip-path=\"url(#clip2903)\" points=\"\n",
       "1407.21,374.006 1407.21,1462.26 1429.96,1462.26 1429.96,374.006 1407.21,374.006 1407.21,374.006 \n",
       "  \" fill=\"#009af9\" fill-rule=\"evenodd\" fill-opacity=\"1\"/>\n",
       "<polyline clip-path=\"url(#clip2903)\" style=\"stroke:#000000; stroke-width:4; stroke-opacity:1; fill:none\" points=\"\n",
       "  1407.21,374.006 1407.21,1462.26 1429.96,1462.26 1429.96,374.006 1407.21,374.006 \n",
       "  \"/>\n",
       "<polygon clip-path=\"url(#clip2903)\" points=\"\n",
       "1429.96,599.272 1429.96,1462.26 1452.7,1462.26 1452.7,599.272 1429.96,599.272 1429.96,599.272 \n",
       "  \" fill=\"#009af9\" fill-rule=\"evenodd\" fill-opacity=\"1\"/>\n",
       "<polyline clip-path=\"url(#clip2903)\" style=\"stroke:#000000; stroke-width:4; stroke-opacity:1; fill:none\" points=\"\n",
       "  1429.96,599.272 1429.96,1462.26 1452.7,1462.26 1452.7,599.272 1429.96,599.272 \n",
       "  \"/>\n",
       "<polygon clip-path=\"url(#clip2903)\" points=\"\n",
       "1452.7,618.308 1452.7,1462.26 1475.44,1462.26 1475.44,618.308 1452.7,618.308 1452.7,618.308 \n",
       "  \" fill=\"#009af9\" fill-rule=\"evenodd\" fill-opacity=\"1\"/>\n",
       "<polyline clip-path=\"url(#clip2903)\" style=\"stroke:#000000; stroke-width:4; stroke-opacity:1; fill:none\" points=\"\n",
       "  1452.7,618.308 1452.7,1462.26 1475.44,1462.26 1475.44,618.308 1452.7,618.308 \n",
       "  \"/>\n",
       "<polygon clip-path=\"url(#clip2903)\" points=\"\n",
       "1475.44,703.972 1475.44,1462.26 1498.18,1462.26 1498.18,703.972 1475.44,703.972 1475.44,703.972 \n",
       "  \" fill=\"#009af9\" fill-rule=\"evenodd\" fill-opacity=\"1\"/>\n",
       "<polyline clip-path=\"url(#clip2903)\" style=\"stroke:#000000; stroke-width:4; stroke-opacity:1; fill:none\" points=\"\n",
       "  1475.44,703.972 1475.44,1462.26 1498.18,1462.26 1498.18,703.972 1475.44,703.972 \n",
       "  \"/>\n",
       "<polygon clip-path=\"url(#clip2903)\" points=\"\n",
       "1498.18,834.055 1498.18,1462.26 1520.93,1462.26 1520.93,834.055 1498.18,834.055 1498.18,834.055 \n",
       "  \" fill=\"#009af9\" fill-rule=\"evenodd\" fill-opacity=\"1\"/>\n",
       "<polyline clip-path=\"url(#clip2903)\" style=\"stroke:#000000; stroke-width:4; stroke-opacity:1; fill:none\" points=\"\n",
       "  1498.18,834.055 1498.18,1462.26 1520.93,1462.26 1520.93,834.055 1498.18,834.055 \n",
       "  \"/>\n",
       "<polygon clip-path=\"url(#clip2903)\" points=\"\n",
       "1520.93,926.065 1520.93,1462.26 1543.67,1462.26 1543.67,926.065 1520.93,926.065 1520.93,926.065 \n",
       "  \" fill=\"#009af9\" fill-rule=\"evenodd\" fill-opacity=\"1\"/>\n",
       "<polyline clip-path=\"url(#clip2903)\" style=\"stroke:#000000; stroke-width:4; stroke-opacity:1; fill:none\" points=\"\n",
       "  1520.93,926.065 1520.93,1462.26 1543.67,1462.26 1543.67,926.065 1520.93,926.065 \n",
       "  \"/>\n",
       "<polygon clip-path=\"url(#clip2903)\" points=\"\n",
       "1543.67,995.866 1543.67,1462.26 1566.41,1462.26 1566.41,995.866 1543.67,995.866 1543.67,995.866 \n",
       "  \" fill=\"#009af9\" fill-rule=\"evenodd\" fill-opacity=\"1\"/>\n",
       "<polyline clip-path=\"url(#clip2903)\" style=\"stroke:#000000; stroke-width:4; stroke-opacity:1; fill:none\" points=\"\n",
       "  1543.67,995.866 1543.67,1462.26 1566.41,1462.26 1566.41,995.866 1543.67,995.866 \n",
       "  \"/>\n",
       "<polygon clip-path=\"url(#clip2903)\" points=\"\n",
       "1566.41,1027.59 1566.41,1462.26 1589.15,1462.26 1589.15,1027.59 1566.41,1027.59 1566.41,1027.59 \n",
       "  \" fill=\"#009af9\" fill-rule=\"evenodd\" fill-opacity=\"1\"/>\n",
       "<polyline clip-path=\"url(#clip2903)\" style=\"stroke:#000000; stroke-width:4; stroke-opacity:1; fill:none\" points=\"\n",
       "  1566.41,1027.59 1566.41,1462.26 1589.15,1462.26 1589.15,1027.59 1566.41,1027.59 \n",
       "  \"/>\n",
       "<polygon clip-path=\"url(#clip2903)\" points=\"\n",
       "1589.15,1072.01 1589.15,1462.26 1611.9,1462.26 1611.9,1072.01 1589.15,1072.01 1589.15,1072.01 \n",
       "  \" fill=\"#009af9\" fill-rule=\"evenodd\" fill-opacity=\"1\"/>\n",
       "<polyline clip-path=\"url(#clip2903)\" style=\"stroke:#000000; stroke-width:4; stroke-opacity:1; fill:none\" points=\"\n",
       "  1589.15,1072.01 1589.15,1462.26 1611.9,1462.26 1611.9,1072.01 1589.15,1072.01 \n",
       "  \"/>\n",
       "<polygon clip-path=\"url(#clip2903)\" points=\"\n",
       "1611.9,1154.5 1611.9,1462.26 1634.64,1462.26 1634.64,1154.5 1611.9,1154.5 1611.9,1154.5 \n",
       "  \" fill=\"#009af9\" fill-rule=\"evenodd\" fill-opacity=\"1\"/>\n",
       "<polyline clip-path=\"url(#clip2903)\" style=\"stroke:#000000; stroke-width:4; stroke-opacity:1; fill:none\" points=\"\n",
       "  1611.9,1154.5 1611.9,1462.26 1634.64,1462.26 1634.64,1154.5 1611.9,1154.5 \n",
       "  \"/>\n",
       "<polygon clip-path=\"url(#clip2903)\" points=\"\n",
       "1634.64,1208.44 1634.64,1462.26 1657.38,1462.26 1657.38,1208.44 1634.64,1208.44 1634.64,1208.44 \n",
       "  \" fill=\"#009af9\" fill-rule=\"evenodd\" fill-opacity=\"1\"/>\n",
       "<polyline clip-path=\"url(#clip2903)\" style=\"stroke:#000000; stroke-width:4; stroke-opacity:1; fill:none\" points=\"\n",
       "  1634.64,1208.44 1634.64,1462.26 1657.38,1462.26 1657.38,1208.44 1634.64,1208.44 \n",
       "  \"/>\n",
       "<polygon clip-path=\"url(#clip2903)\" points=\"\n",
       "1657.38,1186.23 1657.38,1462.26 1680.12,1462.26 1680.12,1186.23 1657.38,1186.23 1657.38,1186.23 \n",
       "  \" fill=\"#009af9\" fill-rule=\"evenodd\" fill-opacity=\"1\"/>\n",
       "<polyline clip-path=\"url(#clip2903)\" style=\"stroke:#000000; stroke-width:4; stroke-opacity:1; fill:none\" points=\"\n",
       "  1657.38,1186.23 1657.38,1462.26 1680.12,1462.26 1680.12,1186.23 1657.38,1186.23 \n",
       "  \"/>\n",
       "<polygon clip-path=\"url(#clip2903)\" points=\"\n",
       "1680.12,1325.83 1680.12,1462.26 1702.87,1462.26 1702.87,1325.83 1680.12,1325.83 1680.12,1325.83 \n",
       "  \" fill=\"#009af9\" fill-rule=\"evenodd\" fill-opacity=\"1\"/>\n",
       "<polyline clip-path=\"url(#clip2903)\" style=\"stroke:#000000; stroke-width:4; stroke-opacity:1; fill:none\" points=\"\n",
       "  1680.12,1325.83 1680.12,1462.26 1702.87,1462.26 1702.87,1325.83 1680.12,1325.83 \n",
       "  \"/>\n",
       "<polygon clip-path=\"url(#clip2903)\" points=\"\n",
       "1702.87,1300.45 1702.87,1462.26 1725.61,1462.26 1725.61,1300.45 1702.87,1300.45 1702.87,1300.45 \n",
       "  \" fill=\"#009af9\" fill-rule=\"evenodd\" fill-opacity=\"1\"/>\n",
       "<polyline clip-path=\"url(#clip2903)\" style=\"stroke:#000000; stroke-width:4; stroke-opacity:1; fill:none\" points=\"\n",
       "  1702.87,1300.45 1702.87,1462.26 1725.61,1462.26 1725.61,1300.45 1702.87,1300.45 \n",
       "  \"/>\n",
       "<polygon clip-path=\"url(#clip2903)\" points=\"\n",
       "1725.61,1319.49 1725.61,1462.26 1748.35,1462.26 1748.35,1319.49 1725.61,1319.49 1725.61,1319.49 \n",
       "  \" fill=\"#009af9\" fill-rule=\"evenodd\" fill-opacity=\"1\"/>\n",
       "<polyline clip-path=\"url(#clip2903)\" style=\"stroke:#000000; stroke-width:4; stroke-opacity:1; fill:none\" points=\"\n",
       "  1725.61,1319.49 1725.61,1462.26 1748.35,1462.26 1748.35,1319.49 1725.61,1319.49 \n",
       "  \"/>\n",
       "<polygon clip-path=\"url(#clip2903)\" points=\"\n",
       "1748.35,1360.73 1748.35,1462.26 1771.09,1462.26 1771.09,1360.73 1748.35,1360.73 1748.35,1360.73 \n",
       "  \" fill=\"#009af9\" fill-rule=\"evenodd\" fill-opacity=\"1\"/>\n",
       "<polyline clip-path=\"url(#clip2903)\" style=\"stroke:#000000; stroke-width:4; stroke-opacity:1; fill:none\" points=\"\n",
       "  1748.35,1360.73 1748.35,1462.26 1771.09,1462.26 1771.09,1360.73 1748.35,1360.73 \n",
       "  \"/>\n",
       "<polygon clip-path=\"url(#clip2903)\" points=\"\n",
       "1771.09,1389.29 1771.09,1462.26 1793.84,1462.26 1793.84,1389.29 1771.09,1389.29 1771.09,1389.29 \n",
       "  \" fill=\"#009af9\" fill-rule=\"evenodd\" fill-opacity=\"1\"/>\n",
       "<polyline clip-path=\"url(#clip2903)\" style=\"stroke:#000000; stroke-width:4; stroke-opacity:1; fill:none\" points=\"\n",
       "  1771.09,1389.29 1771.09,1462.26 1793.84,1462.26 1793.84,1389.29 1771.09,1389.29 \n",
       "  \"/>\n",
       "<polygon clip-path=\"url(#clip2903)\" points=\"\n",
       "1793.84,1424.19 1793.84,1462.26 1816.58,1462.26 1816.58,1424.19 1793.84,1424.19 1793.84,1424.19 \n",
       "  \" fill=\"#009af9\" fill-rule=\"evenodd\" fill-opacity=\"1\"/>\n",
       "<polyline clip-path=\"url(#clip2903)\" style=\"stroke:#000000; stroke-width:4; stroke-opacity:1; fill:none\" points=\"\n",
       "  1793.84,1424.19 1793.84,1462.26 1816.58,1462.26 1816.58,1424.19 1793.84,1424.19 \n",
       "  \"/>\n",
       "<polygon clip-path=\"url(#clip2903)\" points=\"\n",
       "1816.58,1408.32 1816.58,1462.26 1839.32,1462.26 1839.32,1408.32 1816.58,1408.32 1816.58,1408.32 \n",
       "  \" fill=\"#009af9\" fill-rule=\"evenodd\" fill-opacity=\"1\"/>\n",
       "<polyline clip-path=\"url(#clip2903)\" style=\"stroke:#000000; stroke-width:4; stroke-opacity:1; fill:none\" points=\"\n",
       "  1816.58,1408.32 1816.58,1462.26 1839.32,1462.26 1839.32,1408.32 1816.58,1408.32 \n",
       "  \"/>\n",
       "<polygon clip-path=\"url(#clip2903)\" points=\"\n",
       "1839.32,1427.36 1839.32,1462.26 1862.06,1462.26 1862.06,1427.36 1839.32,1427.36 1839.32,1427.36 \n",
       "  \" fill=\"#009af9\" fill-rule=\"evenodd\" fill-opacity=\"1\"/>\n",
       "<polyline clip-path=\"url(#clip2903)\" style=\"stroke:#000000; stroke-width:4; stroke-opacity:1; fill:none\" points=\"\n",
       "  1839.32,1427.36 1839.32,1462.26 1862.06,1462.26 1862.06,1427.36 1839.32,1427.36 \n",
       "  \"/>\n",
       "<polygon clip-path=\"url(#clip2903)\" points=\"\n",
       "1862.06,1430.53 1862.06,1462.26 1884.81,1462.26 1884.81,1430.53 1862.06,1430.53 1862.06,1430.53 \n",
       "  \" fill=\"#009af9\" fill-rule=\"evenodd\" fill-opacity=\"1\"/>\n",
       "<polyline clip-path=\"url(#clip2903)\" style=\"stroke:#000000; stroke-width:4; stroke-opacity:1; fill:none\" points=\"\n",
       "  1862.06,1430.53 1862.06,1462.26 1884.81,1462.26 1884.81,1430.53 1862.06,1430.53 \n",
       "  \"/>\n",
       "<polygon clip-path=\"url(#clip2903)\" points=\"\n",
       "1884.81,1421.01 1884.81,1462.26 1907.55,1462.26 1907.55,1421.01 1884.81,1421.01 1884.81,1421.01 \n",
       "  \" fill=\"#009af9\" fill-rule=\"evenodd\" fill-opacity=\"1\"/>\n",
       "<polyline clip-path=\"url(#clip2903)\" style=\"stroke:#000000; stroke-width:4; stroke-opacity:1; fill:none\" points=\"\n",
       "  1884.81,1421.01 1884.81,1462.26 1907.55,1462.26 1907.55,1421.01 1884.81,1421.01 \n",
       "  \"/>\n",
       "<polygon clip-path=\"url(#clip2903)\" points=\"\n",
       "1907.55,1446.4 1907.55,1462.26 1930.29,1462.26 1930.29,1446.4 1907.55,1446.4 1907.55,1446.4 \n",
       "  \" fill=\"#009af9\" fill-rule=\"evenodd\" fill-opacity=\"1\"/>\n",
       "<polyline clip-path=\"url(#clip2903)\" style=\"stroke:#000000; stroke-width:4; stroke-opacity:1; fill:none\" points=\"\n",
       "  1907.55,1446.4 1907.55,1462.26 1930.29,1462.26 1930.29,1446.4 1907.55,1446.4 \n",
       "  \"/>\n",
       "<polygon clip-path=\"url(#clip2903)\" points=\"\n",
       "1930.29,1455.92 1930.29,1462.26 1953.03,1462.26 1953.03,1455.92 1930.29,1455.92 1930.29,1455.92 \n",
       "  \" fill=\"#009af9\" fill-rule=\"evenodd\" fill-opacity=\"1\"/>\n",
       "<polyline clip-path=\"url(#clip2903)\" style=\"stroke:#000000; stroke-width:4; stroke-opacity:1; fill:none\" points=\"\n",
       "  1930.29,1455.92 1930.29,1462.26 1953.03,1462.26 1953.03,1455.92 1930.29,1455.92 \n",
       "  \"/>\n",
       "<polygon clip-path=\"url(#clip2903)\" points=\"\n",
       "1953.03,1459.09 1953.03,1462.26 1975.78,1462.26 1975.78,1459.09 1953.03,1459.09 1953.03,1459.09 \n",
       "  \" fill=\"#009af9\" fill-rule=\"evenodd\" fill-opacity=\"1\"/>\n",
       "<polyline clip-path=\"url(#clip2903)\" style=\"stroke:#000000; stroke-width:4; stroke-opacity:1; fill:none\" points=\"\n",
       "  1953.03,1459.09 1953.03,1462.26 1975.78,1462.26 1975.78,1459.09 1953.03,1459.09 \n",
       "  \"/>\n",
       "<polygon clip-path=\"url(#clip2903)\" points=\"\n",
       "1975.78,1455.92 1975.78,1462.26 1998.52,1462.26 1998.52,1455.92 1975.78,1455.92 1975.78,1455.92 \n",
       "  \" fill=\"#009af9\" fill-rule=\"evenodd\" fill-opacity=\"1\"/>\n",
       "<polyline clip-path=\"url(#clip2903)\" style=\"stroke:#000000; stroke-width:4; stroke-opacity:1; fill:none\" points=\"\n",
       "  1975.78,1455.92 1975.78,1462.26 1998.52,1462.26 1998.52,1455.92 1975.78,1455.92 \n",
       "  \"/>\n",
       "<polygon clip-path=\"url(#clip2903)\" points=\"\n",
       "1998.52,1455.92 1998.52,1462.26 2021.26,1462.26 2021.26,1455.92 1998.52,1455.92 1998.52,1455.92 \n",
       "  \" fill=\"#009af9\" fill-rule=\"evenodd\" fill-opacity=\"1\"/>\n",
       "<polyline clip-path=\"url(#clip2903)\" style=\"stroke:#000000; stroke-width:4; stroke-opacity:1; fill:none\" points=\"\n",
       "  1998.52,1455.92 1998.52,1462.26 2021.26,1462.26 2021.26,1455.92 1998.52,1455.92 \n",
       "  \"/>\n",
       "<polygon clip-path=\"url(#clip2903)\" points=\"\n",
       "2021.26,1462.26 2021.26,1462.26 2044,1462.26 2044,1462.26 2021.26,1462.26 2021.26,1462.26 \n",
       "  \" fill=\"#009af9\" fill-rule=\"evenodd\" fill-opacity=\"1\"/>\n",
       "<polyline clip-path=\"url(#clip2903)\" style=\"stroke:#000000; stroke-width:4; stroke-opacity:1; fill:none\" points=\"\n",
       "  2021.26,1462.26 2021.26,1462.26 2044,1462.26 2021.26,1462.26 \n",
       "  \"/>\n",
       "<polygon clip-path=\"url(#clip2903)\" points=\"\n",
       "2044,1455.92 2044,1462.26 2066.74,1462.26 2066.74,1455.92 2044,1455.92 2044,1455.92 \n",
       "  \" fill=\"#009af9\" fill-rule=\"evenodd\" fill-opacity=\"1\"/>\n",
       "<polyline clip-path=\"url(#clip2903)\" style=\"stroke:#000000; stroke-width:4; stroke-opacity:1; fill:none\" points=\"\n",
       "  2044,1455.92 2044,1462.26 2066.74,1462.26 2066.74,1455.92 2044,1455.92 \n",
       "  \"/>\n",
       "<polygon clip-path=\"url(#clip2903)\" points=\"\n",
       "2066.74,1459.09 2066.74,1462.26 2089.49,1462.26 2089.49,1459.09 2066.74,1459.09 2066.74,1459.09 \n",
       "  \" fill=\"#009af9\" fill-rule=\"evenodd\" fill-opacity=\"1\"/>\n",
       "<polyline clip-path=\"url(#clip2903)\" style=\"stroke:#000000; stroke-width:4; stroke-opacity:1; fill:none\" points=\"\n",
       "  2066.74,1459.09 2066.74,1462.26 2089.49,1462.26 2089.49,1459.09 2066.74,1459.09 \n",
       "  \"/>\n",
       "<polygon clip-path=\"url(#clip2903)\" points=\"\n",
       "2089.49,1462.26 2089.49,1462.26 2112.23,1462.26 2112.23,1462.26 2089.49,1462.26 2089.49,1462.26 \n",
       "  \" fill=\"#009af9\" fill-rule=\"evenodd\" fill-opacity=\"1\"/>\n",
       "<polyline clip-path=\"url(#clip2903)\" style=\"stroke:#000000; stroke-width:4; stroke-opacity:1; fill:none\" points=\"\n",
       "  2089.49,1462.26 2089.49,1462.26 2112.23,1462.26 2089.49,1462.26 \n",
       "  \"/>\n",
       "<polygon clip-path=\"url(#clip2903)\" points=\"\n",
       "2112.23,1459.09 2112.23,1462.26 2134.97,1462.26 2134.97,1459.09 2112.23,1459.09 2112.23,1459.09 \n",
       "  \" fill=\"#009af9\" fill-rule=\"evenodd\" fill-opacity=\"1\"/>\n",
       "<polyline clip-path=\"url(#clip2903)\" style=\"stroke:#000000; stroke-width:4; stroke-opacity:1; fill:none\" points=\"\n",
       "  2112.23,1459.09 2112.23,1462.26 2134.97,1462.26 2134.97,1459.09 2112.23,1459.09 \n",
       "  \"/>\n",
       "<polygon clip-path=\"url(#clip2903)\" points=\"\n",
       "2134.97,1462.26 2134.97,1462.26 2157.71,1462.26 2157.71,1462.26 2134.97,1462.26 2134.97,1462.26 \n",
       "  \" fill=\"#009af9\" fill-rule=\"evenodd\" fill-opacity=\"1\"/>\n",
       "<polyline clip-path=\"url(#clip2903)\" style=\"stroke:#000000; stroke-width:4; stroke-opacity:1; fill:none\" points=\"\n",
       "  2134.97,1462.26 2134.97,1462.26 2157.71,1462.26 2134.97,1462.26 \n",
       "  \"/>\n",
       "<polygon clip-path=\"url(#clip2903)\" points=\"\n",
       "2157.71,1459.09 2157.71,1462.26 2180.46,1462.26 2180.46,1459.09 2157.71,1459.09 2157.71,1459.09 \n",
       "  \" fill=\"#009af9\" fill-rule=\"evenodd\" fill-opacity=\"1\"/>\n",
       "<polyline clip-path=\"url(#clip2903)\" style=\"stroke:#000000; stroke-width:4; stroke-opacity:1; fill:none\" points=\"\n",
       "  2157.71,1459.09 2157.71,1462.26 2180.46,1462.26 2180.46,1459.09 2157.71,1459.09 \n",
       "  \"/>\n",
       "<polygon clip-path=\"url(#clip2903)\" points=\"\n",
       "2180.46,1459.09 2180.46,1462.26 2203.2,1462.26 2203.2,1459.09 2180.46,1459.09 2180.46,1459.09 \n",
       "  \" fill=\"#009af9\" fill-rule=\"evenodd\" fill-opacity=\"1\"/>\n",
       "<polyline clip-path=\"url(#clip2903)\" style=\"stroke:#000000; stroke-width:4; stroke-opacity:1; fill:none\" points=\"\n",
       "  2180.46,1459.09 2180.46,1462.26 2203.2,1462.26 2203.2,1459.09 2180.46,1459.09 \n",
       "  \"/>\n",
       "<polygon clip-path=\"url(#clip2901)\" points=\"\n",
       "1958.43,251.724 2249.26,251.724 2249.26,130.764 1958.43,130.764 \n",
       "  \" fill=\"#ffffff\" fill-rule=\"evenodd\" fill-opacity=\"1\"/>\n",
       "<polyline clip-path=\"url(#clip2901)\" style=\"stroke:#000000; stroke-width:4; stroke-opacity:1; fill:none\" points=\"\n",
       "  1958.43,251.724 2249.26,251.724 2249.26,130.764 1958.43,130.764 1958.43,251.724 \n",
       "  \"/>\n",
       "<polygon clip-path=\"url(#clip2901)\" points=\"\n",
       "1982.43,215.436 2126.43,215.436 2126.43,167.052 1982.43,167.052 1982.43,215.436 \n",
       "  \" fill=\"#009af9\" fill-rule=\"evenodd\" fill-opacity=\"1\"/>\n",
       "<polyline clip-path=\"url(#clip2901)\" style=\"stroke:#000000; stroke-width:4; stroke-opacity:1; fill:none\" points=\"\n",
       "  1982.43,215.436 2126.43,215.436 2126.43,167.052 1982.43,167.052 1982.43,215.436 \n",
       "  \"/>\n",
       "<g clip-path=\"url(#clip2901)\">\n",
       "<text style=\"fill:#000000; fill-opacity:1; font-family:Arial,Helvetica Neue,Helvetica,sans-serif; font-size:48px; text-anchor:start;\" transform=\"rotate(0, 2150.43, 208.744)\" x=\"2150.43\" y=\"208.744\">y1</text>\n",
       "</g>\n",
       "</svg>\n"
      ]
     },
     "execution_count": 31,
     "metadata": {},
     "output_type": "execute_result"
    }
   ],
   "source": [
    "histogram(randn(10000), nbins = 100)"
   ]
  },
  {
   "cell_type": "code",
   "execution_count": 13,
   "metadata": {
    "hidden": true
   },
   "outputs": [
    {
     "data": {
      "text/latex": [
       "\\begin{tabular}\n",
       "{l | r | l}\n",
       "name & size & summary \\\\\n",
       "\\hline\n",
       "Base &  & Module \\\\\n",
       "Core &  & Module \\\\\n",
       "Main &  & Module \\\\\n",
       "b & 64 bytes & FockBasis \\\\\n",
       "startupfile & 53 bytes & String \\\\\n",
       "\\end{tabular}\n"
      ],
      "text/markdown": [
       "| name        |     size | summary   |\n",
       "|:----------- | --------:|:--------- |\n",
       "| Base        |          | Module    |\n",
       "| Core        |          | Module    |\n",
       "| Main        |          | Module    |\n",
       "| b           | 64 bytes | FockBasis |\n",
       "| startupfile | 53 bytes | String    |\n"
      ],
      "text/plain": [
       "name            size summary  \n",
       "––––––––––– –––––––– –––––––––\n",
       "Base                 Module   \n",
       "Core                 Module   \n",
       "Main                 Module   \n",
       "b           64 bytes FockBasis\n",
       "startupfile 53 bytes String   "
      ]
     },
     "execution_count": 13,
     "metadata": {},
     "output_type": "execute_result"
    }
   ],
   "source": [
    "varinfo()"
   ]
  },
  {
   "cell_type": "code",
   "execution_count": 35,
   "metadata": {
    "hidden": true
   },
   "outputs": [
    {
     "data": {
      "text/plain": [
       "Fock(cutoff=20)"
      ]
     },
     "execution_count": 35,
     "metadata": {},
     "output_type": "execute_result"
    }
   ],
   "source": [
    "b = FockBasis(20)"
   ]
  },
  {
   "cell_type": "code",
   "execution_count": 36,
   "metadata": {
    "hidden": true
   },
   "outputs": [
    {
     "data": {
      "text/plain": [
       "SparseOperator(dim=21x21)\n",
       "  basis: Fock(cutoff=20)\n",
       "  [1 ,  2]  =  1.0+0.0im\n",
       "  [2 ,  3]  =  1.41421+0.0im\n",
       "  [3 ,  4]  =  1.73205+0.0im\n",
       "  [4 ,  5]  =  2.0+0.0im\n",
       "  [5 ,  6]  =  2.23607+0.0im\n",
       "  [6 ,  7]  =  2.44949+0.0im\n",
       "  [7 ,  8]  =  2.64575+0.0im\n",
       "  [8 ,  9]  =  2.82843+0.0im\n",
       "  [9 , 10]  =  3.0+0.0im\n",
       "  [10, 11]  =  3.16228+0.0im\n",
       "  [11, 12]  =  3.31662+0.0im\n",
       "  [12, 13]  =  3.4641+0.0im\n",
       "  [13, 14]  =  3.60555+0.0im\n",
       "  [14, 15]  =  3.74166+0.0im\n",
       "  [15, 16]  =  3.87298+0.0im\n",
       "  [16, 17]  =  4.0+0.0im\n",
       "  [17, 18]  =  4.12311+0.0im\n",
       "  [18, 19]  =  4.24264+0.0im\n",
       "  [19, 20]  =  4.3589+0.0im\n",
       "  [20, 21]  =  4.47214+0.0im"
      ]
     },
     "execution_count": 36,
     "metadata": {},
     "output_type": "execute_result"
    }
   ],
   "source": [
    "a = destroy(b)"
   ]
  },
  {
   "cell_type": "code",
   "execution_count": 37,
   "metadata": {
    "hidden": true
   },
   "outputs": [
    {
     "data": {
      "text/plain": [
       "SparseOperator(dim=21x21)\n",
       "  basis: Fock(cutoff=20)\n",
       "  [2 ,  1]  =  1.0+0.0im\n",
       "  [3 ,  2]  =  1.41421+0.0im\n",
       "  [4 ,  3]  =  1.73205+0.0im\n",
       "  [5 ,  4]  =  2.0+0.0im\n",
       "  [6 ,  5]  =  2.23607+0.0im\n",
       "  [7 ,  6]  =  2.44949+0.0im\n",
       "  [8 ,  7]  =  2.64575+0.0im\n",
       "  [9 ,  8]  =  2.82843+0.0im\n",
       "  [10,  9]  =  3.0+0.0im\n",
       "  [11, 10]  =  3.16228+0.0im\n",
       "  [12, 11]  =  3.31662+0.0im\n",
       "  [13, 12]  =  3.4641+0.0im\n",
       "  [14, 13]  =  3.60555+0.0im\n",
       "  [15, 14]  =  3.74166+0.0im\n",
       "  [16, 15]  =  3.87298+0.0im\n",
       "  [17, 16]  =  4.0+0.0im\n",
       "  [18, 17]  =  4.12311+0.0im\n",
       "  [19, 18]  =  4.24264+0.0im\n",
       "  [20, 19]  =  4.3589+0.0im\n",
       "  [21, 20]  =  4.47214+0.0im"
      ]
     },
     "execution_count": 37,
     "metadata": {},
     "output_type": "execute_result"
    }
   ],
   "source": [
    "at = create(b)"
   ]
  },
  {
   "cell_type": "code",
   "execution_count": 41,
   "metadata": {
    "hidden": true
   },
   "outputs": [
    {
     "data": {
      "text/plain": [
       "Ket(dim=21)\n",
       "  basis: Fock(cutoff=20)\n",
       " 0.32465246735834974 + 0.0im\n",
       " 0.48697870103752466 + 0.0im\n",
       "   0.516518912695575 + 0.0im\n",
       "  0.4473184999294846 + 0.0im\n",
       " 0.33548887494711344 + 0.0im\n",
       " 0.22505277902300153 + 0.0im\n",
       " 0.13781611845042288 + 0.0im\n",
       " 0.07813439487343699 + 0.0im\n",
       " 0.04143702034418602 + 0.0im\n",
       " 0.02071851017209301 + 0.0im\n",
       " 0.00982765228037716 + 0.0im\n",
       " 0.00444472297964886 + 0.0im\n",
       " 0.00192462150658019 + 0.0im\n",
       "  0.0008006909455195 + 0.0im\n",
       " 0.00032099048473136 + 0.0im\n",
       " 0.00012431908016556 + 0.0im\n",
       "   4.661965506209e-5 + 0.0im\n",
       "   1.696039076919e-5 + 0.0im\n",
       "    5.99640366223e-6 + 0.0im\n",
       "    2.06350402013e-6 + 0.0im\n",
       "     6.9212028913e-7 + 0.0im"
      ]
     },
     "execution_count": 41,
     "metadata": {},
     "output_type": "execute_result"
    }
   ],
   "source": [
    "α = 1.5\n",
    "ψ = coherentstate(b, α)"
   ]
  },
  {
   "cell_type": "code",
   "execution_count": 42,
   "metadata": {
    "hidden": true
   },
   "outputs": [
    {
     "data": {
      "text/plain": [
       "Ket(dim=21)\n",
       "  basis: Fock(cutoff=20)\n",
       " 0.0 - 0.48697870103752466im\n",
       " 0.0 - 1.0551205189146367im \n",
       " 0.0 - 1.4634702526374623im \n",
       " 0.0 - 1.5656147497531963im \n",
       " 0.0 - 1.3978703122796392im \n",
       " 0.0 - 1.0877550986111741im \n",
       " 0.0 - 0.7579886514773257im \n",
       " 0.0 - 0.4818287683861948im \n",
       " 0.0 - 0.28315297235193787im\n",
       " 0.0 - 0.15538882629069758im\n",
       " 0.0 - 0.08025916028974679im\n",
       " 0.0 - 0.03926171965356496im\n",
       " 0.0 - 0.0182839043125118im \n",
       " 0.0 - 0.00814035794611487im\n",
       " 0.0 - 0.00347739691792307im\n",
       " 0.0 - 0.00142966942190395im\n",
       " 0.0 - 0.00056720580325537im\n",
       " 0.0 - 0.00021765834820463im\n",
       " 0.0 - 8.095144944017e-5im  \n",
       " 0.0 - 2.923297361856e-5im  \n",
       " 0.0 - 9.22827052173e-6im   "
      ]
     },
     "execution_count": 42,
     "metadata": {},
     "output_type": "execute_result"
    }
   ],
   "source": [
    "dpsi = -1im*(a + at)*ψ"
   ]
  },
  {
   "cell_type": "code",
   "execution_count": 43,
   "metadata": {
    "hidden": true
   },
   "outputs": [
    {
     "data": {
      "text/plain": [
       "DenseOperator(dim=21x21)\n",
       "  basis: Fock(cutoff=20)\n",
       "    0.105399+0.0im     0.158099+0.0im  …   2.24699e-7+0.0im\n",
       "    0.158099+0.0im     0.237148+0.0im      3.37048e-7+0.0im\n",
       "    0.167689+0.0im     0.251534+0.0im      3.57493e-7+0.0im\n",
       "    0.145223+0.0im     0.217835+0.0im      3.09598e-7+0.0im\n",
       "    0.108917+0.0im     0.163376+0.0im      2.32199e-7+0.0im\n",
       "   0.0730639+0.0im     0.109596+0.0im  …   1.55764e-7+0.0im\n",
       "   0.0447423+0.0im    0.0671135+0.0im      9.53853e-8+0.0im\n",
       "   0.0253665+0.0im    0.0380498+0.0im      5.40784e-8+0.0im\n",
       "   0.0134526+0.0im    0.0201789+0.0im      2.86794e-8+0.0im\n",
       "  0.00672632+0.0im    0.0100895+0.0im      1.43397e-8+0.0im\n",
       "  0.00319057+0.0im   0.00478586+0.0im  …   6.80192e-9+0.0im\n",
       "  0.00144299+0.0im   0.00216449+0.0im      3.07628e-9+0.0im\n",
       " 0.000624833+0.0im   0.00093725+0.0im      1.33207e-9+0.0im\n",
       " 0.000259946+0.0im  0.000389919+0.0im     5.54174e-10+0.0im\n",
       "  0.00010421+0.0im  0.000156316+0.0im     2.22164e-10+0.0im\n",
       "  4.03605e-5+0.0im   6.05407e-5+0.0im  …  8.60438e-11+0.0im\n",
       "  1.51352e-5+0.0im   2.27028e-5+0.0im     3.22664e-11+0.0im\n",
       "  5.50623e-6+0.0im   8.25935e-6+0.0im     1.17386e-11+0.0im\n",
       "  1.94675e-6+0.0im   2.92012e-6+0.0im     4.15023e-12+0.0im\n",
       "  6.69922e-7+0.0im   1.00488e-6+0.0im     1.42819e-12+0.0im\n",
       "  2.24699e-7+0.0im   3.37048e-7+0.0im  …   4.7903e-13+0.0im"
      ]
     },
     "execution_count": 43,
     "metadata": {},
     "output_type": "execute_result"
    }
   ],
   "source": [
    "ρ = ψ ⊗ dagger(ψ)"
   ]
  },
  {
   "cell_type": "code",
   "execution_count": 45,
   "metadata": {
    "hidden": true
   },
   "outputs": [
    {
     "data": {
      "text/plain": [
       "21-element Array{Float64,1}:\n",
       " -5.301144719194072e-17 \n",
       " -1.703489604923616e-17 \n",
       " -8.098395503233256e-18 \n",
       " -7.524329328798859e-18 \n",
       " -7.60786942331218e-19  \n",
       " -8.509009103378091e-21 \n",
       " -3.5385104750145357e-22\n",
       " -8.518889080218535e-24 \n",
       " -1.7140187709062712e-25\n",
       " -1.0134430168095293e-26\n",
       " -1.8602307980978968e-28\n",
       "  3.5557301919192443e-26\n",
       "  8.643428745861042e-24 \n",
       "  8.939079634087102e-23 \n",
       "  2.3903772059749178e-21\n",
       "  4.637784642224626e-20 \n",
       "  4.428169131633601e-18 \n",
       "  1.0187323163642718e-17\n",
       "  1.3224874380364339e-17\n",
       "  1.8428919327896877e-16\n",
       "  0.9999999999999433    "
      ]
     },
     "execution_count": 45,
     "metadata": {},
     "output_type": "execute_result"
    }
   ],
   "source": [
    "eigenenergies(ρ)"
   ]
  },
  {
   "cell_type": "code",
   "execution_count": 47,
   "metadata": {
    "hidden": true
   },
   "outputs": [
    {
     "name": "stdout",
     "output_type": "stream",
     "text": [
      "search: \u001b[0m\u001b[1mf\u001b[22m\u001b[0m\u001b[1mo\u001b[22m\u001b[0m\u001b[1mc\u001b[22m\u001b[0m\u001b[1mk\u001b[22m\u001b[0m\u001b[1ms\u001b[22m\u001b[0m\u001b[1mt\u001b[22m\u001b[0m\u001b[1ma\u001b[22m\u001b[0m\u001b[1mt\u001b[22m\u001b[0m\u001b[1me\u001b[22m\n",
      "\n"
     ]
    },
    {
     "data": {
      "text/latex": [
       "\\begin{verbatim}\n",
       "fockstate(b::FockBasis, n)\n",
       "\\end{verbatim}\n",
       "Fock state $|n⟩$ for the specified Fock space.\n",
       "\n"
      ],
      "text/markdown": [
       "```\n",
       "fockstate(b::FockBasis, n)\n",
       "```\n",
       "\n",
       "Fock state $|n⟩$ for the specified Fock space.\n"
      ],
      "text/plain": [
       "\u001b[36m  fockstate(b::FockBasis, n)\u001b[39m\n",
       "\n",
       "  Fock state \u001b[35m|n⟩\u001b[39m for the specified Fock space."
      ]
     },
     "execution_count": 47,
     "metadata": {},
     "output_type": "execute_result"
    }
   ],
   "source": [
    "?fockstate"
   ]
  },
  {
   "cell_type": "code",
   "execution_count": 48,
   "metadata": {
    "hidden": true
   },
   "outputs": [
    {
     "name": "stdout",
     "output_type": "stream",
     "text": [
      "search: \u001b[0m\u001b[1ms\u001b[22m\u001b[0m\u001b[1mp\u001b[22m\u001b[0m\u001b[1mi\u001b[22m\u001b[0m\u001b[1mn\u001b[22m\u001b[0m\u001b[1md\u001b[22m\u001b[0m\u001b[1mo\u001b[22m\u001b[0m\u001b[1mw\u001b[22m\u001b[0m\u001b[1mn\u001b[22m\n",
      "\n"
     ]
    },
    {
     "data": {
      "text/latex": [
       "\\begin{verbatim}\n",
       "spindown(b::SpinBasis)\n",
       "\\end{verbatim}\n",
       "Spin down state for the given Spin basis.\n",
       "\n"
      ],
      "text/markdown": [
       "```\n",
       "spindown(b::SpinBasis)\n",
       "```\n",
       "\n",
       "Spin down state for the given Spin basis.\n"
      ],
      "text/plain": [
       "\u001b[36m  spindown(b::SpinBasis)\u001b[39m\n",
       "\n",
       "  Spin down state for the given Spin basis."
      ]
     },
     "execution_count": 48,
     "metadata": {},
     "output_type": "execute_result"
    }
   ],
   "source": [
    "?spindown"
   ]
  },
  {
   "cell_type": "code",
   "execution_count": null,
   "metadata": {
    "hidden": true
   },
   "outputs": [],
   "source": []
  }
 ],
 "metadata": {
  "kernelspec": {
   "display_name": "Julia 1.1.0",
   "language": "julia",
   "name": "julia-1.1"
  },
  "language_info": {
   "file_extension": ".jl",
   "mimetype": "application/julia",
   "name": "julia",
   "version": "1.1.0"
  },
  "toc": {
   "base_numbering": 1,
   "nav_menu": {},
   "number_sections": true,
   "sideBar": false,
   "skip_h1_title": false,
   "title_cell": "Table of Contents",
   "title_sidebar": "Contents",
   "toc_cell": false,
   "toc_position": {
    "height": "187px",
    "left": "1047.81px",
    "top": "110px",
    "width": "228.188px"
   },
   "toc_section_display": true,
   "toc_window_display": true
  }
 },
 "nbformat": 4,
 "nbformat_minor": 2
}
