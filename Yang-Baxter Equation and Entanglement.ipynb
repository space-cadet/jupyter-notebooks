{
 "cells": [
  {
   "cell_type": "markdown",
   "metadata": {
    "toc": true
   },
   "source": [
    "<h1>Table of Contents<span class=\"tocSkip\"></span></h1>\n",
    "<div class=\"toc\" style=\"margin-top: 1em;\"><ul class=\"toc-item\"><li><span><a href=\"#Yang-Baxter-Equation\" data-toc-modified-id=\"Yang-Baxter-Equation-1\"><span class=\"toc-item-num\">1&nbsp;&nbsp;</span>Yang-Baxter Equation</a></span><ul class=\"toc-item\"><li><span><a href=\"#def:-qubitStateToLatex\" data-toc-modified-id=\"def:-qubitStateToLatex-1.1\"><span class=\"toc-item-num\">1.1&nbsp;&nbsp;</span>def: <code>qubitStateToLatex</code></a></span></li><li><span><a href=\"#def:-qubitSequenceToState\" data-toc-modified-id=\"def:-qubitSequenceToState-1.2\"><span class=\"toc-item-num\">1.2&nbsp;&nbsp;</span>def: <code>qubitSequenceToState</code></a></span></li></ul></li></ul></div>"
   ]
  },
  {
   "cell_type": "markdown",
   "metadata": {
    "heading_collapsed": true
   },
   "source": [
    "# Mathjax custom <a class=\"tocSkip\">\n",
    "\n",
    "$ \\newcommand{\\opexpect}[3]{\\langle #1 \\vert #2 \\vert #3 \\rangle} $\n",
    "$ \\newcommand{\\rarrow}{\\rightarrow} $\n",
    "$ \\newcommand{\\bra}{\\langle} $\n",
    "$ \\newcommand{\\ket}{\\rangle} $\n",
    "\n",
    "$ \\newcommand{\\up}{\\uparrow} $\n",
    "$ \\newcommand{\\down}{\\downarrow} $\n",
    "\n",
    "$ \\newcommand{\\mb}[1]{\\mathbf{#1}} $\n",
    "$ \\newcommand{\\mc}[1]{\\mathcal{#1}} $\n",
    "$ \\newcommand{\\mbb}[1]{\\mathbb{#1}} $\n",
    "$ \\newcommand{\\mf}[1]{\\mathfrak{#1}} $\n",
    "\n",
    "$ \\newcommand{\\vect}[1]{\\boldsymbol{\\mathrm{#1}}} $\n",
    "$ \\newcommand{\\expect}[1]{\\langle #1\\rangle} $\n",
    "\n",
    "$ \\newcommand{\\innerp}[2]{\\langle #1 \\vert #2 \\rangle} $\n",
    "$ \\newcommand{\\fullbra}[1]{\\langle #1 \\vert} $\n",
    "$ \\newcommand{\\fullket}[1]{\\vert #1 \\rangle} $\n",
    "$ \\newcommand{\\supersc}[1]{^{\\text{#1}}} $\n",
    "$ \\newcommand{\\subsc}[1]{_{\\text{#1}}} $\n",
    "$ \\newcommand{\\sltwoc}{SL(2,\\mathbb{C})} $\n",
    "$ \\newcommand{\\sltwoz}{SL(2,\\mathbb{Z})} $\n",
    "\n",
    "$ \\newcommand{\\utilde}[1]{\\underset{\\sim}{#1}} $"
   ]
  },
  {
   "cell_type": "code",
   "execution_count": 1,
   "metadata": {
    "collapsed": true,
    "hidden": true
   },
   "outputs": [],
   "source": [
    "import numpy as np\n",
    "import matplotlib.pyplot as plt\n",
    "from qutip import *\n",
    "%matplotlib inline"
   ]
  },
  {
   "cell_type": "code",
   "execution_count": 2,
   "metadata": {
    "collapsed": true,
    "hidden": true
   },
   "outputs": [],
   "source": [
    "import operator as op\n",
    "from functools import reduce"
   ]
  },
  {
   "cell_type": "markdown",
   "metadata": {},
   "source": [
    "# Yang-Baxter Equation\n",
    "\n",
    "[Reference](http://arxiv.org/abs/1507.05979)\n",
    "\n",
    "Let $V$ be a finite-dimensional Hilbert space, let $R$ be a linear operator on $V \\otimes V$. Then $R$ satisfies the constant YBE if:\n",
    "\n",
    "$$ (R \\otimes \\mbb{1})(\\mbb{1} \\otimes R)(R \\otimes \\mbb{1}) = (\\mbb{1} \\otimes R)(R \\otimes \\mbb{1})(\\mbb{1} \\otimes R)$$\n",
    "\n",
    "In particular, if $V$ is the two-dimensional state space of a qubit or spin-1/2 particle, then $V \\otimes V$ is the state space of two qubits. Let $\\fullket{0},\\fullket{1}$ be the basis states of $V$. Then $V \\otimes V$ is spanned by the set:\n",
    "\n",
    "$$ \\{ \\fullket{00}, \\fullket{01}, \\fullket{10}, \\fullket{11} \\} $$\n",
    "\n",
    "In this case, $R:V \\otimes V \\rightarrow V \\otimes V$, is a linear map on the two qubit state space. An example of such a map is the "
   ]
  },
  {
   "cell_type": "markdown",
   "metadata": {},
   "source": [
    "## def: `qubitStateToLatex`"
   ]
  },
  {
   "cell_type": "code",
   "execution_count": 3,
   "metadata": {
    "collapsed": true
   },
   "outputs": [],
   "source": [
    "def qubitStateToLatex(state, dim_list ):\n",
    "    '''Given a QuTiP ket or bra corresponding to the state of an n-site spin chain,\n",
    "    this function returns the LaTeX string for the state written as a sum over all the\n",
    "    basis states.\n",
    "    \n",
    "    Parameters\n",
    "    ----------\n",
    "    state : Qobj\n",
    "        Bra or Ket of type qutip.Qobj\n",
    "    \n",
    "    dim_list : list\n",
    "        List of dimensions of the systems which the state describes\n",
    "    \n",
    "    Returns\n",
    "    -------\n",
    "    string : str\n",
    "        LaTeX formatted string\n",
    "    \n",
    "    Examples\n",
    "    --------\n",
    "    Given a vector with components $(a,b,c,d)$ in the two-spin Hilbert space,\n",
    "    returns the string:\n",
    "        $ a |00> + b |01> + c |10> + d |11> $\n",
    "    >>> v = tensor([0.5*basis(2,0),0.5*basis(2,1)]) + tensor([0.5*basis(2,1),0.5*basis(2,1)])\n",
    "    >>> v\n",
    "    (Quantum object: dims = [[2, 2], [1, 1]], shape = [4, 1], type = ket\n",
    "     Qobj data =\n",
    "     [[ 0.  ]\n",
    "      [ 0.25]\n",
    "      [ 0.  ]\n",
    "      [ 0.25]],)\n",
    "    >>> qubitStateToLatex(v,[2,2])\n",
    "        $ 0.25 |01> + 0.25 |11> $\n",
    "    '''\n",
    "    \n",
    "    data = 0\n",
    "    \n",
    "    # insert check to ensure QuTiP module is imported\n",
    "    # inset check to ensure operator module is imported\n",
    "    \n",
    "    if not isinstance(state,Qobj):\n",
    "        raise ValueError('First argument must be QuTiP Qobj bra or ket')\n",
    "    if not state.isket or state.isbra:\n",
    "        raise ValueError('First argument must be a QuTiP ket or bra')\n",
    "\n",
    "    if not isinstance(dim_list,list):\n",
    "        raise ValueError('Second argument must be a list')\n",
    "        \n",
    "    for i in dim_list:\n",
    "        if not (isinstance(i,int) and (i>0)):\n",
    "            raise ValueError('Second argument of positive, non-zero integers')\n",
    "    \n",
    "    # Determine the dimension of the tensor product space\n",
    "    tensor_dim = reduce(op.mul,dim_list)\n",
    "    \n",
    "    is_bra = False\n",
    "    is_ket = False\n",
    "    \n",
    "    if state.isket:\n",
    "        is_ket = True\n",
    "    elif state.isbra:\n",
    "        is_bra = True\n",
    "        state = state.conj()\n",
    "    \n",
    "    vect_dim = state.shape[0]\n",
    "    \n",
    "    # The input state must live in the tensor product space of particles with Hilbert spaces of dimensions\n",
    "    # given in dim_list. Thus vect_dim - the dimension of the Hilbert space to which input state belongs\n",
    "    # must be equal to tensor_dim.\n",
    "    \n",
    "    if vect_dim != tensor_dim:\n",
    "        raise ValueError('Dimension of input state is not compatible with dimensions given in dim_list')\n",
    "            \n",
    "    "
   ]
  },
  {
   "cell_type": "code",
   "execution_count": 4,
   "metadata": {
    "collapsed": true
   },
   "outputs": [],
   "source": [
    "s = tensor(basis(2,1),basis(3,0))\n",
    "d = [2,3]"
   ]
  },
  {
   "cell_type": "code",
   "execution_count": 5,
   "metadata": {},
   "outputs": [
    {
     "name": "stdout",
     "output_type": "stream",
     "text": [
      "None\n"
     ]
    }
   ],
   "source": [
    "print(qubitStateToLatex(s,d))"
   ]
  },
  {
   "cell_type": "code",
   "execution_count": 6,
   "metadata": {},
   "outputs": [
    {
     "data": {
      "text/plain": [
       "(6, 1)"
      ]
     },
     "execution_count": 6,
     "metadata": {},
     "output_type": "execute_result"
    }
   ],
   "source": [
    "s.shape"
   ]
  },
  {
   "cell_type": "code",
   "execution_count": 7,
   "metadata": {},
   "outputs": [
    {
     "data": {
      "text/latex": [
       "Quantum object: dims = [[2, 2, 2], [2, 2, 2]], shape = (8, 8), type = oper, isherm = True\\begin{equation*}\\left(\\begin{array}{*{11}c}0.354 & 0.354 & 0.354 & 0.354 & 0.354 & 0.354 & 0.354 & 0.354\\\\0.354 & -0.354 & 0.354 & -0.354 & 0.354 & -0.354 & 0.354 & -0.354\\\\0.354 & 0.354 & -0.354 & -0.354 & 0.354 & 0.354 & -0.354 & -0.354\\\\0.354 & -0.354 & -0.354 & 0.354 & 0.354 & -0.354 & -0.354 & 0.354\\\\0.354 & 0.354 & 0.354 & 0.354 & -0.354 & -0.354 & -0.354 & -0.354\\\\0.354 & -0.354 & 0.354 & -0.354 & -0.354 & 0.354 & -0.354 & 0.354\\\\0.354 & 0.354 & -0.354 & -0.354 & -0.354 & -0.354 & 0.354 & 0.354\\\\0.354 & -0.354 & -0.354 & 0.354 & -0.354 & 0.354 & 0.354 & -0.354\\\\\\end{array}\\right)\\end{equation*}"
      ],
      "text/plain": [
       "Quantum object: dims = [[2, 2, 2], [2, 2, 2]], shape = (8, 8), type = oper, isherm = True\n",
       "Qobj data =\n",
       "[[ 0.35355339  0.35355339  0.35355339  0.35355339  0.35355339  0.35355339\n",
       "   0.35355339  0.35355339]\n",
       " [ 0.35355339 -0.35355339  0.35355339 -0.35355339  0.35355339 -0.35355339\n",
       "   0.35355339 -0.35355339]\n",
       " [ 0.35355339  0.35355339 -0.35355339 -0.35355339  0.35355339  0.35355339\n",
       "  -0.35355339 -0.35355339]\n",
       " [ 0.35355339 -0.35355339 -0.35355339  0.35355339  0.35355339 -0.35355339\n",
       "  -0.35355339  0.35355339]\n",
       " [ 0.35355339  0.35355339  0.35355339  0.35355339 -0.35355339 -0.35355339\n",
       "  -0.35355339 -0.35355339]\n",
       " [ 0.35355339 -0.35355339  0.35355339 -0.35355339 -0.35355339  0.35355339\n",
       "  -0.35355339  0.35355339]\n",
       " [ 0.35355339  0.35355339 -0.35355339 -0.35355339 -0.35355339 -0.35355339\n",
       "   0.35355339  0.35355339]\n",
       " [ 0.35355339 -0.35355339 -0.35355339  0.35355339 -0.35355339  0.35355339\n",
       "   0.35355339 -0.35355339]]"
      ]
     },
     "execution_count": 7,
     "metadata": {},
     "output_type": "execute_result"
    }
   ],
   "source": [
    "h2 = hadamard_transform(N=3)\n",
    "h2"
   ]
  },
  {
   "cell_type": "code",
   "execution_count": 8,
   "metadata": {},
   "outputs": [
    {
     "data": {
      "text/plain": [
       "([[2, 2, 2], [2, 2, 2]], (8, 8))"
      ]
     },
     "execution_count": 8,
     "metadata": {},
     "output_type": "execute_result"
    }
   ],
   "source": [
    "h2.dims, h2.shape"
   ]
  },
  {
   "cell_type": "code",
   "execution_count": 9,
   "metadata": {},
   "outputs": [
    {
     "data": {
      "text/plain": [
       "(Quantum object: dims = [[3], [1]], shape = (3, 1), type = ket\n",
       " Qobj data =\n",
       " [[ 1.]\n",
       "  [ 0.]\n",
       "  [ 0.]], Quantum object: dims = [[2], [1]], shape = (2, 1), type = ket\n",
       " Qobj data =\n",
       " [[ 0.]\n",
       "  [ 1.]])"
      ]
     },
     "execution_count": 9,
     "metadata": {},
     "output_type": "execute_result"
    }
   ],
   "source": [
    "v1 = basis(3,0)\n",
    "v2 = basis(2,1)\n",
    "v1, v2"
   ]
  },
  {
   "cell_type": "code",
   "execution_count": 10,
   "metadata": {},
   "outputs": [
    {
     "data": {
      "text/latex": [
       "Quantum object: dims = [[3, 2], [1, 1]], shape = (6, 1), type = ket\\begin{equation*}\\left(\\begin{array}{*{11}c}0.0\\\\1.0\\\\0.0\\\\0.0\\\\0.0\\\\0.0\\\\\\end{array}\\right)\\end{equation*}"
      ],
      "text/plain": [
       "Quantum object: dims = [[3, 2], [1, 1]], shape = (6, 1), type = ket\n",
       "Qobj data =\n",
       "[[ 0.]\n",
       " [ 1.]\n",
       " [ 0.]\n",
       " [ 0.]\n",
       " [ 0.]\n",
       " [ 0.]]"
      ]
     },
     "execution_count": 10,
     "metadata": {},
     "output_type": "execute_result"
    }
   ],
   "source": [
    "tensor([v1,v2])"
   ]
  },
  {
   "cell_type": "code",
   "execution_count": 11,
   "metadata": {
    "collapsed": true
   },
   "outputs": [],
   "source": [
    "from operator import *"
   ]
  },
  {
   "cell_type": "markdown",
   "metadata": {},
   "source": [
    "## def: `qubitSequenceToState`"
   ]
  },
  {
   "cell_type": "code",
   "execution_count": 12,
   "metadata": {},
   "outputs": [
    {
     "data": {
      "text/latex": [
       "Quantum object: dims = [[2, 2], [1, 1]], shape = (4, 1), type = ket\\begin{equation*}\\left(\\begin{array}{*{11}c}0.500\\\\0.500\\\\0.500\\\\0.500\\\\\\end{array}\\right)\\end{equation*}"
      ],
      "text/plain": [
       "Quantum object: dims = [[2, 2], [1, 1]], shape = (4, 1), type = ket\n",
       "Qobj data =\n",
       "[[ 0.5]\n",
       " [ 0.5]\n",
       " [ 0.5]\n",
       " [ 0.5]]"
      ]
     },
     "execution_count": 12,
     "metadata": {},
     "output_type": "execute_result"
    }
   ],
   "source": [
    "v = hadamard_transform(2)*ket('00')\n",
    "v"
   ]
  },
  {
   "cell_type": "code",
   "execution_count": 13,
   "metadata": {},
   "outputs": [
    {
     "data": {
      "text/plain": [
       "4"
      ]
     },
     "execution_count": 13,
     "metadata": {},
     "output_type": "execute_result"
    }
   ],
   "source": [
    "v.shape[0]"
   ]
  },
  {
   "cell_type": "code",
   "execution_count": 14,
   "metadata": {},
   "outputs": [
    {
     "data": {
      "text/latex": [
       "Quantum object: dims = [[1], [1]], shape = (1, 1), type = bra\\begin{equation*}\\left(\\begin{array}{*{11}c}1.500\\\\\\end{array}\\right)\\end{equation*}"
      ],
      "text/plain": [
       "Quantum object: dims = [[1], [1]], shape = (1, 1), type = bra\n",
       "Qobj data =\n",
       "[[ 1.5]]"
      ]
     },
     "execution_count": 14,
     "metadata": {},
     "output_type": "execute_result"
    }
   ],
   "source": [
    "a = Qobj(1.5)\n",
    "a"
   ]
  },
  {
   "cell_type": "code",
   "execution_count": 15,
   "metadata": {},
   "outputs": [
    {
     "data": {
      "text/plain": [
       "array([[ 1.5+0.j]])"
      ]
     },
     "execution_count": 15,
     "metadata": {},
     "output_type": "execute_result"
    }
   ],
   "source": [
    "a.full()"
   ]
  },
  {
   "cell_type": "code",
   "execution_count": 16,
   "metadata": {},
   "outputs": [
    {
     "ename": "NameError",
     "evalue": "name '_110' is not defined",
     "output_type": "error",
     "traceback": [
      "\u001b[0;31m---------------------------------------------------------------------------\u001b[0m",
      "\u001b[0;31mNameError\u001b[0m                                 Traceback (most recent call last)",
      "\u001b[0;32m<ipython-input-16-2c455d264021>\u001b[0m in \u001b[0;36m<module>\u001b[0;34m()\u001b[0m\n\u001b[0;32m----> 1\u001b[0;31m \u001b[0m_110\u001b[0m\u001b[0;34m[\u001b[0m\u001b[0;36m0\u001b[0m\u001b[0;34m,\u001b[0m\u001b[0;36m0\u001b[0m\u001b[0;34m]\u001b[0m\u001b[0;34m\u001b[0m\u001b[0m\n\u001b[0m",
      "\u001b[0;31mNameError\u001b[0m: name '_110' is not defined"
     ]
    }
   ],
   "source": [
    "_110[0,0]"
   ]
  },
  {
   "cell_type": "code",
   "execution_count": 17,
   "metadata": {},
   "outputs": [
    {
     "ename": "NameError",
     "evalue": "name '_118' is not defined",
     "output_type": "error",
     "traceback": [
      "\u001b[0;31m---------------------------------------------------------------------------\u001b[0m",
      "\u001b[0;31mNameError\u001b[0m                                 Traceback (most recent call last)",
      "\u001b[0;32m<ipython-input-17-838e5397d81c>\u001b[0m in \u001b[0;36m<module>\u001b[0;34m()\u001b[0m\n\u001b[0;32m----> 1\u001b[0;31m \u001b[0mtype\u001b[0m\u001b[0;34m(\u001b[0m\u001b[0m_118\u001b[0m\u001b[0;34m)\u001b[0m\u001b[0;34m\u001b[0m\u001b[0m\n\u001b[0m",
      "\u001b[0;31mNameError\u001b[0m: name '_118' is not defined"
     ]
    }
   ],
   "source": [
    "type(_118)"
   ]
  },
  {
   "cell_type": "code",
   "execution_count": 18,
   "metadata": {
    "collapsed": true
   },
   "outputs": [],
   "source": [
    "v.matrix_element?"
   ]
  },
  {
   "cell_type": "code",
   "execution_count": 20,
   "metadata": {},
   "outputs": [
    {
     "data": {
      "text/plain": [
       "(Quantum object: dims = [[2, 2], [1, 1]], shape = (4, 1), type = ket\n",
       " Qobj data =\n",
       " [[ 1.]\n",
       "  [ 0.]\n",
       "  [ 0.]\n",
       "  [ 0.]], Quantum object: dims = [[2, 2], [1, 1]], shape = (4, 1), type = ket\n",
       " Qobj data =\n",
       " [[ 0.]\n",
       "  [ 1.]\n",
       "  [ 0.]\n",
       "  [ 0.]], Quantum object: dims = [[2, 2], [1, 1]], shape = (4, 1), type = ket\n",
       " Qobj data =\n",
       " [[ 0.]\n",
       "  [ 0.]\n",
       "  [ 1.]\n",
       "  [ 0.]], Quantum object: dims = [[2, 2], [1, 1]], shape = (4, 1), type = ket\n",
       " Qobj data =\n",
       " [[ 0.]\n",
       "  [ 0.]\n",
       "  [ 0.]\n",
       "  [ 1.]])"
      ]
     },
     "execution_count": 20,
     "metadata": {},
     "output_type": "execute_result"
    }
   ],
   "source": [
    "[v1,v2,v3,v4] = [ket('00'), ket('01'), ket('10'), ket('11')]\n",
    "v1, v2, v3, v4"
   ]
  },
  {
   "cell_type": "code",
   "execution_count": 21,
   "metadata": {},
   "outputs": [
    {
     "data": {
      "text/latex": [
       "Quantum object: dims = [[1, 1], [2, 2]], shape = (1, 4), type = bra\\begin{equation*}\\left(\\begin{array}{*{11}c}1.0 & 0.0 & 0.0 & 0.0\\\\\\end{array}\\right)\\end{equation*}"
      ],
      "text/plain": [
       "Quantum object: dims = [[1, 1], [2, 2]], shape = (1, 4), type = bra\n",
       "Qobj data =\n",
       "[[ 1.  0.  0.  0.]]"
      ]
     },
     "execution_count": 21,
     "metadata": {},
     "output_type": "execute_result"
    }
   ],
   "source": [
    "v1.trans()"
   ]
  },
  {
   "cell_type": "code",
   "execution_count": 22,
   "metadata": {},
   "outputs": [
    {
     "data": {
      "text/plain": [
       "(4, 1)"
      ]
     },
     "execution_count": 22,
     "metadata": {},
     "output_type": "execute_result"
    }
   ],
   "source": [
    "v1.shape"
   ]
  },
  {
   "cell_type": "code",
   "execution_count": 23,
   "metadata": {},
   "outputs": [
    {
     "data": {
      "text/latex": [
       "Quantum object: dims = [[2, 1], [1, 1]], shape = (2, 1), type = ket\\begin{equation*}\\left(\\begin{array}{*{11}c}1.0\\\\0.0\\\\\\end{array}\\right)\\end{equation*}"
      ],
      "text/plain": [
       "Quantum object: dims = [[2, 1], [1, 1]], shape = (2, 1), type = ket\n",
       "Qobj data =\n",
       "[[ 1.]\n",
       " [ 0.]]"
      ]
     },
     "execution_count": 23,
     "metadata": {},
     "output_type": "execute_result"
    }
   ],
   "source": [
    "tensor([basis(2,0),basis(1,0)])"
   ]
  },
  {
   "cell_type": "code",
   "execution_count": 24,
   "metadata": {
    "collapsed": true
   },
   "outputs": [],
   "source": [
    "# this is nothing more than the function ket() which is already defined in QuTiP\n",
    "def qubitSequenceToState(x = '01'):\n",
    "    ''' Given a string of length N, consisting only of 0s and 1s, constructs and returns\n",
    "    the corresponding quantum state.\n",
    "\n",
    "    For e.g., if SequenceToState('101') returns\n",
    "    tensor([basis(2,1),basis(2,0),basis(2,1)])\n",
    "    '''\n",
    "    \n",
    "    if not isinstance(x,str):\n",
    "        raise ValueError('Function takes exactly one argument of type string')\n",
    "    else:\n",
    "        n = len(x)\n",
    "        if (x.count('0') + x.count('1')) != n:\n",
    "            raise ValueError('Argument should be string consisting only of 0s and 1s')\n",
    "    \n",
    "    op_list = []\n",
    "    \n",
    "    for i in range(n):\n",
    "        op_list.append(basis(2,int(x[i])))\n",
    "        \n",
    "    return tensor(op_list)\n",
    "        "
   ]
  },
  {
   "cell_type": "code",
   "execution_count": 25,
   "metadata": {},
   "outputs": [
    {
     "data": {
      "text/latex": [
       "Quantum object: dims = [[2, 2], [1, 1]], shape = (4, 1), type = ket\\begin{equation*}\\left(\\begin{array}{*{11}c}0.0\\\\1.0\\\\0.0\\\\0.0\\\\\\end{array}\\right)\\end{equation*}"
      ],
      "text/plain": [
       "Quantum object: dims = [[2, 2], [1, 1]], shape = (4, 1), type = ket\n",
       "Qobj data =\n",
       "[[ 0.]\n",
       " [ 1.]\n",
       " [ 0.]\n",
       " [ 0.]]"
      ]
     },
     "execution_count": 25,
     "metadata": {},
     "output_type": "execute_result"
    }
   ],
   "source": [
    "qubitSequenceToState()"
   ]
  },
  {
   "cell_type": "code",
   "execution_count": 26,
   "metadata": {},
   "outputs": [
    {
     "data": {
      "text/latex": [
       "Quantum object: dims = [[2, 2], [1, 1]], shape = (4, 1), type = ket\\begin{equation*}\\left(\\begin{array}{*{11}c}1.0\\\\0.0\\\\0.0\\\\0.0\\\\\\end{array}\\right)\\end{equation*}"
      ],
      "text/plain": [
       "Quantum object: dims = [[2, 2], [1, 1]], shape = (4, 1), type = ket\n",
       "Qobj data =\n",
       "[[ 1.]\n",
       " [ 0.]\n",
       " [ 0.]\n",
       " [ 0.]]"
      ]
     },
     "execution_count": 26,
     "metadata": {},
     "output_type": "execute_result"
    }
   ],
   "source": [
    "ket('00')"
   ]
  },
  {
   "cell_type": "code",
   "execution_count": null,
   "metadata": {
    "collapsed": true
   },
   "outputs": [],
   "source": []
  }
 ],
 "metadata": {
  "kernelspec": {
   "display_name": "Python 3",
   "language": "python",
   "name": "python3"
  },
  "language_info": {
   "codemirror_mode": {
    "name": "ipython",
    "version": 3
   },
   "file_extension": ".py",
   "mimetype": "text/x-python",
   "name": "python",
   "nbconvert_exporter": "python",
   "pygments_lexer": "ipython3",
   "version": "3.6.3"
  },
  "latex_envs": {
   "bibliofile": "biblio.bib",
   "cite_by": "apalike",
   "current_citInitial": 1,
   "eqLabelWithNumbers": true,
   "eqNumInitial": 0
  },
  "toc": {
   "nav_menu": {},
   "number_sections": true,
   "sideBar": false,
   "skip_h1_title": false,
   "toc_cell": true,
   "toc_position": {
    "height": "232px",
    "left": "981.45px",
    "right": "33.55px",
    "top": "120px",
    "width": "261px"
   },
   "toc_section_display": "block",
   "toc_window_display": true
  }
 },
 "nbformat": 4,
 "nbformat_minor": 1
}
