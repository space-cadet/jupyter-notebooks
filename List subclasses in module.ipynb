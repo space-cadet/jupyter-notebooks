{
 "cells": [
  {
   "cell_type": "code",
   "execution_count": 1,
   "metadata": {
    "collapsed": true
   },
   "outputs": [],
   "source": [
    "from sympy import *"
   ]
  },
  {
   "cell_type": "code",
   "execution_count": 2,
   "metadata": {
    "collapsed": true
   },
   "outputs": [],
   "source": [
    "init_printing()"
   ]
  },
  {
   "cell_type": "code",
   "execution_count": 3,
   "metadata": {
    "collapsed": true
   },
   "outputs": [],
   "source": [
    "from sympsi import *"
   ]
  },
  {
   "cell_type": "code",
   "execution_count": 4,
   "metadata": {
    "collapsed": true
   },
   "outputs": [],
   "source": [
    "from sympsi.pauli import *"
   ]
  },
  {
   "cell_type": "code",
   "execution_count": 6,
   "metadata": {
    "collapsed": false
   },
   "outputs": [],
   "source": [
    "import sympsi as Psi"
   ]
  },
  {
   "cell_type": "code",
   "execution_count": 13,
   "metadata": {
    "collapsed": false
   },
   "outputs": [],
   "source": [
    "Psi.__class__??"
   ]
  },
  {
   "cell_type": "code",
   "execution_count": 17,
   "metadata": {
    "collapsed": false
   },
   "outputs": [
    {
     "data": {
      "text/plain": [
       "[sympsi.operator.HermitianOperator,\n",
       " sympsi.operator.UnitaryOperator,\n",
       " sympsi.operator.IdentityOperator,\n",
       " sympsi.operator.OuterProduct,\n",
       " sympsi.operator.DifferentialOperator,\n",
       " sympsi.operator.OperatorFunction,\n",
       " sympsi.spin.JplusOp,\n",
       " sympsi.spin.JminusOp,\n",
       " sympsi.pauli.SigmaOpBase,\n",
       " sympsi.boson.BosonOp,\n",
       " sympsi.fermion.FermionOp,\n",
       " sympsi.fermion.MultiFermionOp]"
      ]
     },
     "execution_count": 17,
     "metadata": {},
     "output_type": "execute_result"
    }
   ],
   "source": [
    "Psi.Operator.__subclasses__()"
   ]
  },
  {
   "cell_type": "code",
   "execution_count": 18,
   "metadata": {
    "collapsed": true
   },
   "outputs": [],
   "source": [
    "import sys"
   ]
  },
  {
   "cell_type": "code",
   "execution_count": 25,
   "metadata": {
    "collapsed": false
   },
   "outputs": [
    {
     "name": "stdout",
     "output_type": "stream",
     "text": [
      "sympsi.collections\n",
      "sympsi.expectation\n",
      "sympsi.IPython\n",
      "sympsi.warnings\n",
      "sympsi.fermion\n",
      "sympsi.qapply\n",
      "sympsi.__future__\n",
      "sympsi.dagger\n",
      "sympsi.pauli\n",
      "sympsi\n",
      "sympsi.operator\n",
      "sympsi.cg\n",
      "sympsi.qexpr\n",
      "sympsi.sympy\n",
      "sympsi.hilbert\n",
      "sympsi.sympsi\n",
      "sympsi.operatorordering\n",
      "sympsi.spin\n",
      "sympsi.tensorproduct\n",
      "sympsi.operatorset\n",
      "sympsi.qutility\n",
      "sympsi.innerproduct\n",
      "sympsi.mpmath\n",
      "sympsi.anticommutator\n",
      "sympsi.represent\n",
      "sympsi.state\n",
      "sympsi.constants\n",
      "sympsi.commutator\n",
      "sympsi.boson\n"
     ]
    }
   ],
   "source": [
    "for k in sys.modules.keys():\n",
    "    if 'sympsi' in k:\n",
    "        print k"
   ]
  },
  {
   "cell_type": "code",
   "execution_count": 27,
   "metadata": {
    "collapsed": false
   },
   "outputs": [
    {
     "name": "stdout",
     "output_type": "stream",
     "text": [
      "__main__\n",
      "IPython.core.__main__\n"
     ]
    }
   ],
   "source": [
    "for k in sys.modules.keys():\n",
    "    if '__main' in k:\n",
    "        print k"
   ]
  },
  {
   "cell_type": "code",
   "execution_count": 35,
   "metadata": {
    "collapsed": false
   },
   "outputs": [],
   "source": [
    "current_module = sys.modules[__name__]"
   ]
  },
  {
   "cell_type": "code",
   "execution_count": 42,
   "metadata": {
    "collapsed": false,
    "scrolled": false
   },
   "outputs": [],
   "source": [
    "g = globals().copy()"
   ]
  },
  {
   "cell_type": "code",
   "execution_count": 43,
   "metadata": {
    "collapsed": false
   },
   "outputs": [],
   "source": [
    "globals?"
   ]
  },
  {
   "cell_type": "code",
   "execution_count": 44,
   "metadata": {
    "collapsed": true
   },
   "outputs": [],
   "source": [
    "import inspect"
   ]
  },
  {
   "cell_type": "code",
   "execution_count": 46,
   "metadata": {
    "collapsed": false
   },
   "outputs": [],
   "source": [
    "inspect?"
   ]
  },
  {
   "cell_type": "code",
   "execution_count": 55,
   "metadata": {
    "collapsed": false
   },
   "outputs": [
    {
     "name": "stdout",
     "output_type": "stream",
     "text": [
      "Create a numpy ndarray of symbols (as an object array).\n",
      "\n",
      "The created symbols are named ``prefix_i1_i2_``...  You should thus provide a\n",
      "non-empty prefix if you want your symbols to be unique for different output\n",
      "arrays, as SymPy symbols with identical names are the same object.\n",
      "\n",
      "Parameters\n",
      "----------\n",
      "\n",
      "prefix : string\n",
      "  A prefix prepended to the name of every symbol.\n",
      "\n",
      "shape : int or tuple\n",
      "  Shape of the created array.  If an int, the array is one-dimensional; for\n",
      "  more than one dimension the shape must be a tuple.\n",
      "\n",
      "Examples\n",
      "--------\n",
      "These doctests require numpy.\n",
      "\n",
      ">>> from sympy import symarray\n",
      ">>> symarray('', 3)\n",
      "[_0 _1 _2]\n",
      "\n",
      "If you want multiple symarrays to contain distinct symbols, you *must*\n",
      "provide unique prefixes:\n",
      "\n",
      ">>> a = symarray('', 3)\n",
      ">>> b = symarray('', 3)\n",
      ">>> a[0] == b[0]\n",
      "True\n",
      ">>> a = symarray('a', 3)\n",
      ">>> b = symarray('b', 3)\n",
      ">>> a[0] == b[0]\n",
      "False\n",
      "\n",
      "Creating symarrays with a prefix:\n",
      "\n",
      ">>> symarray('a', 3)\n",
      "[a_0 a_1 a_2]\n",
      "\n",
      "For more than one dimension, the shape must be given as a tuple:\n",
      "\n",
      ">>> symarray('a', (2, 3))\n",
      "[[a_0_0 a_0_1 a_0_2]\n",
      " [a_1_0 a_1_1 a_1_2]]\n",
      ">>> symarray('a', (2, 3, 2))\n",
      "[[[a_0_0_0 a_0_0_1]\n",
      "  [a_0_1_0 a_0_1_1]\n",
      "  [a_0_2_0 a_0_2_1]]\n",
      "<BLANKLINE>\n",
      " [[a_1_0_0 a_1_0_1]\n",
      "  [a_1_1_0 a_1_1_1]\n",
      "  [a_1_2_0 a_1_2_1]]]\n"
     ]
    }
   ],
   "source": [
    "print inspect.getdoc(symarray)"
   ]
  },
  {
   "cell_type": "code",
   "execution_count": 56,
   "metadata": {
    "collapsed": true
   },
   "outputs": [],
   "source": [
    "def print_classes():\n",
    "    for name, obj in inspect.getmembers(sys.modules[__name__]):\n",
    "        if inspect.isclass(obj):\n",
    "            print(obj)"
   ]
  },
  {
   "cell_type": "code",
   "execution_count": 57,
   "metadata": {
    "collapsed": false
   },
   "outputs": [
    {
     "name": "stdout",
     "output_type": "stream",
     "text": [
      "Abs\n",
      "<class 'sympy.core.add.Add'>\n",
      "<class 'sympy.matrices.expressions.adjoint.Adjoint'>\n",
      "<class 'sympy.polys.domains.algebraicfield.AlgebraicField'>\n",
      "<class 'sympy.core.numbers.AlgebraicNumber'>\n",
      "And\n",
      "<class 'sympsi.anticommutator.AntiCommutator'>\n",
      "<class 'sympy.assumptions.assume.AppliedPredicate'>\n",
      "<class 'sympy.assumptions.assume.AssumptionsContext'>\n",
      "<class 'sympy.core.basic.Atom'>\n",
      "<class 'sympy.core.expr.AtomicExpr'>\n",
      "<class 'sympy.polys.polyerrors.BasePolynomialError'>\n",
      "<class 'sympy.core.basic.Basic'>\n",
      "<class 'sympy.matrices.expressions.blockmatrix.BlockDiagMatrix'>\n",
      "<class 'sympy.matrices.expressions.blockmatrix.BlockMatrix'>\n",
      "<class 'sympsi.state.Bra'>\n",
      "<class 'sympsi.state.BraBase'>\n",
      "Chi\n",
      "Ci\n",
      "<class 'sympy.geometry.ellipse.Circle'>\n",
      "<class 'sympy.polys.polyerrors.CoercionFailed'>\n",
      "<class 'sympsi.commutator.Commutator'>\n",
      "<class 'sympy.sets.sets.Complement'>\n",
      "<class 'sympy.polys.domains.complexfield.ComplexField'>\n",
      "<class 'sympsi.hilbert.ComplexSpace'>\n",
      "<class 'sympy.polys.polyerrors.ComputationFailed'>\n",
      "Contains\n",
      "CosineTransform\n",
      "<class 'sympy.geometry.curve.Curve'>\n",
      "Dagger\n",
      "<class 'sympy.matrices.matrices.DeferredVector'>\n",
      "<class 'sympy.core.function.Derivative'>\n",
      "<class 'sympy.matrices.expressions.determinant.Determinant'>\n",
      "<class 'sympy.matrices.expressions.diagonal.DiagonalMatrix'>\n",
      "<class 'sympy.matrices.expressions.diagonal.DiagonalOf'>\n",
      "<class 'sympy.core.containers.Dict'>\n",
      "<class 'sympsi.operator.DifferentialOperator'>\n",
      "DiracDelta\n",
      "<class 'sympy.polys.domains.domain.Domain'>\n",
      "<class 'sympy.polys.polyerrors.DomainError'>\n",
      "<class 'sympy.core.symbol.Dummy'>\n",
      "<class 'sympy.simplify.epathtools.EPath'>\n",
      "Ei\n",
      "<class 'sympy.geometry.ellipse.Ellipse'>\n",
      "<class 'sympy.sets.sets.EmptySet'>\n",
      "<class 'sympy.core.relational.Equality'>\n",
      "<class 'sympy.core.relational.Equality'>\n",
      "Equivalent\n",
      "<class 'sympy.polys.polyerrors.EvaluationFailed'>\n",
      "<class 'sympy.polys.polyerrors.ExactQuotientFailed'>\n",
      "<class 'sympy.core.expr.Expr'>\n",
      "<class 'sympy.polys.domains.expressiondomain.ExpressionDomain'>\n",
      "<class 'sympy.polys.polyerrors.ExtraneousFactors'>\n",
      "<class 'sympy.polys.domains.pythonfinitefield.PythonFiniteField'>\n",
      "<class 'sympy.polys.domains.gmpyfinitefield.GMPYFiniteField'>\n",
      "<class 'sympy.polys.domains.pythonfinitefield.PythonFiniteField'>\n",
      "FallingFactorial\n",
      "<class 'sympy.polys.domains.finitefield.FiniteField'>\n",
      "<class 'sympy.sets.sets.FiniteSet'>\n",
      "<class 'sympy.polys.polyerrors.FlagError'>\n",
      "<class 'sympy.core.numbers.Float'>\n",
      "<class 'sympsi.hilbert.FockSpace'>\n",
      "FourierTransform\n",
      "<class 'sympy.polys.domains.fractionfield.FractionField'>\n",
      "Function\n",
      "<class 'sympy.core.function.FunctionClass'>\n",
      "<class 'sympy.matrices.expressions.funcmatrix.FunctionMatrix'>\n",
      "<class 'sympy.polys.domains.pythonfinitefield.PythonFiniteField'>\n",
      "<class 'sympy.polys.domains.gmpyfinitefield.GMPYFiniteField'>\n",
      "<class 'sympy.polys.domains.gmpyintegerring.GMPYIntegerRing'>\n",
      "<class 'sympy.polys.domains.gmpyrationalfield.GMPYRationalField'>\n",
      "<class 'sympy.core.relational.GreaterThan'>\n",
      "<class 'sympy.polys.polyerrors.GeneratorsError'>\n",
      "<class 'sympy.polys.polyerrors.GeneratorsNeeded'>\n",
      "<class 'sympy.geometry.exceptions.GeometryError'>\n",
      "<class 'sympy.core.relational.GreaterThan'>\n",
      "<class 'sympy.polys.polytools.GroebnerBasis'>\n",
      "<class 'sympy.core.relational.StrictGreaterThan'>\n",
      "<class 'sympy.matrices.expressions.hadamard.HadamardProduct'>\n",
      "HankelTransform\n",
      "Heaviside\n",
      "<class 'sympsi.operator.HermitianOperator'>\n",
      "<class 'sympy.polys.polyerrors.HeuristicGCDFailed'>\n",
      "<class 'sympsi.hilbert.HilbertSpace'>\n",
      "<class 'sympsi.hilbert.HilbertSpaceError'>\n",
      "<class 'sympy.polys.polyerrors.HomomorphismFailed'>\n",
      "ITE\n",
      "<class 'sympy.matrices.expressions.matexpr.Identity'>\n",
      "<class 'sympsi.operator.IdentityOperator'>\n",
      "<class 'sympy.tensor.indexed.Idx'>\n",
      "<class 'sympy.sets.fancysets.ImageSet'>\n",
      "<class 'sympy.matrices.immutable.ImmutableMatrix'>\n",
      "<class 'sympy.matrices.immutable.ImmutableMatrix'>\n",
      "<class 'sympy.matrices.immutable.ImmutableSparseMatrix'>\n",
      "Implies\n",
      "<class 'sympy.tensor.indexed.Indexed'>\n",
      "<class 'sympy.tensor.indexed.IndexedBase'>\n",
      "<class 'sympsi.innerproduct.InnerProduct'>\n",
      "<class 'sympy.core.numbers.Integer'>\n",
      "<class 'sympy.polys.domains.integerring.IntegerRing'>\n",
      "<class 'sympy.integrals.integrals.Integral'>\n",
      "<class 'sympy.sets.sets.Intersection'>\n",
      "<class 'sympy.sets.sets.Interval'>\n",
      "<class 'sympy.matrices.expressions.inverse.Inverse'>\n",
      "InverseCosineTransform\n",
      "InverseFourierTransform\n",
      "InverseHankelTransform\n",
      "InverseLaplaceTransform\n",
      "InverseMellinTransform\n",
      "InverseSineTransform\n",
      "<class 'sympy.polys.polyerrors.IsomorphismFailed'>\n",
      "<class 'sympsi.state.Ket'>\n",
      "<class 'sympsi.state.KetBase'>\n",
      "KroneckerDelta\n",
      "<class 'sympsi.hilbert.L2'>\n",
      "<class 'sympy.core.function.Lambda'>\n",
      "LambertW\n",
      "LaplaceTransform\n",
      "<class 'sympy.core.relational.LessThan'>\n",
      "<class 'sympy.core.relational.LessThan'>\n",
      "LeviCivita\n",
      "Li\n",
      "<class 'sympy.series.limits.Limit'>\n",
      "<class 'sympy.geometry.line.Line'>\n",
      "<class 'sympy.geometry.line3d.Line3D'>\n",
      "<class 'sympy.core.relational.StrictLessThan'>\n",
      "<class 'sympy.matrices.expressions.matadd.MatAdd'>\n",
      "<class 'sympy.matrices.expressions.matmul.MatMul'>\n",
      "<class 'sympy.matrices.expressions.matpow.MatPow'>\n",
      "<class 'sympy.matrices.dense.MutableDenseMatrix'>\n",
      "<class 'sympy.matrices.matrices.MatrixBase'>\n",
      "<class 'sympy.matrices.expressions.matexpr.MatrixExpr'>\n",
      "<class 'sympy.matrices.expressions.slice.MatrixSlice'>\n",
      "<class 'sympy.matrices.expressions.matexpr.MatrixSymbol'>\n",
      "Max\n",
      "MellinTransform\n",
      "Min\n",
      "Mod\n",
      "<class 'sympy.polys.monomials.Monomial'>\n",
      "<class 'sympy.core.mul.Mul'>\n",
      "<class 'sympy.polys.polyerrors.MultivariatePolynomialError'>\n",
      "<class 'sympy.matrices.dense.MutableDenseMatrix'>\n",
      "<class 'sympy.matrices.dense.MutableDenseMatrix'>\n",
      "<class 'sympy.matrices.sparse.MutableSparseMatrix'>\n",
      "Nand\n",
      "<class 'sympy.core.relational.Unequality'>\n",
      "<class 'sympy.matrices.matrices.NonSquareMatrixError'>\n",
      "Nor\n",
      "Not\n",
      "<class 'sympy.polys.polyerrors.NotAlgebraic'>\n",
      "<class 'sympy.polys.polyerrors.NotInvertible'>\n",
      "<class 'sympy.polys.polyerrors.NotReversible'>\n",
      "<class 'sympy.core.numbers.Number'>\n",
      "<class 'sympy.core.numbers.NumberSymbol'>\n",
      "<class 'sympy.series.order.Order'>\n",
      "<class 'sympy.polys.polyerrors.OperationNotSupported'>\n",
      "<class 'sympsi.operator.Operator'>\n",
      "<class 'sympy.polys.polyerrors.OptionError'>\n",
      "<class 'sympy.polys.polyoptions.Options'>\n",
      "Or\n",
      "<class 'sympy.series.order.Order'>\n",
      "<class 'sympsi.operator.OuterProduct'>\n",
      "Piecewise\n",
      "<class 'sympy.geometry.plane.Plane'>\n",
      "<class 'sympy.geometry.point.Point'>\n",
      "<class 'sympy.geometry.point3d.Point3D'>\n",
      "<class 'sympy.core.function.PoleError'>\n",
      "<class 'sympy.polys.polyerrors.PolificationFailed'>\n",
      "<class 'sympy.polys.polytools.Poly'>\n",
      "<class 'sympy.geometry.polygon.Polygon'>\n",
      "<class 'sympy.polys.polyerrors.PolynomialDivisionFailed'>\n",
      "<class 'sympy.polys.polyerrors.PolynomialError'>\n",
      "<class 'sympy.polys.domains.polynomialring.PolynomialRing'>\n",
      "<class 'sympy.core.power.Pow'>\n",
      "<class 'sympy.core.evalf.PrecisionExhausted'>\n",
      "<class 'sympy.assumptions.assume.Predicate'>\n",
      "<class 'sympy.concrete.products.Product'>\n",
      "<class 'sympy.sets.sets.ProductSet'>\n",
      "<class 'sympy.polys.polytools.PurePoly'>\n",
      "<class 'sympy.polys.domains.pythonfinitefield.PythonFiniteField'>\n",
      "<class 'sympy.polys.domains.pythonintegerring.PythonIntegerRing'>\n",
      "<class 'sympy.polys.domains.pythonrationalfield.PythonRationalField'>\n",
      "sympy.assumptions.ask.Q\n",
      "<class 'sympy.polys.domains.gmpyrationalfield.GMPYRationalField'>\n",
      "<class 'sympy.polys.domains.pythonrationalfield.PythonRationalField'>\n",
      "<class 'sympy.sets.fancysets.Range'>\n",
      "<class 'sympy.core.numbers.Rational'>\n",
      "<class 'sympy.polys.domains.rationalfield.RationalField'>\n",
      "<class 'sympy.geometry.line.Ray'>\n",
      "<class 'sympy.geometry.line3d.Ray3D'>\n",
      "<class 'sympy.polys.domains.realfield.RealField'>\n",
      "<class 'sympy.core.numbers.Float'>\n",
      "<class 'sympy.polys.polyerrors.RefinementFailed'>\n",
      "<class 'sympy.geometry.polygon.RegularPolygon'>\n",
      "<class 'sympy.core.relational.Relational'>\n",
      "RisingFactorial\n",
      "<class 'sympy.polys.rootoftools.RootOf'>\n",
      "<class 'sympy.polys.rootoftools.RootSum'>\n",
      "<class 'sympy.geometry.line.Segment'>\n",
      "<class 'sympy.geometry.line3d.Segment3D'>\n",
      "<class 'sympy.sets.sets.Set'>\n",
      "<class 'sympy.matrices.matrices.ShapeError'>\n",
      "Shi\n",
      "Si\n",
      "sympy.ntheory.generate.Sieve\n",
      "<class 'sympsi.pauli.SigmaMinus'>\n",
      "<class 'sympsi.pauli.SigmaPlus'>\n",
      "<class 'sympsi.pauli.SigmaX'>\n",
      "<class 'sympsi.pauli.SigmaY'>\n",
      "<class 'sympsi.pauli.SigmaZ'>\n",
      "<class 'sympsi.pauli.SigmaZBra'>\n",
      "<class 'sympsi.pauli.SigmaZKet'>\n",
      "SineTransform\n",
      "<class 'sympy.matrices.sparse.MutableSparseMatrix'>\n",
      "<class 'sympsi.state.State'>\n",
      "<class 'sympsi.state.StateBase'>\n",
      "<class 'sympy.core.relational.StrictGreaterThan'>\n",
      "<class 'sympy.core.relational.StrictLessThan'>\n",
      "<class 'sympy.core.function.Subs'>\n",
      "<class 'sympy.concrete.summations.Sum'>\n",
      "<class 'sympsi.qutility.SymEq'>\n",
      "<class 'sympy.core.symbol.Symbol'>\n",
      "<class 'sympy.core.sympify.SympifyError'>\n",
      "<class 'sympy.printing.tableform.TableForm'>\n",
      "<class 'sympsi.tensorproduct.TensorProduct'>\n",
      "<class 'sympsi.state.TimeDepBra'>\n",
      "<class 'sympsi.state.TimeDepKet'>\n",
      "<class 'sympsi.state.TimeDepState'>\n",
      "<class 'sympy.matrices.expressions.trace.Trace'>\n",
      "<class 'sympy.matrices.expressions.transpose.Transpose'>\n",
      "<class 'sympy.geometry.polygon.Triangle'>\n",
      "<class 'sympy.core.containers.Tuple'>\n",
      "<class 'sympy.core.relational.Unequality'>\n",
      "<class 'sympy.polys.polyerrors.UnificationFailed'>\n",
      "<class 'sympy.sets.sets.Union'>\n",
      "<class 'sympsi.operator.UnitaryOperator'>\n",
      "<class 'sympy.polys.polyerrors.UnivariatePolynomialError'>\n",
      "Wavefunction\n",
      "<class 'sympy.core.symbol.Wild'>\n",
      "WildFunction\n",
      "Xor\n",
      "Ynm\n",
      "<class 'sympy.polys.domains.gmpyintegerring.GMPYIntegerRing'>\n",
      "<class 'sympy.polys.domains.pythonintegerring.PythonIntegerRing'>\n",
      "<class 'sympy.matrices.expressions.matexpr.ZeroMatrix'>\n",
      "Znm\n",
      "<class 'inspect.ModuleInfo'>\n",
      "<type 'module'>\n",
      "<class 'inspect.ModuleInfo'>\n",
      "<type 'module'>\n",
      "acos\n",
      "acosh\n",
      "acot\n",
      "acoth\n",
      "acsc\n",
      "Dagger\n",
      "airyai\n",
      "airyaiprime\n",
      "airybi\n",
      "airybiprime\n",
      "arg\n",
      "asec\n",
      "asin\n",
      "asinh\n",
      "assoc_laguerre\n",
      "assoc_legendre\n",
      "atan\n",
      "atan2\n",
      "atanh\n",
      "bell\n",
      "bernoulli\n",
      "besseli\n",
      "besselj\n",
      "besselk\n",
      "bessely\n",
      "beta\n",
      "binomial\n",
      "<type 'itertools.product'>\n",
      "catalan\n",
      "ceiling\n",
      "chebyshevt\n",
      "chebyshevt_root\n",
      "chebyshevu\n",
      "chebyshevu_root\n",
      "conjugate\n",
      "cos\n",
      "cosh\n",
      "cot\n",
      "coth\n",
      "csc\n",
      "dirichlet_eta\n",
      "divisor_sigma\n",
      "elliptic_e\n",
      "elliptic_f\n",
      "elliptic_k\n",
      "elliptic_pi\n",
      "erf\n",
      "erf2\n",
      "erf2inv\n",
      "erfc\n",
      "erfcinv\n",
      "erfi\n",
      "erfinv\n",
      "exp\n",
      "exp_polar\n",
      "expint\n",
      "factorial\n",
      "factorial2\n",
      "FallingFactorial\n",
      "fibonacci\n",
      "floor\n",
      "fresnelc\n",
      "fresnels\n",
      "gamma\n",
      "gegenbauer\n",
      "hankel1\n",
      "hankel2\n",
      "harmonic\n",
      "hermite\n",
      "hyper\n",
      "im\n",
      "jacobi\n",
      "jn\n",
      "laguerre\n",
      "legendre\n",
      "lerchphi\n",
      "li\n",
      "log\n",
      "log\n",
      "loggamma\n",
      "lowergamma\n",
      "lucas\n",
      "meijerg\n",
      "mobius\n",
      "periodic_argument\n",
      "polar_lift\n",
      "polygamma\n",
      "polylog\n",
      "<class 'sympy.core.basic.preorder_traversal'>\n",
      "principal_branch\n",
      "re\n",
      "RisingFactorial\n",
      "sec\n",
      "sign\n",
      "sin\n",
      "sinh\n",
      "subfactorial\n",
      "tan\n",
      "tanh\n",
      "totient\n",
      "transpose\n",
      "uppergamma\n",
      "sympy.core.multidimensional.vectorize\n",
      "yn\n",
      "zeta\n"
     ]
    }
   ],
   "source": [
    "print_classes()"
   ]
  },
  {
   "cell_type": "code",
   "execution_count": null,
   "metadata": {
    "collapsed": true
   },
   "outputs": [],
   "source": []
  }
 ],
 "metadata": {
  "kernelspec": {
   "display_name": "Python 2",
   "language": "python",
   "name": "python2"
  },
  "language_info": {
   "codemirror_mode": {
    "name": "ipython",
    "version": 2
   },
   "file_extension": ".py",
   "mimetype": "text/x-python",
   "name": "python",
   "nbconvert_exporter": "python",
   "pygments_lexer": "ipython2",
   "version": "2.7.10"
  }
 },
 "nbformat": 4,
 "nbformat_minor": 0
}
