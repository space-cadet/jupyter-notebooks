{
 "cells": [
  {
   "cell_type": "markdown",
   "metadata": {},
   "source": [
    "## Mathjax custom \n",
    "\n",
    "$ \\newcommand{\\opexpect}[3]{\\langle #1 \\vert #2 \\vert #3 \\rangle} $\n",
    "$ \\newcommand{\\rarrow}{\\rightarrow} $\n",
    "$ \\newcommand{\\bra}{\\langle} $\n",
    "$ \\newcommand{\\ket}{\\rangle} $\n",
    "\n",
    "$ \\newcommand{\\up}{\\uparrow} $\n",
    "$ \\newcommand{\\down}{\\downarrow} $\n",
    "\n",
    "$ \\newcommand{\\mb}[1]{\\mathbf{#1}} $\n",
    "$ \\newcommand{\\mc}[1]{\\mathcal{#1}} $\n",
    "$ \\newcommand{\\mbb}[1]{\\mathbb{#1}} $\n",
    "$ \\newcommand{\\mf}[1]{\\mathfrak{#1}} $\n",
    "\n",
    "$ \\newcommand{\\vect}[1]{\\boldsymbol{\\mathrm{#1}}} $\n",
    "$ \\newcommand{\\expect}[1]{\\langle #1\\rangle} $\n",
    "\n",
    "$ \\newcommand{\\innerp}[2]{\\langle #1 \\vert #2 \\rangle} $\n",
    "$ \\newcommand{\\fullbra}[1]{\\langle #1 \\vert} $\n",
    "$ \\newcommand{\\fullket}[1]{\\vert #1 \\rangle} $\n",
    "$ \\newcommand{\\supersc}[1]{^{\\text{#1}}} $\n",
    "$ \\newcommand{\\subsc}[1]{_{\\text{#1}}} $\n",
    "$ \\newcommand{\\sltwoc}{SL(2,\\mathbb{C})} $\n",
    "$ \\newcommand{\\sltwoz}{SL(2,\\mathbb{Z})} $\n",
    "\n",
    "$ \\newcommand{\\utilde}[1]{\\underset{\\sim}{#1}} $"
   ]
  },
  {
   "cell_type": "markdown",
   "metadata": {},
   "source": [
    "## $SO(50)$ Theory of SC/AF\n",
    "\n",
    "Reference: [Demler, Hanke, Zhang; 2004](http://arxiv.org/abs/cond-mat/0405038)"
   ]
  },
  {
   "cell_type": "markdown",
   "metadata": {},
   "source": [
    "### Lattice Order Parameters\n",
    "\n",
    "Consider a lattice with fermions on each site. $SO(5)$ symmetry generators and order parameters can be defined in terms of fermionic ladder operators on pairs of neighboring lattice sites. Given two sites, labeled by $\\{A, B\\}$, with spins $S_A$ and $S_B$. Then the total spin is given by:\n",
    "$$ \\vec S = \\vec S_A + \\vec S_B $$\n",
    "and the Neel vector is given by:\n",
    "$$ \\vec N = \\vec S_A - \\vec S_B $$\n",
    "Let $c_i$, $d_i$ label the fermionic operators on sites $A$ and $B$ respectively. Here $ i = 1,2 $ (or $  i = \\uparrow, \\downarrow $) is the spinor index. The spin of the fermions on the two sites can be expressed in terms of these operators as:\n",
    "\n",
    "$$ S_A^\\alpha = c^\\dagger \\sigma^\\alpha c; \\qquad S_B^\\alpha = d^\\dagger \\sigma^\\alpha d $$\n",
    "\n",
    "where $\\sigma^\\alpha$ are the Pauli matrices. The Heisenberg and Neel vectors can be defined as:\n",
    "\n",
    "$$  S^\\alpha = \\frac{1}{2} \\left( c^\\dagger \\sigma^\\alpha c + d^\\dagger \\sigma^\\alpha d \\right) \\\\\n",
    "    N^\\alpha = \\frac{1}{2} \\left( c^\\dagger \\sigma^\\alpha c - d^\\dagger \\sigma^\\alpha d \\right) $$"
   ]
  },
  {
   "cell_type": "markdown",
   "metadata": {},
   "source": [
    "#### Gap Operator (SC Order Parameter)\n",
    "\n",
    "The SC order parameter $ \\Delta^\\dagger$ is defined as follows:\n",
    "\n",
    "\\begin{align} \\Delta^\\dagger & = \\frac{-i}{2} c^\\dagger \\sigma^y d^\\dagger \\\\\n",
    "        & = \\frac{-i}{2} \\begin{pmatrix}\n",
    "  c^\\dagger_\\uparrow & c^\\dagger_\\downarrow \n",
    "\\end{pmatrix} \\begin{pmatrix}\n",
    "\t0 & i \\\\ \n",
    "   -i & 0\n",
    "\\end{pmatrix} \\begin{pmatrix}\n",
    "\td^\\dagger_\\uparrow \\\\\n",
    "\td^\\dagger_\\downarrow\n",
    "\\end{pmatrix} \\\\\n",
    "        & = \\frac{1}{2}( c^\\dagger_\\uparrow d^\\dagger_\\downarrow - c^\\dagger_\\downarrow d^\\dagger_\\uparrow )\n",
    "\\end{align}\n",
    "\n",
    "where, in the second line we have shown the components of the ladder operators explicitly. The action of the Gap operator $ \\Delta^\\dagger $ can be seen by writing down the state created by acting on the vacuum:\n",
    "\n",
    "$$ \\Delta^\\dagger \\fullket{vac} = \\frac{1}{2} \\left( \\fullket{\\uparrow}_c \\fullket{\\downarrow}_d - \\fullket{\\downarrow}_c \\fullket{\\uparrow}_d \\right )  $$\n",
    "\n",
    "The resulting state is nothing more than an entangled Bell pair state!\n",
    "\n",
    "The two SC order parameters, which constitute the remaining two components of the $SO(5)$ superspin, are:\n",
    "\n",
    "$$ n_1 \\equiv \\frac{\\left( \\Delta^\\dagger + \\Delta \\right) }{2} \\quad \\text{and} \\quad n_2 \\equiv \\frac{\\left( \\Delta^\\dagger - \\Delta \\right) }{2i} $$"
   ]
  },
  {
   "cell_type": "markdown",
   "metadata": {},
   "source": [
    "#### Neel Vector (AF Order Parameter)\n",
    "\n",
    "Three components of the 5D vector that we will eventually identify with \"superspin\", are the components of the Neel vector:\n",
    "\n",
    "$$ n_2 \\equiv N^x; \\quad n_3 \\equiv N^y; \\quad n_4 \\equiv N^z $$\n",
    "\n",
    "Again writing out the Pauli matrices explicitly, we find:\n",
    "\n",
    "\\begin{align}\n",
    "    n_2 = \\frac{1}{2} \\left( c^\\dagger \\sigma^x c - d^\\dagger \\sigma^x d \\right)\n",
    "        & = \\frac{1}{2} ( c^\\dagger_\\uparrow c_\\downarrow + c^\\dagger_\\downarrow c_\\uparrow - d^\\dagger_\\uparrow d_\\downarrow - d^\\dagger_\\downarrow d_\\uparrow) \\\\\n",
    "    n_3 = \\frac{1}{2} \\left( c^\\dagger \\sigma^y c - d^\\dagger \\sigma^y d \\right) & = \\frac{i}{2} ( c^\\dagger_\\uparrow c_\\downarrow - c^\\dagger_\\downarrow c_\\uparrow - d^\\dagger_\\uparrow d_\\downarrow + d^\\dagger_\\downarrow d_\\uparrow) \\\\\n",
    "    n_4 = \\frac{1}{2} \\left( c^\\dagger \\sigma^z c - d^\\dagger \\sigma^z d \\right) & = \\frac{1}{2} ( c^\\dagger_\\uparrow c_\\uparrow + c^\\dagger_\\downarrow c_\\downarrow - d^\\dagger_\\uparrow d_\\uparrow - d^\\dagger_\\downarrow d_\\downarrow)\n",
    "\\end{align}"
   ]
  },
  {
   "cell_type": "markdown",
   "metadata": {},
   "source": [
    "  ### $SO(5)$ Symmetry Generators"
   ]
  },
  {
   "cell_type": "markdown",
   "metadata": {},
   "source": [
    "#### Spin/Rotation Generators\n",
    "\n",
    "The components of the total spin of the AF phase correspond to the generators of spatial rotations in the BH background. In terms of ladder operators these are given by:\n",
    "\n",
    "\\begin{align}\n",
    "    S_x = \\frac{1}{2} \\left( c^\\dagger \\sigma^x c + d^\\dagger \\sigma^x d \\right)\n",
    "        & = \\frac{1}{2} ( c^\\dagger_\\uparrow c_\\downarrow + c^\\dagger_\\downarrow c_\\uparrow + d^\\dagger_\\uparrow d_\\downarrow + d^\\dagger_\\downarrow d_\\uparrow) \\\\\n",
    "    S_y = \\frac{1}{2} \\left( c^\\dagger \\sigma^y c + d^\\dagger \\sigma^y d \\right) & = \\frac{i}{2} ( c^\\dagger_\\uparrow c_\\downarrow - c^\\dagger_\\downarrow c_\\uparrow + d^\\dagger_\\uparrow d_\\downarrow - d^\\dagger_\\downarrow d_\\uparrow) \\\\\n",
    "    S_z = \\frac{1}{2} \\left( c^\\dagger \\sigma^z c + d^\\dagger \\sigma^z d \\right) & = \\frac{1}{2} ( c^\\dagger_\\uparrow c_\\uparrow + c^\\dagger_\\downarrow c_\\downarrow + d^\\dagger_\\uparrow d_\\uparrow + d^\\dagger_\\downarrow d_\\downarrow)\n",
    "\\end{align}"
   ]
  },
  {
   "cell_type": "markdown",
   "metadata": {},
   "source": [
    "#### Generator for Charge/Time Evolution\n",
    "\n",
    "The operator of the total charge of the SC phase, corresponds to the generator of time-translation symmetry in the black hole background. In terms of ladder operators it is given by:\n",
    "\n",
    "$$ Q = \\frac{1}{2}(c^\\dagger c + d^\\dagger d - 2) $$"
   ]
  },
  {
   "cell_type": "markdown",
   "metadata": {},
   "source": [
    "#### Generators for $\\pi$ modes\n",
    "\n",
    "The $\\pi$ operators - which generate transformations between the two phases SC $\\leftrightarrow$ AF - are given by:\n",
    "\n",
    "$$ \\pi^\\dagger_\\alpha = -\\frac{1}{2} c^\\dagger \\sigma^\\alpha \\sigma^y d^\\dagger $$\n",
    "\n",
    "Their action can be computed by finding their commutators with the SC And AF operators:\n",
    "\n",
    "$$ \\left[ \\pi^\\dagger_\\alpha, N_\\beta \\right] = i \\delta_{\\alpha\\beta} \\Delta^\\dagger ; \\qquad \\left[ \\pi^\\dagger_\\alpha, \\Delta \\right] = i N_\\alpha $$"
   ]
  },
  {
   "cell_type": "markdown",
   "metadata": {},
   "source": [
    "## Lorentz Lie Algebra\n",
    "\n",
    "Reference: [Rep Theory of Lorentz Group](https://en.wikipedia.org/wiki/Representation_theory_of_the_Lorentz_group#The_Lie_algebra)"
   ]
  },
  {
   "cell_type": "markdown",
   "metadata": {},
   "source": [
    "### Generators\n",
    "\n",
    "The generators of the Lorentz Lie Algebra $\\mf{so}(3,1)$ can be written as elements $J_{IJ}$ of a $4 \\times 4$ antisymmetric matrix $\\mb{J}$:\n",
    "\n",
    "\\begin{align}\n",
    "    \\mb{J} = \\begin{pmatrix}\n",
    "                0 & K_1 & K_2  & K_3 \\\\ \n",
    "                -K_1 & 0 & J_3 & -J_2 \\\\ \n",
    "                -K_2 & -J_3 & 0 & J_1 \\\\ \n",
    "                -K_3 & J_2 & -J_1 & 0\n",
    "             \\end{pmatrix} \n",
    "\\end{align}\n",
    "\n",
    "where $\\{K_i, J_i\\}$ are the generators of boosts and rotations along the $i^\\text{th}$ spatial direction. In matrix notation these elements are:\n",
    "$$ K_i = J_{0i}; \\qquad J_k = \\epsilon_{kij} J_{ij} $$\n",
    "\n",
    "where $i,j \\in 1,2,3$\n",
    "\n",
    "### Commutation Relations\n",
    "\n",
    "The matrix elements $J_{ij}$ satisfy the commutation relations:\n",
    "\n",
    "\\begin{align}\n",
    "    \\left[ J_{\\mu\\nu}, J_{\\alpha\\beta} \\right] = i \\left( \\eta_{\\mu\\beta} J_{\\nu\\alpha} + \\eta_{\\nu\\alpha} J_{\\mu\\beta} - \\eta_{\\mu\\alpha} J_{\\nu\\beta} - \\eta_{\\nu\\beta}J_{\\mu\\alpha} \\right)\n",
    "\\end{align}\n",
    "\n",
    "There is an easy way to remember the ordering of indices on the \\textit{rhs}. Think of the \\textit{lhs} as a tensorial operators with 4-indices:\n",
    "$$ \\left[ J_{\\mu\\nu}, J_{\\alpha\\beta} \\right] \\equiv \\mb{J}_{\\mu\\nu\\alpha\\beta} $$\n",
    "Now we perform a Wick contraction on pairs of indices. There are only two possibilities: contract the pairs $\\mu\\beta, \\nu\\alpha$ or the pairs $\\mu\\alpha, \\nu\\beta$. The second contraction will gain a minus sign according to the rules of Wick contraction. Then the expression on the \\textit{rhs} of the previous equation can be understood as consisting of these two terms, symmetrized over each couple in the two pairs of indices.\n",
    "\n",
    "In terms of the boost and rotation generators these relations are:\n",
    "\n",
    "\\begin{align}\n",
    "    \\left[ J_i, J_j \\right] = i\\epsilon_{ijk} J_k \\qquad \\left[ J_i, K_j \\right] = i \\epsilon_{ijk} K_k \\qquad \\left[ K_i, K_j \\right] = -i \\epsilon_{ijk} J_k\n",
    "\\end{align}"
   ]
  },
  {
   "cell_type": "markdown",
   "metadata": {},
   "source": []
  },
  {
   "cell_type": "code",
   "execution_count": null,
   "metadata": {
    "collapsed": true
   },
   "outputs": [],
   "source": []
  }
 ],
 "metadata": {
  "kernelspec": {
   "display_name": "Python 3",
   "language": "python",
   "name": "python3"
  },
  "language_info": {
   "codemirror_mode": {
    "name": "ipython",
    "version": 3
   },
   "file_extension": ".py",
   "mimetype": "text/x-python",
   "name": "python",
   "nbconvert_exporter": "python",
   "pygments_lexer": "ipython3",
   "version": "3.5.1"
  },
  "latex_envs": {
   "bibliofile": "biblio.bib",
   "cite_by": "apalike",
   "current_citInitial": 1,
   "eqLabelWithNumbers": true,
   "eqNumInitial": 0
  }
 },
 "nbformat": 4,
 "nbformat_minor": 0
}
