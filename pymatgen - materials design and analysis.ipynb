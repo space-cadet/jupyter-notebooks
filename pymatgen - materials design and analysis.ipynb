{
 "cells": [
  {
   "cell_type": "markdown",
   "metadata": {},
   "source": [
    "# Materials Analysis With Pymatgen"
   ]
  },
  {
   "cell_type": "code",
   "execution_count": 1,
   "metadata": {
    "collapsed": true
   },
   "outputs": [],
   "source": [
    "import pymatgen as pmg"
   ]
  },
  {
   "cell_type": "markdown",
   "metadata": {},
   "source": [
    "## Elements"
   ]
  },
  {
   "cell_type": "code",
   "execution_count": 4,
   "metadata": {
    "collapsed": true
   },
   "outputs": [],
   "source": [
    "si = pmg.Element(\"Si\")"
   ]
  },
  {
   "cell_type": "code",
   "execution_count": 5,
   "metadata": {},
   "outputs": [
    {
     "data": {
      "text/plain": [
       "{4: 0.54}"
      ]
     },
     "execution_count": 5,
     "metadata": {},
     "output_type": "execute_result"
    }
   ],
   "source": [
    "si.ionic_radii"
   ]
  },
  {
   "cell_type": "code",
   "execution_count": 6,
   "metadata": {},
   "outputs": [
    {
     "data": {
      "text/plain": [
       "4"
      ]
     },
     "execution_count": 6,
     "metadata": {},
     "output_type": "execute_result"
    }
   ],
   "source": [
    "si.max_oxidation_state"
   ]
  },
  {
   "cell_type": "markdown",
   "metadata": {},
   "source": [
    "## Compounds"
   ]
  },
  {
   "cell_type": "code",
   "execution_count": 7,
   "metadata": {
    "collapsed": true
   },
   "outputs": [],
   "source": [
    "comp = pmg.Composition(\"Fe2O3\")"
   ]
  },
  {
   "cell_type": "code",
   "execution_count": 9,
   "metadata": {},
   "outputs": [
    {
     "data": {
      "text/plain": [
       "159.6882"
      ]
     },
     "execution_count": 9,
     "metadata": {},
     "output_type": "execute_result"
    }
   ],
   "source": [
    "comp.weight"
   ]
  },
  {
   "cell_type": "code",
   "execution_count": 11,
   "metadata": {},
   "outputs": [
    {
     "data": {
      "text/plain": [
       "(2.0, 3.0)"
      ]
     },
     "execution_count": 11,
     "metadata": {},
     "output_type": "execute_result"
    }
   ],
   "source": [
    "comp[\"Fe\"], comp[\"O\"]"
   ]
  },
  {
   "cell_type": "markdown",
   "metadata": {},
   "source": [
    "## Lattices"
   ]
  },
  {
   "cell_type": "code",
   "execution_count": 14,
   "metadata": {
    "collapsed": true
   },
   "outputs": [],
   "source": [
    "lattice = pmg.Lattice.cubic(4.2)"
   ]
  },
  {
   "cell_type": "code",
   "execution_count": 15,
   "metadata": {},
   "outputs": [
    {
     "data": {
      "text/plain": [
       "[[array([ 0.74799825, -0.74799825, -0.74799825]),\n",
       "  array([ 0.74799825,  0.74799825, -0.74799825]),\n",
       "  array([ 0.74799825,  0.74799825,  0.74799825]),\n",
       "  array([ 0.74799825, -0.74799825,  0.74799825])],\n",
       " [array([-0.74799825, -0.74799825,  0.74799825]),\n",
       "  array([-0.74799825,  0.74799825,  0.74799825]),\n",
       "  array([ 0.74799825,  0.74799825,  0.74799825]),\n",
       "  array([ 0.74799825, -0.74799825,  0.74799825])],\n",
       " [array([-0.74799825,  0.74799825, -0.74799825]),\n",
       "  array([-0.74799825,  0.74799825,  0.74799825]),\n",
       "  array([ 0.74799825,  0.74799825,  0.74799825]),\n",
       "  array([ 0.74799825,  0.74799825, -0.74799825])],\n",
       " [array([-0.74799825, -0.74799825, -0.74799825]),\n",
       "  array([ 0.74799825, -0.74799825, -0.74799825]),\n",
       "  array([ 0.74799825, -0.74799825,  0.74799825]),\n",
       "  array([-0.74799825, -0.74799825,  0.74799825])],\n",
       " [array([-0.74799825, -0.74799825, -0.74799825]),\n",
       "  array([ 0.74799825, -0.74799825, -0.74799825]),\n",
       "  array([ 0.74799825,  0.74799825, -0.74799825]),\n",
       "  array([-0.74799825,  0.74799825, -0.74799825])],\n",
       " [array([-0.74799825, -0.74799825, -0.74799825]),\n",
       "  array([-0.74799825,  0.74799825, -0.74799825]),\n",
       "  array([-0.74799825,  0.74799825,  0.74799825]),\n",
       "  array([-0.74799825, -0.74799825,  0.74799825])]]"
      ]
     },
     "execution_count": 15,
     "metadata": {},
     "output_type": "execute_result"
    }
   ],
   "source": [
    "lattice.get_brillouin_zone()"
   ]
  },
  {
   "cell_type": "code",
   "execution_count": 16,
   "metadata": {},
   "outputs": [
    {
     "data": {
      "text/plain": [
       "[[array([ 2.1, -2.1, -2.1]),\n",
       "  array([ 2.1,  2.1, -2.1]),\n",
       "  array([ 2.1,  2.1,  2.1]),\n",
       "  array([ 2.1, -2.1,  2.1])],\n",
       " [array([-2.1, -2.1,  2.1]),\n",
       "  array([-2.1,  2.1,  2.1]),\n",
       "  array([ 2.1,  2.1,  2.1]),\n",
       "  array([ 2.1, -2.1,  2.1])],\n",
       " [array([-2.1,  2.1, -2.1]),\n",
       "  array([-2.1,  2.1,  2.1]),\n",
       "  array([ 2.1,  2.1,  2.1]),\n",
       "  array([ 2.1,  2.1, -2.1])],\n",
       " [array([-2.1, -2.1, -2.1]),\n",
       "  array([ 2.1, -2.1, -2.1]),\n",
       "  array([ 2.1, -2.1,  2.1]),\n",
       "  array([-2.1, -2.1,  2.1])],\n",
       " [array([-2.1, -2.1, -2.1]),\n",
       "  array([ 2.1, -2.1, -2.1]),\n",
       "  array([ 2.1,  2.1, -2.1]),\n",
       "  array([-2.1,  2.1, -2.1])],\n",
       " [array([-2.1, -2.1, -2.1]),\n",
       "  array([-2.1,  2.1, -2.1]),\n",
       "  array([-2.1,  2.1,  2.1]),\n",
       "  array([-2.1, -2.1,  2.1])]]"
      ]
     },
     "execution_count": 16,
     "metadata": {},
     "output_type": "execute_result"
    }
   ],
   "source": [
    "lattice.get_wigner_seitz_cell()"
   ]
  },
  {
   "cell_type": "code",
   "execution_count": 17,
   "metadata": {},
   "outputs": [
    {
     "data": {
      "text/plain": [
       "74.088000000000008"
      ]
     },
     "execution_count": 17,
     "metadata": {},
     "output_type": "execute_result"
    }
   ],
   "source": [
    "lattice.volume"
   ]
  },
  {
   "cell_type": "code",
   "execution_count": 19,
   "metadata": {
    "collapsed": true
   },
   "outputs": [],
   "source": [
    "struct = pmg.Structure(lattice,[\"Cs\",\"Cl\"],[[0,0,0],[0.5,0.5,0.5]])"
   ]
  },
  {
   "cell_type": "code",
   "execution_count": 21,
   "metadata": {},
   "outputs": [
    {
     "data": {
      "text/plain": [
       "Lattice\n",
       "    abc : 1.4959965017094252 1.4959965017094252 1.4959965017094252\n",
       " angles : 90.0 90.0 90.0\n",
       " volume : 3.3480484483640875\n",
       "      A : 1.4959965017094252 0.0 0.0\n",
       "      B : 0.0 1.4959965017094252 0.0\n",
       "      C : 0.0 0.0 1.4959965017094252"
      ]
     },
     "execution_count": 21,
     "metadata": {},
     "output_type": "execute_result"
    }
   ],
   "source": [
    "struct.reciprocal_lattice"
   ]
  },
  {
   "cell_type": "code",
   "execution_count": 23,
   "metadata": {},
   "outputs": [
    {
     "data": {
      "text/plain": [
       "74.088000000000008"
      ]
     },
     "execution_count": 23,
     "metadata": {},
     "output_type": "execute_result"
    }
   ],
   "source": [
    "struct.volume"
   ]
  },
  {
   "cell_type": "code",
   "execution_count": null,
   "metadata": {
    "collapsed": true
   },
   "outputs": [],
   "source": []
  }
 ],
 "metadata": {
  "kernelspec": {
   "display_name": "Python 3",
   "language": "python",
   "name": "python3"
  },
  "language_info": {
   "codemirror_mode": {
    "name": "ipython",
    "version": 3
   },
   "file_extension": ".py",
   "mimetype": "text/x-python",
   "name": "python",
   "nbconvert_exporter": "python",
   "pygments_lexer": "ipython3",
   "version": "3.5.3"
  },
  "latex_envs": {
   "bibliofile": "biblio.bib",
   "cite_by": "apalike",
   "current_citInitial": 1,
   "eqLabelWithNumbers": true,
   "eqNumInitial": 0
  }
 },
 "nbformat": 4,
 "nbformat_minor": 1
}
