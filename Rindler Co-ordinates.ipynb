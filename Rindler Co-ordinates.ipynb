{
 "cells": [
  {
   "cell_type": "markdown",
   "metadata": {},
   "source": [
    "Reference: [Rindler Co-ordinates](https://en.wikipedia.org/wiki/Rindler_coordinates)"
   ]
  },
  {
   "cell_type": "markdown",
   "metadata": {},
   "source": [
    "Given a Minkowski metric:\n",
    "\n",
    "$$ ds^2 = - dT^2 + dX^2 + dY^2 + dZ^2 $$\n",
    "\n",
    "The region $ 0 < X < \\infty, -X < T < X $ is known as the Rindler wedge. In this region we define a new set of co-ordinates $t,x,y,z$ which are related to the Minkowski co-ordinates the transform:\n",
    "$$ t = \\frac{1}{g} \\tanh^{-1} \\left(\\frac{T}{X}\\right); \\quad x = \\sqrt{X^2 - T^2}; \\quad y = Y; z = Z $$"
   ]
  },
  {
   "cell_type": "code",
   "execution_count": 1,
   "metadata": {
    "collapsed": true
   },
   "outputs": [],
   "source": [
    "import networkx as nx\n",
    "import numpy as np\n",
    "import matplotlib as mp\n",
    "import matplotlib.pyplot as plt"
   ]
  },
  {
   "cell_type": "code",
   "execution_count": 2,
   "metadata": {
    "collapsed": true
   },
   "outputs": [],
   "source": [
    "%matplotlib inline"
   ]
  },
  {
   "cell_type": "code",
   "execution_count": 32,
   "metadata": {
    "collapsed": false
   },
   "outputs": [],
   "source": [
    "def t_func(T,X,g=1):\n",
    "    if X <= 0 or abs(T) >= X:\n",
    "        raise ValueError(\"T, X should satisfy:\" + \"0 < X < \\infty, -X < T < X\")\n",
    "    if g <= 0:\n",
    "        raise ValueError(\"g must be positive definite\")\n",
    "    return np.arctanh(T/X)/g\n",
    "\n",
    "def T_func(t,x,g=1):\n",
    "    if x <= 0:\n",
    "        raise ValueError(\"x should satisfy:\" + \"0 < X\")\n",
    "    if g <= 0:\n",
    "        raise ValueError(\"g must be positive definite\")\n",
    "    return x*np.sinh(g*t)"
   ]
  },
  {
   "cell_type": "code",
   "execution_count": 33,
   "metadata": {
    "collapsed": true
   },
   "outputs": [],
   "source": [
    "def x_func(T,X):\n",
    "    if X <= 0 or abs(T) >= X:\n",
    "        raise ValueError(\"T, X should satisfy:\" + \"0 < X < \\infty, -X < T < X\")\n",
    "    return np.sqrt(X**2 - T**2)\n",
    "\n",
    "def X_func(t,x,g=1):\n",
    "    if x <= 0:\n",
    "        raise ValueError(\"x should satisfy:\" + \"0 < X\")\n",
    "    if g <= 0:\n",
    "        raise ValueError(\"g must be positive definite\")\n",
    "    return x*np.cosh(g*t)"
   ]
  },
  {
   "cell_type": "code",
   "execution_count": 28,
   "metadata": {
    "collapsed": false
   },
   "outputs": [
    {
     "data": {
      "text/plain": [
       "(1.5222612188617113, 0.45825756949558422)"
      ]
     },
     "execution_count": 28,
     "metadata": {},
     "output_type": "execute_result"
    }
   ],
   "source": [
    "t_func(1,1.1), x_func(1,1.1)"
   ]
  },
  {
   "cell_type": "code",
   "execution_count": 35,
   "metadata": {
    "collapsed": false
   },
   "outputs": [
    {
     "data": {
      "text/plain": [
       "(1.1752011936438014, 1.5430806348152437)"
      ]
     },
     "execution_count": 35,
     "metadata": {},
     "output_type": "execute_result"
    }
   ],
   "source": [
    "T_func(1,1), X_func(1,1)"
   ]
  },
  {
   "cell_type": "code",
   "execution_count": 53,
   "metadata": {
    "collapsed": false
   },
   "outputs": [],
   "source": [
    "x_vals = np.linspace(0.01,1,5)\n",
    "t_vals = np.linspace(-2,2,5)"
   ]
  },
  {
   "cell_type": "code",
   "execution_count": 54,
   "metadata": {
    "collapsed": false
   },
   "outputs": [
    {
     "data": {
      "text/plain": [
       "(array([ 0.01  ,  0.2575,  0.505 ,  0.7525,  1.    ]),\n",
       " array([-2., -1.,  0.,  1.,  2.]))"
      ]
     },
     "execution_count": 54,
     "metadata": {},
     "output_type": "execute_result"
    }
   ],
   "source": [
    "x_vals, t_vals"
   ]
  },
  {
   "cell_type": "code",
   "execution_count": 55,
   "metadata": {
    "collapsed": false
   },
   "outputs": [
    {
     "data": {
      "text/plain": [
       "[0.037621956910836314,\n",
       " 0.96876539045403509,\n",
       " 1.8999088239972339,\n",
       " 2.8310522575404322,\n",
       " 3.7621956910836314,\n",
       " 0.015430806348152437,\n",
       " 0.39734326346492527,\n",
       " 0.77925572058169812,\n",
       " 1.1611681776984708,\n",
       " 1.5430806348152437,\n",
       " 0.01,\n",
       " 0.25750000000000001,\n",
       " 0.505,\n",
       " 0.75249999999999995,\n",
       " 1.0,\n",
       " 0.015430806348152437,\n",
       " 0.39734326346492527,\n",
       " 0.77925572058169812,\n",
       " 1.1611681776984708,\n",
       " 1.5430806348152437,\n",
       " 0.037621956910836314,\n",
       " 0.96876539045403509,\n",
       " 1.8999088239972339,\n",
       " 2.8310522575404322,\n",
       " 3.7621956910836314]"
      ]
     },
     "execution_count": 55,
     "metadata": {},
     "output_type": "execute_result"
    }
   ],
   "source": [
    "[X_func(t,x) for t in t_vals for x in x_vals]"
   ]
  },
  {
   "cell_type": "code",
   "execution_count": null,
   "metadata": {
    "collapsed": true
   },
   "outputs": [],
   "source": []
  }
 ],
 "metadata": {
  "kernelspec": {
   "display_name": "Python 3",
   "language": "python",
   "name": "python3"
  },
  "language_info": {
   "codemirror_mode": {
    "name": "ipython",
    "version": 3
   },
   "file_extension": ".py",
   "mimetype": "text/x-python",
   "name": "python",
   "nbconvert_exporter": "python",
   "pygments_lexer": "ipython3",
   "version": "3.5.1"
  },
  "latex_envs": {
   "bibliofile": "biblio.bib",
   "cite_by": "apalike",
   "current_citInitial": 1,
   "eqLabelWithNumbers": true,
   "eqNumInitial": 0
  }
 },
 "nbformat": 4,
 "nbformat_minor": 0
}
