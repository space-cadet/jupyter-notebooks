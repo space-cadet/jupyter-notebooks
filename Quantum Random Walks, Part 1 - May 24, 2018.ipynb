{
 "cells": [
  {
   "cell_type": "markdown",
   "metadata": {
    "toc": true
   },
   "source": [
    "<h1>Table of Contents<span class=\"tocSkip\"></span></h1>\n",
    "<div class=\"toc\"><ul class=\"toc-item\"><li><span><a href=\"#Mathjax-custom-macros\" data-toc-modified-id=\"Mathjax-custom-macros-1\"><span class=\"toc-item-num\">1&nbsp;&nbsp;</span>Mathjax custom macros</a></span></li><li><span><a href=\"#Quantum-Random-Walks\" data-toc-modified-id=\"Quantum-Random-Walks-2\"><span class=\"toc-item-num\">2&nbsp;&nbsp;</span>Quantum Random Walks</a></span><ul class=\"toc-item\"><li><span><a href=\"#Triviality-of-Unitary-Random-Walk\" data-toc-modified-id=\"Triviality-of-Unitary-Random-Walk-2.1\"><span class=\"toc-item-num\">2.1&nbsp;&nbsp;</span>Triviality of Unitary Random Walk</a></span></li><li><span><a href=\"#&quot;Coin&quot;-States-for-Non-Trivial-Walks\" data-toc-modified-id=\"&quot;Coin&quot;-States-for-Non-Trivial-Walks-2.2\"><span class=\"toc-item-num\">2.2&nbsp;&nbsp;</span>\"Coin\" States for Non-Trivial Walks</a></span></li><li><span><a href=\"#Random-Walker-State-Space\" data-toc-modified-id=\"Random-Walker-State-Space-2.3\"><span class=\"toc-item-num\">2.3&nbsp;&nbsp;</span>Random Walker State Space</a></span></li><li><span><a href=\"#Coin-State-Space\" data-toc-modified-id=\"Coin-State-Space-2.4\"><span class=\"toc-item-num\">2.4&nbsp;&nbsp;</span>Coin State Space</a></span></li></ul></li><li><span><a href=\"#References\" data-toc-modified-id=\"References-3\"><span class=\"toc-item-num\">3&nbsp;&nbsp;</span>References</a></span></li></ul></div>"
   ]
  },
  {
   "cell_type": "markdown",
   "metadata": {},
   "source": [
    "# Mathjax custom macros\n",
    "\n",
    "$ \\newcommand{\\opexpect}[3]{\\langle #1 \\vert #2 \\vert #3 \\rangle} $\n",
    "$ \\newcommand{\\rarrow}{\\rightarrow} $\n",
    "$ \\newcommand{\\bra}{\\langle} $\n",
    "$ \\newcommand{\\ket}{\\rangle} $\n",
    "\n",
    "$ \\newcommand{\\up}{\\uparrow} $\n",
    "$ \\newcommand{\\down}{\\downarrow} $\n",
    "\n",
    "$ \\newcommand{\\mb}[1]{\\mathbf{#1}} $\n",
    "$ \\newcommand{\\mc}[1]{\\mathcal{#1}} $\n",
    "$ \\newcommand{\\mbb}[1]{\\mathbb{#1}} $\n",
    "$ \\newcommand{\\mf}[1]{\\mathfrak{#1}} $\n",
    "\n",
    "$ \\newcommand{\\vect}[1]{\\boldsymbol{\\mathrm{#1}}} $\n",
    "$ \\newcommand{\\expect}[1]{\\langle #1\\rangle} $\n",
    "\n",
    "$ \\newcommand{\\innerp}[2]{\\langle #1 \\vert #2 \\rangle} $\n",
    "$ \\newcommand{\\bra}[1]{\\langle #1 \\vert} $\n",
    "$ \\newcommand{\\ket}[1]{\\vert #1 \\rangle} $\n",
    "$ \\newcommand{\\supersc}[1]{^{\\text{#1}}} $\n",
    "$ \\newcommand{\\subsc}[1]{_{\\text{#1}}} $\n",
    "$ \\newcommand{\\sltwoc}{SL(2,\\mathbb{C})} $\n",
    "$ \\newcommand{\\sltwoz}{SL(2,\\mathbb{Z})} $\n",
    "\n",
    "$ \\newcommand{\\utilde}[1]{\\underset{\\sim}{#1}} $"
   ]
  },
  {
   "cell_type": "markdown",
   "metadata": {},
   "source": [
    "# Quantum Random Walks"
   ]
  },
  {
   "cell_type": "markdown",
   "metadata": {},
   "source": [
    "## Triviality of Unitary Random Walk\n",
    "\n",
    "Reference: [Ambainis, Quantum Walks and their Algorithmic Applications](https://arxiv.org/abs/quant-ph/0403120v3)\n",
    "\n",
    "In the simple 1D classical random walk, at each time step the walker moves either to left or to the right, depending on the result of a coin toss. The quantum analog of this would be a process where the n^{th} site on the lattice is identified with a basis state $\\ket{n}$ and at each time step, the state would evolve under a unitary transformation as:\n",
    "$$ \\ket{n} \\rightarrow a \\ket{n-1} + b \\ket{n} + c\\ket{n+1} $$\n",
    "\n",
    "However, as shown by \\cite{Meyer1996From}, the above transformation is unitary iff one of the coefficients is equal to $\\pm 1$ and other two are equal to zero. In other words **any** unitary transformation corresponding to the above process is necessarily trivial."
   ]
  },
  {
   "cell_type": "markdown",
   "metadata": {},
   "source": [
    "## \"Coin\" States for Non-Trivial Walks\n",
    "\n",
    "In order to be able to generate a non-trivial quantum random walk the introduction of an extra \"spin\" degree of freedom at each lattice site is required. Each basis state is therefore enlarged from a single spin $1/2$ Hilbert space (the two allowed states corresponding to whether the site is empty or occupied) to a two spin state:\n",
    "$$ \\ket{n} \\rightarrow \\{ \\ket{n,0}, \\ket{n,1}\\} $$"
   ]
  },
  {
   "cell_type": "markdown",
   "metadata": {},
   "source": [
    "## Random Walker State Space\n",
    "\n",
    "Formally speaking the walker is represented by a state in a Hilbert space $\\mc{H_p}$, which has a *canonical* or *computational* basis given by a set of vectors $\\{\\ket{n}\\}$, where $n = 0 \\ldots (N-1)$. These basis states are the *position* eigenstates. A general state of the walker is given by:\n",
    "$$ \\ket{\\Psi} = \\sum_0^{N-1} a_n \\ket{n} $$\n",
    "A state with all coefficients $a_n = 0$, except for $n=i$, corresponds to a walker localized at the $i^{\\text{th}}$ site.\n",
    "\n",
    "## Coin State Space\n",
    "\n",
    "The *coin* is described by a single spin Hilbert space $\\mc{H_c}$, with basis states $ \\ket{0}, \\ket{1} $.\n",
    "\n",
    "The state space for the random walker is then given by:\n",
    "$$ \\mc{H_{walk}} = \\mc{H_c} \\otimes \\mc{H_p} $$\n",
    "and a general state of the walker is given by:\n",
    "$$ \\ket{\\Psi} = \\sum_0^{N-1} a_{n\\sigma} \\ket{n,\\sigma} $$"
   ]
  },
  {
   "cell_type": "markdown",
   "metadata": {},
   "source": []
  },
  {
   "cell_type": "markdown",
   "metadata": {},
   "source": [
    "# References\n",
    "\n",
    "<mark> <b>The bib file biblio.bib was not found\n",
    "\n",
    "</b> </mark>(<a id=\"cit-Meyer1996From\" href=\"#call-Meyer1996From\">?</a>) !! _This reference was not found in biblio.bib _ !!\n",
    "\n"
   ]
  }
 ],
 "metadata": {
  "kernel_info": {
   "name": "python3"
  },
  "kernelspec": {
   "display_name": "Python 3",
   "language": "python",
   "name": "python3"
  },
  "language_info": {
   "codemirror_mode": {
    "name": "ipython",
    "version": 3
   },
   "file_extension": ".py",
   "mimetype": "text/x-python",
   "name": "python",
   "nbconvert_exporter": "python",
   "pygments_lexer": "ipython3",
   "version": "3.6.5"
  },
  "latex_envs": {
   "LaTeX_envs_menu_present": true,
   "autoclose": true,
   "autocomplete": true,
   "bibliofile": "biblio.bib",
   "cite_by": "apalike",
   "current_citInitial": 1,
   "eqLabelWithNumbers": true,
   "eqNumInitial": 0,
   "hotkeys": {
    "equation": "Ctrl-E",
    "itemize": "Ctrl-I"
   },
   "labels_anchors": false,
   "latex_user_defs": false,
   "report_style_numbering": true,
   "user_envs_cfg": false
  },
  "nteract": {
   "version": "0.8.4"
  },
  "toc": {
   "base_numbering": 1,
   "nav_menu": {},
   "number_sections": true,
   "sideBar": false,
   "skip_h1_title": false,
   "title_cell": "Table of Contents",
   "title_sidebar": "Contents",
   "toc_cell": true,
   "toc_position": {
    "height": "231px",
    "left": "884px",
    "top": "211.567px",
    "width": "230px"
   },
   "toc_section_display": true,
   "toc_window_display": true
  },
  "varInspector": {
   "cols": {
    "lenName": 16,
    "lenType": 16,
    "lenVar": 40
   },
   "kernels_config": {
    "python": {
     "delete_cmd_postfix": "",
     "delete_cmd_prefix": "del ",
     "library": "var_list.py",
     "varRefreshCmd": "print(var_dic_list())"
    },
    "r": {
     "delete_cmd_postfix": ") ",
     "delete_cmd_prefix": "rm(",
     "library": "var_list.r",
     "varRefreshCmd": "cat(var_dic_list()) "
    }
   },
   "types_to_exclude": [
    "module",
    "function",
    "builtin_function_or_method",
    "instance",
    "_Feature"
   ],
   "window_display": false
  }
 },
 "nbformat": 4,
 "nbformat_minor": 2
}
