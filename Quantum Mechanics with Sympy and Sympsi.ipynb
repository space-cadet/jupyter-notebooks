{
 "cells": [
  {
   "cell_type": "markdown",
   "metadata": {
    "toc": true
   },
   "source": [
    "<h1>Table of Contents<span class=\"tocSkip\"></span></h1>\n",
    "<div class=\"toc\" style=\"margin-top: 1em;\"><ul class=\"toc-item\"><li><span><a href=\"#Quantum-Mechanics-with-Sympy-and-Sympsi-('Sym'-+-'Psi')\" data-toc-modified-id=\"Quantum-Mechanics-with-Sympy-and-Sympsi-('Sym'-+-'Psi')-1\"><span class=\"toc-item-num\">1&nbsp;&nbsp;</span>Quantum Mechanics with Sympy and Sympsi ('Sym' + 'Psi')</a></span></li><li><span><a href=\"#Using-Sympy-and-QuTiP-together\" data-toc-modified-id=\"Using-Sympy-and-QuTiP-together-2\"><span class=\"toc-item-num\">2&nbsp;&nbsp;</span>Using Sympy and QuTiP together</a></span></li><li><span><a href=\"#Discrete-Fourier-Transform-(DFT)\" data-toc-modified-id=\"Discrete-Fourier-Transform-(DFT)-3\"><span class=\"toc-item-num\">3&nbsp;&nbsp;</span>Discrete Fourier Transform (DFT)</a></span><ul class=\"toc-item\"><li><span><a href=\"#Prelude-to-the-Quantum-Fourier-Transform-(DFT)\" data-toc-modified-id=\"Prelude-to-the-Quantum-Fourier-Transform-(DFT)-3.1\"><span class=\"toc-item-num\">3.1&nbsp;&nbsp;</span>Prelude to the Quantum Fourier Transform (DFT)</a></span></li></ul></li></ul></div>"
   ]
  },
  {
   "cell_type": "markdown",
   "metadata": {},
   "source": [
    "# Quantum Mechanics with Sympy and Sympsi ('Sym' + 'Psi')\n",
    "\n",
    "Reference: [Sympsi](http://github.com/jrjohansson/sympy-quantum-notebooks)"
   ]
  },
  {
   "cell_type": "code",
   "execution_count": 1,
   "metadata": {},
   "outputs": [
    {
     "ename": "ModuleNotFoundError",
     "evalue": "No module named 'sympsi'",
     "output_type": "error",
     "traceback": [
      "\u001b[0;31m---------------------------------------------------------------------------\u001b[0m",
      "\u001b[0;31mModuleNotFoundError\u001b[0m                       Traceback (most recent call last)",
      "\u001b[0;32m<ipython-input-1-87cb15757c78>\u001b[0m in \u001b[0;36m<module>\u001b[0;34m()\u001b[0m\n\u001b[1;32m      1\u001b[0m \u001b[0;32mfrom\u001b[0m \u001b[0msympy\u001b[0m \u001b[0;32mimport\u001b[0m \u001b[0;34m*\u001b[0m\u001b[0;34m\u001b[0m\u001b[0m\n\u001b[1;32m      2\u001b[0m \u001b[0;32mfrom\u001b[0m \u001b[0msympy\u001b[0m \u001b[0;32mimport\u001b[0m \u001b[0mabc\u001b[0m\u001b[0;34m\u001b[0m\u001b[0m\n\u001b[0;32m----> 3\u001b[0;31m \u001b[0;32mimport\u001b[0m \u001b[0msympsi\u001b[0m \u001b[0;32mas\u001b[0m \u001b[0mPsi\u001b[0m\u001b[0;34m\u001b[0m\u001b[0m\n\u001b[0m\u001b[1;32m      4\u001b[0m \u001b[0;32mfrom\u001b[0m \u001b[0msympsi\u001b[0m\u001b[0;34m.\u001b[0m\u001b[0mpauli\u001b[0m \u001b[0;32mimport\u001b[0m \u001b[0;34m*\u001b[0m\u001b[0;34m\u001b[0m\u001b[0m\n\u001b[1;32m      5\u001b[0m \u001b[0;32mimport\u001b[0m \u001b[0minspect\u001b[0m\u001b[0;34m\u001b[0m\u001b[0m\n",
      "\u001b[0;31mModuleNotFoundError\u001b[0m: No module named 'sympsi'"
     ]
    }
   ],
   "source": [
    "from sympy import *\n",
    "from sympy import abc\n",
    "import sympsi as Psi\n",
    "from sympsi.pauli import *\n",
    "import inspect"
   ]
  },
  {
   "cell_type": "code",
   "execution_count": 3,
   "metadata": {},
   "outputs": [],
   "source": [
    "import sympy as sp\n",
    "from sympy.physics.quantum import *\n",
    "from sympy.physics.quantum.qubit import *\n",
    "from sympy.physics.quantum.gate import *\n",
    "from sympy.physics.quantum.circuitplot import *\n",
    "\n",
    "from qutip import *\n",
    "from qutip.qip.circuit import *\n",
    "\n"
   ]
  },
  {
   "cell_type": "code",
   "execution_count": 4,
   "metadata": {},
   "outputs": [],
   "source": [
    "%matplotlib inline"
   ]
  },
  {
   "cell_type": "markdown",
   "metadata": {},
   "source": [
    "# Using Sympy and QuTiP together\n",
    "\n",
    "The powerful symbolic computation facilites in Sympy have no parallel in QuTiP. QuTiP, while powerful in its own right, is insufficient when it comes to doing symbolic computations.\n",
    "\n",
    "On the other hand, QuTiP has a powerful module for plotting quantum circuits. This module takes qutip.Qobj types as input. In order to be able to plot the output of a sympy calculation in a quantum circuit, we can use the tolist() method of sympy matrices and arrays, to convert these objects into nested lists, which can then be passed to Qobj() to return a qutip.Qobj object.\n",
    "\n",
    "...\n",
    "\n",
    "I was wrong. Sympy's circuit plot module also works perfectly. You just have to remember to use %matplotlib inline before you begin!"
   ]
  },
  {
   "cell_type": "code",
   "execution_count": 5,
   "metadata": {},
   "outputs": [],
   "source": [
    "# In the following, the argument use_latex='mathjax' setting is essential to prevent\n",
    "# problems with displaying latex-ed sympy matrices in an ipython notebook\n",
    "\n",
    "init_printing(use_latex='mathjax')"
   ]
  },
  {
   "cell_type": "code",
   "execution_count": 6,
   "metadata": {},
   "outputs": [],
   "source": [
    "theta, t = symbols('theta,t')"
   ]
  },
  {
   "cell_type": "code",
   "execution_count": 7,
   "metadata": {},
   "outputs": [
    {
     "data": {
      "text/plain": [
       "True"
      ]
     },
     "execution_count": 7,
     "metadata": {},
     "output_type": "execute_result"
    }
   ],
   "source": [
    "hasattr(theta,'__call__')"
   ]
  },
  {
   "cell_type": "code",
   "execution_count": 8,
   "metadata": {},
   "outputs": [
    {
     "data": {
      "text/plain": [
       "sympy.core.assumptions.ManagedProperties"
      ]
     },
     "execution_count": 8,
     "metadata": {},
     "output_type": "execute_result"
    }
   ],
   "source": [
    "type(Symbol)"
   ]
  },
  {
   "cell_type": "code",
   "execution_count": 9,
   "metadata": {},
   "outputs": [],
   "source": [
    "x, y = var('x, y')"
   ]
  },
  {
   "cell_type": "code",
   "execution_count": 10,
   "metadata": {},
   "outputs": [
    {
     "data": {
      "text/latex": [
       "$$\\frac{1}{x} \\left(x^{2} + y^{2}\\right)$$"
      ],
      "text/plain": [
       " 2    2\n",
       "x  + y \n",
       "───────\n",
       "   x   "
      ]
     },
     "execution_count": 10,
     "metadata": {},
     "output_type": "execute_result"
    }
   ],
   "source": [
    "varExpr = (x**2 + y**2)/x\n",
    "varExpr"
   ]
  },
  {
   "cell_type": "code",
   "execution_count": 11,
   "metadata": {},
   "outputs": [
    {
     "data": {
      "text/latex": [
       "$$2 - \\frac{1}{x^{2}} \\left(x^{2} + y^{2}\\right)$$"
      ],
      "text/plain": [
       "     2    2\n",
       "    x  + y \n",
       "2 - ───────\n",
       "        2  \n",
       "       x   "
      ]
     },
     "execution_count": 11,
     "metadata": {},
     "output_type": "execute_result"
    }
   ],
   "source": [
    "varDeriv = diff(varExpr,x)\n",
    "varDeriv"
   ]
  },
  {
   "cell_type": "code",
   "execution_count": 12,
   "metadata": {},
   "outputs": [
    {
     "data": {
      "text/latex": [
       "$$x y + \\frac{y^{3}}{3 x}$$"
      ],
      "text/plain": [
       "        3\n",
       "       y \n",
       "x⋅y + ───\n",
       "      3⋅x"
      ]
     },
     "execution_count": 12,
     "metadata": {},
     "output_type": "execute_result"
    }
   ],
   "source": [
    "integrate(varExpr,y)"
   ]
  },
  {
   "cell_type": "code",
   "execution_count": 13,
   "metadata": {},
   "outputs": [
    {
     "data": {
      "text/latex": [
       "$$\\frac{\\sqrt{2}}{2} \\left({\\left|\\phi\\right\\rangle } + {\\left|\\psi\\right\\rangle }\\right)$$"
      ],
      "text/plain": [
       "√2⋅(❘φ⟩ + ❘ψ⟩)\n",
       "──────────────\n",
       "      2       "
      ]
     },
     "execution_count": 13,
     "metadata": {},
     "output_type": "execute_result"
    }
   ],
   "source": [
    "varSuperPos = (Ket('psi') + Ket('phi'))/sqrt(2)\n",
    "varSuperPos"
   ]
  },
  {
   "cell_type": "code",
   "execution_count": 14,
   "metadata": {},
   "outputs": [
    {
     "data": {
      "text/latex": [
       "$$\\frac{1}{2} \\left({\\left\\langle \\phi\\right|} + {\\left\\langle \\psi\\right|}\\right) \\left({\\left|\\phi\\right\\rangle } + {\\left|\\psi\\right\\rangle }\\right)$$"
      ],
      "text/plain": [
       "(⟨φ❘ + ⟨ψ❘)⋅(❘φ⟩ + ❘ψ⟩)\n",
       "───────────────────────\n",
       "           2           "
      ]
     },
     "execution_count": 14,
     "metadata": {},
     "output_type": "execute_result"
    }
   ],
   "source": [
    "inner_prod = Dagger(varSuperPos) * varSuperPos\n",
    "inner_prod"
   ]
  },
  {
   "cell_type": "code",
   "execution_count": 15,
   "metadata": {},
   "outputs": [
    {
     "data": {
      "text/latex": [
       "$$\\frac{1}{2} \\left\\langle \\phi \\right. {\\left|\\phi\\right\\rangle } + \\frac{1}{2} \\left\\langle \\phi \\right. {\\left|\\psi\\right\\rangle } + \\frac{1}{2} \\left\\langle \\psi \\right. {\\left|\\phi\\right\\rangle } + \\frac{1}{2} \\left\\langle \\psi \\right. {\\left|\\psi\\right\\rangle }$$"
      ],
      "text/plain": [
       "⟨φ❘φ⟩   ⟨φ❘ψ⟩   ⟨ψ❘φ⟩   ⟨ψ❘ψ⟩\n",
       "───── + ───── + ───── + ─────\n",
       "  2       2       2       2  "
      ]
     },
     "execution_count": 15,
     "metadata": {},
     "output_type": "execute_result"
    }
   ],
   "source": [
    "qapply(inner_prod)"
   ]
  },
  {
   "cell_type": "code",
   "execution_count": 16,
   "metadata": {},
   "outputs": [
    {
     "data": {
      "text/latex": [
       "$$\\frac{{\\left|\\phi\\right\\rangle }}{2} {\\left\\langle \\phi\\right|} + \\frac{{\\left|\\phi\\right\\rangle }}{2} {\\left\\langle \\psi\\right|} + \\frac{{\\left|\\psi\\right\\rangle }}{2} {\\left\\langle \\phi\\right|} + \\frac{{\\left|\\psi\\right\\rangle }}{2} {\\left\\langle \\psi\\right|}$$"
      ],
      "text/plain": [
       "❘φ⟩⋅⟨φ❘   ❘φ⟩⋅⟨ψ❘   ❘ψ⟩⋅⟨φ❘   ❘ψ⟩⋅⟨ψ❘\n",
       "─────── + ─────── + ─────── + ───────\n",
       "   2         2         2         2   "
      ]
     },
     "execution_count": 16,
     "metadata": {},
     "output_type": "execute_result"
    }
   ],
   "source": [
    "density_mat = qapply(varSuperPos*Dagger(varSuperPos))\n",
    "density_mat"
   ]
  },
  {
   "cell_type": "code",
   "execution_count": 17,
   "metadata": {},
   "outputs": [
    {
     "data": {
      "text/latex": [
       "$${\\left|00\\right\\rangle }$$"
      ],
      "text/plain": [
       "❘00⟩"
      ]
     },
     "execution_count": 17,
     "metadata": {},
     "output_type": "execute_result"
    }
   ],
   "source": [
    "varQubit = Qubit('00')\n",
    "varQubit"
   ]
  },
  {
   "cell_type": "code",
   "execution_count": 18,
   "metadata": {},
   "outputs": [
    {
     "data": {
      "text/plain": [
       "True"
      ]
     },
     "execution_count": 18,
     "metadata": {},
     "output_type": "execute_result"
    }
   ],
   "source": [
    "isinstance(varQubit,State)"
   ]
  },
  {
   "cell_type": "code",
   "execution_count": 19,
   "metadata": {},
   "outputs": [
    {
     "data": {
      "text/latex": [
       "$$H_{1}$$"
      ],
      "text/plain": [
       "H \n",
       " 1"
      ]
     },
     "execution_count": 19,
     "metadata": {},
     "output_type": "execute_result"
    }
   ],
   "source": [
    "varGate = HadamardGate(1)\n",
    "varGate"
   ]
  },
  {
   "cell_type": "code",
   "execution_count": 20,
   "metadata": {},
   "outputs": [
    {
     "data": {
      "text/latex": [
       "$$\\left[\\begin{matrix}\\frac{1}{\\sqrt{2}} & \\frac{1}{\\sqrt{2}}\\\\\\frac{1}{\\sqrt{2}} & - \\frac{\\sqrt{2}}{2}\\end{matrix}\\right]$$"
      ],
      "text/plain": [
       "⎡1    1  ⎤\n",
       "⎢──   ── ⎥\n",
       "⎢√2   √2 ⎥\n",
       "⎢        ⎥\n",
       "⎢1   -√2 ⎥\n",
       "⎢──  ────⎥\n",
       "⎣√2   2  ⎦"
      ]
     },
     "execution_count": 20,
     "metadata": {},
     "output_type": "execute_result"
    }
   ],
   "source": [
    "varGate.get_target_matrix()"
   ]
  },
  {
   "cell_type": "code",
   "execution_count": 21,
   "metadata": {},
   "outputs": [
    {
     "data": {
      "text/latex": [
       "Quantum object: dims = [[2], [2]], shape = (2, 2), type = oper, isherm = True\\begin{equation*}\\left(\\begin{array}{*{11}c}0.707 & 0.707\\\\0.707 & -0.707\\\\\\end{array}\\right)\\end{equation*}"
      ],
      "text/plain": [
       "Quantum object: dims = [[2], [2]], shape = (2, 2), type = oper, isherm = True\n",
       "Qobj data =\n",
       "[[ 0.70710678  0.70710678]\n",
       " [ 0.70710678 -0.70710678]]"
      ]
     },
     "execution_count": 21,
     "metadata": {},
     "output_type": "execute_result"
    }
   ],
   "source": [
    "qutipGate = Qobj(varGate.get_target_matrix().tolist())\n",
    "qutipGate"
   ]
  },
  {
   "cell_type": "code",
   "execution_count": 22,
   "metadata": {},
   "outputs": [
    {
     "data": {
      "text/plain": [
       "array([[1/sqrt(2), 1/sqrt(2)],\n",
       "       [1/sqrt(2), -sqrt(2)/2]], dtype=object)"
      ]
     },
     "execution_count": 22,
     "metadata": {},
     "output_type": "execute_result"
    }
   ],
   "source": [
    "# alternatively ...\n",
    "\n",
    "matrix2numpy(varGate.get_target_matrix())"
   ]
  },
  {
   "cell_type": "code",
   "execution_count": 23,
   "metadata": {},
   "outputs": [],
   "source": [
    "from sympy.physics.quantum import gate"
   ]
  },
  {
   "cell_type": "code",
   "execution_count": 24,
   "metadata": {},
   "outputs": [],
   "source": [
    "gate.CNOT?"
   ]
  },
  {
   "cell_type": "code",
   "execution_count": 25,
   "metadata": {},
   "outputs": [
    {
     "data": {
      "text/latex": [
       "$$CNOT_{1,0}$$"
      ],
      "text/plain": [
       "CNOT   \n",
       "    1,0"
      ]
     },
     "execution_count": 25,
     "metadata": {},
     "output_type": "execute_result"
    }
   ],
   "source": [
    "varGate2 = gate.CNOT(1,0)\n",
    "varGate2"
   ]
  },
  {
   "cell_type": "code",
   "execution_count": 26,
   "metadata": {},
   "outputs": [
    {
     "data": {
      "text/latex": [
       "$$\\left[\\begin{matrix}0 & 1\\\\1 & 0\\end{matrix}\\right]$$"
      ],
      "text/plain": [
       "⎡0  1⎤\n",
       "⎢    ⎥\n",
       "⎣1  0⎦"
      ]
     },
     "execution_count": 26,
     "metadata": {},
     "output_type": "execute_result"
    }
   ],
   "source": [
    "varGate2.get_target_matrix()"
   ]
  },
  {
   "cell_type": "code",
   "execution_count": 27,
   "metadata": {},
   "outputs": [
    {
     "data": {
      "text/latex": [
       "$${\\left|00\\right\\rangle }$$"
      ],
      "text/plain": [
       "❘00⟩"
      ]
     },
     "execution_count": 27,
     "metadata": {},
     "output_type": "execute_result"
    }
   ],
   "source": [
    "varState = Qubit('00')\n",
    "varState"
   ]
  },
  {
   "cell_type": "code",
   "execution_count": 28,
   "metadata": {},
   "outputs": [
    {
     "data": {
      "text/latex": [
       "$$\\left ( 0, \\quad 0\\right )$$"
      ],
      "text/plain": [
       "(0, 0)"
      ]
     },
     "execution_count": 28,
     "metadata": {},
     "output_type": "execute_result"
    }
   ],
   "source": [
    "varState.qubit_values"
   ]
  },
  {
   "cell_type": "code",
   "execution_count": 29,
   "metadata": {},
   "outputs": [
    {
     "data": {
      "text/latex": [
       "Quantum object: dims = [[4], [1]], shape = (4, 1), type = ket\\begin{equation*}\\left(\\begin{array}{*{11}c}1.0\\\\0.0\\\\0.0\\\\0.0\\\\\\end{array}\\right)\\end{equation*}"
      ],
      "text/plain": [
       "Quantum object: dims = [[4], [1]], shape = (4, 1), type = ket\n",
       "Qobj data =\n",
       "[[ 1.]\n",
       " [ 0.]\n",
       " [ 0.]\n",
       " [ 0.]]"
      ]
     },
     "execution_count": 29,
     "metadata": {},
     "output_type": "execute_result"
    }
   ],
   "source": [
    "Qobj(represent(varState).tolist())"
   ]
  },
  {
   "cell_type": "code",
   "execution_count": 30,
   "metadata": {},
   "outputs": [
    {
     "data": {
      "text/latex": [
       "$$CNOT_{0,1} H_{0}$$"
      ],
      "text/plain": [
       "CNOT   ⋅H \n",
       "    0,1  0"
      ]
     },
     "execution_count": 30,
     "metadata": {},
     "output_type": "execute_result"
    }
   ],
   "source": [
    "varCircuit = CNOT(0,1) * H(0)\n",
    "varCircuit"
   ]
  },
  {
   "cell_type": "code",
   "execution_count": 31,
   "metadata": {},
   "outputs": [
    {
     "data": {
      "text/plain": [
       "<sympy.physics.quantum.circuitplot.CircuitPlot at 0x119f5c8d0>"
      ]
     },
     "execution_count": 31,
     "metadata": {},
     "output_type": "execute_result"
    },
    {
     "data": {
      "image/png": "[encoded data removed]",
      "text/plain": [
       "<matplotlib.figure.Figure at 0x119f5c550>"
      ]
     },
     "metadata": {},
     "output_type": "display_data"
    }
   ],
   "source": [
    "circuit_plot(varCircuit,nqubits=2)"
   ]
  },
  {
   "cell_type": "code",
   "execution_count": 32,
   "metadata": {},
   "outputs": [
    {
     "data": {
      "text/latex": [
       "$$\\left[\\begin{matrix}\\frac{1}{\\sqrt{2}} & \\frac{1}{\\sqrt{2}} & 0 & 0\\\\0 & 0 & \\frac{1}{\\sqrt{2}} & - \\frac{\\sqrt{2}}{2}\\\\0 & 0 & \\frac{1}{\\sqrt{2}} & \\frac{1}{\\sqrt{2}}\\\\\\frac{1}{\\sqrt{2}} & - \\frac{\\sqrt{2}}{2} & 0 & 0\\end{matrix}\\right]$$"
      ],
      "text/plain": [
       "⎡1    1            ⎤\n",
       "⎢──   ──   0    0  ⎥\n",
       "⎢√2   √2           ⎥\n",
       "⎢                  ⎥\n",
       "⎢          1   -√2 ⎥\n",
       "⎢0    0    ──  ────⎥\n",
       "⎢          √2   2  ⎥\n",
       "⎢                  ⎥\n",
       "⎢          1    1  ⎥\n",
       "⎢0    0    ──   ── ⎥\n",
       "⎢          √2   √2 ⎥\n",
       "⎢                  ⎥\n",
       "⎢1   -√2           ⎥\n",
       "⎢──  ────  0    0  ⎥\n",
       "⎣√2   2            ⎦"
      ]
     },
     "execution_count": 32,
     "metadata": {},
     "output_type": "execute_result"
    }
   ],
   "source": [
    "represent(varCircuit,nqubits=2)"
   ]
  },
  {
   "cell_type": "code",
   "execution_count": 32,
   "metadata": {},
   "outputs": [
    {
     "data": {
      "text/latex": [
       "$$\\left[\\begin{matrix}\\frac{1}{\\sqrt{2}} & 0 & \\frac{1}{\\sqrt{2}} & 0\\\\0 & \\frac{1}{\\sqrt{2}} & 0 & \\frac{1}{\\sqrt{2}}\\\\\\frac{1}{\\sqrt{2}} & 0 & - \\frac{\\sqrt{2}}{2} & 0\\\\0 & \\frac{1}{\\sqrt{2}} & 0 & - \\frac{\\sqrt{2}}{2}\\end{matrix}\\right]$$"
      ],
      "text/plain": [
       "⎡  1              1            ⎤\n",
       "⎢─────    0     ─────      0   ⎥\n",
       "⎢  ___            ___          ⎥\n",
       "⎢╲╱ 2           ╲╱ 2           ⎥\n",
       "⎢                              ⎥\n",
       "⎢         1                1   ⎥\n",
       "⎢  0    ─────     0      ───── ⎥\n",
       "⎢         ___              ___ ⎥\n",
       "⎢       ╲╱ 2             ╲╱ 2  ⎥\n",
       "⎢                              ⎥\n",
       "⎢                 ___          ⎥\n",
       "⎢  1           -╲╱ 2           ⎥\n",
       "⎢─────    0    ───────     0   ⎥\n",
       "⎢  ___            2            ⎥\n",
       "⎢╲╱ 2                          ⎥\n",
       "⎢                              ⎥\n",
       "⎢                          ___ ⎥\n",
       "⎢         1             -╲╱ 2  ⎥\n",
       "⎢  0    ─────     0     ───────⎥\n",
       "⎢         ___              2   ⎥\n",
       "⎣       ╲╱ 2                   ⎦"
      ]
     },
     "execution_count": 32,
     "metadata": {},
     "output_type": "execute_result"
    }
   ],
   "source": [
    "represent(varGate,nqubits=2)"
   ]
  },
  {
   "cell_type": "code",
   "execution_count": 33,
   "metadata": {
    "collapsed": true
   },
   "outputs": [],
   "source": [
    "from sympy.physics.quantum import qft"
   ]
  },
  {
   "cell_type": "code",
   "execution_count": 34,
   "metadata": {},
   "outputs": [
    {
     "data": {
      "text/latex": [
       "$$QFT_{0,3}$$"
      ],
      "text/plain": [
       "QFT   \n",
       "   0,3"
      ]
     },
     "execution_count": 34,
     "metadata": {},
     "output_type": "execute_result"
    }
   ],
   "source": [
    "qft.QFT(0,3)"
   ]
  },
  {
   "cell_type": "code",
   "execution_count": 35,
   "metadata": {
    "collapsed": true
   },
   "outputs": [],
   "source": [
    "qft.Fourier??"
   ]
  },
  {
   "cell_type": "markdown",
   "metadata": {},
   "source": [
    "# Discrete Fourier Transform (DFT)\n",
    "\n",
    "## Prelude to the Quantum Fourier Transform (DFT)\n",
    "\n",
    "Reference: Bacon (2006), Quantum Computing Lecture Notes"
   ]
  },
  {
   "cell_type": "code",
   "execution_count": 33,
   "metadata": {},
   "outputs": [
    {
     "data": {
      "text/latex": [
       "$$\\left ( \\omega, \\quad N\\right )$$"
      ],
      "text/plain": [
       "(ω, N)"
      ]
     },
     "execution_count": 33,
     "metadata": {},
     "output_type": "execute_result"
    }
   ],
   "source": [
    "omega, N = var('omega, N')\n",
    "omega, N"
   ]
  },
  {
   "cell_type": "code",
   "execution_count": 34,
   "metadata": {},
   "outputs": [],
   "source": [
    "var?"
   ]
  },
  {
   "cell_type": "markdown",
   "metadata": {},
   "source": [
    "The N-dimensional DFT matrix $\\Omega$ is defined as:\n",
    "$$ \\Omega_{ij} = \\omega^{i \\cdot j} $$\n",
    "where:\n",
    "$$ \\omega = \\exp^{(2\\pi i/N)} $$"
   ]
  },
  {
   "cell_type": "code",
   "execution_count": 37,
   "metadata": {
    "collapsed": true
   },
   "outputs": [],
   "source": [
    "N = 4"
   ]
  },
  {
   "cell_type": "code",
   "execution_count": 38,
   "metadata": {},
   "outputs": [
    {
     "data": {
      "text/latex": [
       "$$\\left[\\begin{matrix}1 & 1 & 1 & 1\\\\1 & \\omega & \\omega^{2} & \\omega^{3}\\\\1 & \\omega^{2} & \\omega^{4} & \\omega^{6}\\\\1 & \\omega^{3} & \\omega^{6} & \\omega^{9}\\end{matrix}\\right]$$"
      ],
      "text/plain": [
       "⎡1  1   1   1 ⎤\n",
       "⎢             ⎥\n",
       "⎢        2   3⎥\n",
       "⎢1  ω   ω   ω ⎥\n",
       "⎢             ⎥\n",
       "⎢    2   4   6⎥\n",
       "⎢1  ω   ω   ω ⎥\n",
       "⎢             ⎥\n",
       "⎢    3   6   9⎥\n",
       "⎣1  ω   ω   ω ⎦"
      ]
     },
     "execution_count": 38,
     "metadata": {},
     "output_type": "execute_result"
    }
   ],
   "source": [
    "dftMatrix = Matrix(N,N,lambda i,j: omega**(i*j))\n",
    "dftMatrix"
   ]
  },
  {
   "cell_type": "markdown",
   "metadata": {},
   "source": [
    "Use `sympy.lambdify` to cast `dftMatrix` into a numpy expression"
   ]
  },
  {
   "cell_type": "code",
   "execution_count": 39,
   "metadata": {},
   "outputs": [
    {
     "data": {
      "text/plain": [
       "<function numpy.<lambda>>"
      ]
     },
     "execution_count": 39,
     "metadata": {},
     "output_type": "execute_result"
    }
   ],
   "source": [
    "dftMatrixNumpy = lambdify(omega,dftMatrix,\"numpy\")\n",
    "dftMatrixNumpy"
   ]
  },
  {
   "cell_type": "code",
   "execution_count": 40,
   "metadata": {
    "collapsed": true
   },
   "outputs": [],
   "source": [
    "import numpy as np"
   ]
  },
  {
   "cell_type": "code",
   "execution_count": 41,
   "metadata": {},
   "outputs": [],
   "source": [
    "np.i0?"
   ]
  },
  {
   "cell_type": "code",
   "execution_count": 42,
   "metadata": {},
   "outputs": [
    {
     "data": {
      "text/plain": [
       "(1+2.4492935982947064e-16j)"
      ]
     },
     "execution_count": 42,
     "metadata": {},
     "output_type": "execute_result"
    }
   ],
   "source": [
    "np.exp(-2*np.pi*1j)"
   ]
  },
  {
   "cell_type": "code",
   "execution_count": 43,
   "metadata": {},
   "outputs": [
    {
     "data": {
      "text/plain": [
       "matrix([[  1.00000000e+00 +0.00000000e+00j,\n",
       "           1.00000000e+00 +0.00000000e+00j,\n",
       "           1.00000000e+00 +0.00000000e+00j,\n",
       "           1.00000000e+00 +0.00000000e+00j],\n",
       "        [  1.00000000e+00 +0.00000000e+00j,\n",
       "           6.12323400e-17 -1.00000000e+00j,\n",
       "          -1.00000000e+00 -1.22464680e-16j,\n",
       "          -1.83697020e-16 +1.00000000e+00j],\n",
       "        [  1.00000000e+00 +0.00000000e+00j,\n",
       "          -1.00000000e+00 -1.22464680e-16j,\n",
       "           1.00000000e+00 +2.44929360e-16j,\n",
       "          -1.00000000e+00 -3.67394040e-16j],\n",
       "        [  1.00000000e+00 +0.00000000e+00j,\n",
       "          -1.83697020e-16 +1.00000000e+00j,\n",
       "          -1.00000000e+00 -3.67394040e-16j,\n",
       "           5.51091060e-16 -1.00000000e+00j]])"
      ]
     },
     "execution_count": 43,
     "metadata": {},
     "output_type": "execute_result"
    }
   ],
   "source": [
    "dftMatrixNumpy(np.exp(-1j*2*np.pi/N))"
   ]
  },
  {
   "cell_type": "code",
   "execution_count": 44,
   "metadata": {},
   "outputs": [
    {
     "data": {
      "text/latex": [
       "$$- i$$"
      ],
      "text/plain": [
       "-ⅈ"
      ]
     },
     "execution_count": 44,
     "metadata": {},
     "output_type": "execute_result"
    }
   ],
   "source": [
    "gamma = exp(-I*2*pi/N)\n",
    "gamma"
   ]
  },
  {
   "cell_type": "code",
   "execution_count": 45,
   "metadata": {},
   "outputs": [
    {
     "data": {
      "text/latex": [
       "$$\\left[\\begin{matrix}1 & 1 & 1 & 1\\\\1 & - i & -1 & i\\\\1 & -1 & 1 & -1\\\\1 & i & -1 & - i\\end{matrix}\\right]$$"
      ],
      "text/plain": [
       "⎡1  1   1   1 ⎤\n",
       "⎢             ⎥\n",
       "⎢1  -ⅈ  -1  ⅈ ⎥\n",
       "⎢             ⎥\n",
       "⎢1  -1  1   -1⎥\n",
       "⎢             ⎥\n",
       "⎣1  ⅈ   -1  -ⅈ⎦"
      ]
     },
     "execution_count": 45,
     "metadata": {},
     "output_type": "execute_result"
    }
   ],
   "source": [
    "dftMatrix.subs(omega,-I)"
   ]
  },
  {
   "cell_type": "code",
   "execution_count": 46,
   "metadata": {},
   "outputs": [
    {
     "data": {
      "text/plain": [
       "<function numpy.<lambda>>"
      ]
     },
     "execution_count": 46,
     "metadata": {},
     "output_type": "execute_result"
    }
   ],
   "source": [
    "lambdify((),_45,\"numpy\")"
   ]
  },
  {
   "cell_type": "code",
   "execution_count": 47,
   "metadata": {},
   "outputs": [
    {
     "data": {
      "text/plain": [
       "<function numpy.<lambda>>"
      ]
     },
     "execution_count": 47,
     "metadata": {},
     "output_type": "execute_result"
    }
   ],
   "source": [
    "ldft = lambdify(omega, dftMatrix, \"numpy\")\n",
    "ldft"
   ]
  },
  {
   "cell_type": "code",
   "execution_count": 48,
   "metadata": {
    "collapsed": true
   },
   "outputs": [],
   "source": [
    "import numpy as np"
   ]
  },
  {
   "cell_type": "code",
   "execution_count": 49,
   "metadata": {},
   "outputs": [
    {
     "data": {
      "text/plain": [
       "matrix([[  1.00000000e+00 +0.00000000e+00j,\n",
       "           1.00000000e+00 +0.00000000e+00j,\n",
       "           1.00000000e+00 +0.00000000e+00j,\n",
       "           1.00000000e+00 +0.00000000e+00j],\n",
       "        [  1.00000000e+00 +0.00000000e+00j,\n",
       "           6.12323400e-17 -1.00000000e+00j,\n",
       "          -1.00000000e+00 -1.22464680e-16j,\n",
       "          -1.83697020e-16 +1.00000000e+00j],\n",
       "        [  1.00000000e+00 +0.00000000e+00j,\n",
       "          -1.00000000e+00 -1.22464680e-16j,\n",
       "           1.00000000e+00 +2.44929360e-16j,\n",
       "          -1.00000000e+00 -3.67394040e-16j],\n",
       "        [  1.00000000e+00 +0.00000000e+00j,\n",
       "          -1.83697020e-16 +1.00000000e+00j,\n",
       "          -1.00000000e+00 -3.67394040e-16j,\n",
       "           5.51091060e-16 -1.00000000e+00j]])"
      ]
     },
     "execution_count": 49,
     "metadata": {},
     "output_type": "execute_result"
    }
   ],
   "source": [
    "ldft(np.exp(-2*np.pi*1j/N))"
   ]
  },
  {
   "cell_type": "code",
   "execution_count": 50,
   "metadata": {},
   "outputs": [
    {
     "data": {
      "text/plain": [
       "(-4+0j)"
      ]
     },
     "execution_count": 50,
     "metadata": {},
     "output_type": "execute_result"
    }
   ],
   "source": [
    "np.complex(2j*2j)"
   ]
  },
  {
   "cell_type": "code",
   "execution_count": 51,
   "metadata": {},
   "outputs": [
    {
     "data": {
      "text/latex": [
       "$$e^{2.0 i}$$"
      ],
      "text/plain": [
       " 2.0⋅ⅈ\n",
       "ℯ     "
      ]
     },
     "execution_count": 51,
     "metadata": {},
     "output_type": "execute_result"
    }
   ],
   "source": [
    "exp(np.complex(2j))"
   ]
  },
  {
   "cell_type": "code",
   "execution_count": 52,
   "metadata": {},
   "outputs": [
    {
     "data": {
      "text/latex": [
       "$${{\\left|0\\right\\rangle }}\\otimes {{\\left|0\\right\\rangle }}$$"
      ],
      "text/plain": [
       "❘0⟩⨂ ❘0⟩"
      ]
     },
     "execution_count": 52,
     "metadata": {},
     "output_type": "execute_result"
    }
   ],
   "source": [
    "TensorProduct(Qubit(0),Qubit(0))"
   ]
  },
  {
   "cell_type": "code",
   "execution_count": 53,
   "metadata": {},
   "outputs": [
    {
     "data": {
      "text/latex": [
       "$${\\left|00\\right\\rangle }$$"
      ],
      "text/plain": [
       "❘00⟩"
      ]
     },
     "execution_count": 53,
     "metadata": {},
     "output_type": "execute_result"
    }
   ],
   "source": [
    "Qubit('00')"
   ]
  },
  {
   "cell_type": "code",
   "execution_count": 54,
   "metadata": {},
   "outputs": [
    {
     "data": {
      "text/latex": [
       "$${a}$$"
      ],
      "text/plain": [
       "a"
      ]
     },
     "execution_count": 54,
     "metadata": {},
     "output_type": "execute_result"
    }
   ],
   "source": [
    "Psi.boson.BosonOp(\"a\")"
   ]
  },
  {
   "cell_type": "code",
   "execution_count": 55,
   "metadata": {},
   "outputs": [],
   "source": [
    "qapply?"
   ]
  },
  {
   "cell_type": "code",
   "execution_count": 56,
   "metadata": {},
   "outputs": [
    {
     "ename": "NameError",
     "evalue": "name '_55' is not defined",
     "output_type": "error",
     "traceback": [
      "\u001b[0;31m---------------------------------------------------------------------------\u001b[0m",
      "\u001b[0;31mNameError\u001b[0m                                 Traceback (most recent call last)",
      "\u001b[0;32m<ipython-input-56-10a1aa7f9f8e>\u001b[0m in \u001b[0;36m<module>\u001b[0;34m()\u001b[0m\n\u001b[0;32m----> 1\u001b[0;31m \u001b[0msp\u001b[0m\u001b[0;34m.\u001b[0m\u001b[0mphysics\u001b[0m\u001b[0;34m.\u001b[0m\u001b[0mquantum\u001b[0m\u001b[0;34m.\u001b[0m\u001b[0moperatorset\u001b[0m\u001b[0;34m.\u001b[0m\u001b[0moperators_to_state\u001b[0m\u001b[0;34m(\u001b[0m\u001b[0m_55\u001b[0m\u001b[0;34m)\u001b[0m\u001b[0;34m\u001b[0m\u001b[0m\n\u001b[0m",
      "\u001b[0;31mNameError\u001b[0m: name '_55' is not defined"
     ]
    }
   ],
   "source": [
    "sp.physics.quantum.operatorset.operators_to_state(_55)"
   ]
  },
  {
   "cell_type": "code",
   "execution_count": null,
   "metadata": {},
   "outputs": [],
   "source": [
    "Psi.boson.BosonOp('a')"
   ]
  },
  {
   "cell_type": "code",
   "execution_count": null,
   "metadata": {},
   "outputs": [],
   "source": [
    "Psi.boson.BosonOp?"
   ]
  },
  {
   "cell_type": "code",
   "execution_count": 60,
   "metadata": {
    "collapsed": true
   },
   "outputs": [],
   "source": [
    "matrix_to_qubit?"
   ]
  },
  {
   "cell_type": "code",
   "execution_count": 61,
   "metadata": {
    "collapsed": true
   },
   "outputs": [],
   "source": [
    "from sympy.physics import qho_1d as sho"
   ]
  },
  {
   "cell_type": "code",
   "execution_count": 74,
   "metadata": {},
   "outputs": [],
   "source": [
    "from sympy.physics import hydrogen as hyd"
   ]
  },
  {
   "cell_type": "code",
   "execution_count": 77,
   "metadata": {
    "collapsed": true
   },
   "outputs": [],
   "source": [
    "from sympy.physics import hep"
   ]
  },
  {
   "cell_type": "code",
   "execution_count": 80,
   "metadata": {
    "collapsed": true
   },
   "outputs": [],
   "source": [
    "from sympy.physics import optics"
   ]
  },
  {
   "cell_type": "code",
   "execution_count": 82,
   "metadata": {},
   "outputs": [],
   "source": [
    "optics.gaussopt?"
   ]
  },
  {
   "cell_type": "code",
   "execution_count": null,
   "metadata": {
    "collapsed": true
   },
   "outputs": [],
   "source": []
  }
 ],
 "metadata": {
  "kernelspec": {
   "display_name": "Python 3",
   "language": "python",
   "name": "python3"
  },
  "language_info": {
   "codemirror_mode": {
    "name": "ipython",
    "version": 3
   },
   "file_extension": ".py",
   "mimetype": "text/x-python",
   "name": "python",
   "nbconvert_exporter": "python",
   "pygments_lexer": "ipython3",
   "version": "3.6.3"
  },
  "latex_envs": {
   "bibliofile": "biblio.bib",
   "cite_by": "apalike",
   "current_citInitial": 1,
   "eqLabelWithNumbers": true,
   "eqNumInitial": 0
  },
  "toc": {
   "nav_menu": {},
   "number_sections": true,
   "sideBar": false,
   "skip_h1_title": false,
   "toc_cell": true,
   "toc_position": {
    "height": "189px",
    "left": "804.95px",
    "right": "68.05px",
    "top": "120px",
    "width": "403px"
   },
   "toc_section_display": "block",
   "toc_window_display": true
  },
  "varInspector": {
   "cols": {
    "lenName": 16,
    "lenType": 16,
    "lenVar": 40
   },
   "kernels_config": {
    "python": {
     "delete_cmd_postfix": "",
     "delete_cmd_prefix": "del ",
     "library": "var_list.py",
     "varRefreshCmd": "print(var_dic_list())"
    },
    "r": {
     "delete_cmd_postfix": ") ",
     "delete_cmd_prefix": "rm(",
     "library": "var_list.r",
     "varRefreshCmd": "cat(var_dic_list()) "
    }
   },
   "types_to_exclude": [
    "module",
    "function",
    "builtin_function_or_method",
    "instance",
    "_Feature"
   ],
   "window_display": false
  }
 },
 "nbformat": 4,
 "nbformat_minor": 1
}
